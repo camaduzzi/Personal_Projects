{
 "cells": [
  {
   "cell_type": "markdown",
   "metadata": {
    "id": "nipR-_niaVAM"
   },
   "source": [
    "## DATA602 Final Project - Education"
   ]
  },
  {
   "cell_type": "markdown",
   "metadata": {
    "id": "2aZYRAg85dqy"
   },
   "source": [
    "This notebook serves as an archive of the resources created and needed to complete the project, which are hyperlinked. These resources include data, attribute or variable descriptions, notebooks, and slides.\n",
    "\n",
    "\n"
   ]
  },
  {
   "cell_type": "markdown",
   "metadata": {
    "id": "8yEYWoI-Z6AF"
   },
   "source": [
    "### *Data*"
   ]
  },
  {
   "cell_type": "markdown",
   "metadata": {
    "id": "j5XIu07gaFct"
   },
   "source": [
    "[Washington, D.C., Maryland, Virginia (DMV) Area Dataset](https://docs.google.com/spreadsheets/d/1qaQfbv0CLKzykP13QPHHyUyIqST8JDRUdHCSUuA0-SI/edit#gid=1676071676)   \n",
    "[New York State (NYS) Dataset](https://docs.google.com/spreadsheets/d/1BcBrqixk7F9hDnQp4P3ZsECTQWqw1dPfWKz759nYui0/edit#gid=1429495196)   \n",
    "[National (USA) Dataset](https://docs.google.com/spreadsheets/d/1jQWi7e40JRi2r9BoQxbhpnnIWFohFuTLojsy0KBG2PI/edit#gid=1653859445)   \n",
    "\n"
   ]
  },
  {
   "cell_type": "markdown",
   "metadata": {
    "id": "Ck8nIxnJag7P"
   },
   "source": [
    "### *Attribute Descriptions*"
   ]
  },
  {
   "cell_type": "markdown",
   "metadata": {
    "id": "wImoM8THazgH"
   },
   "source": [
    "[Dataset Attribute Descriptions](https://docs.google.com/spreadsheets/d/1yDXbzDf8rnjmL-o4Ioxq_0xDew3rf9NK/edit#gid=2122460635)\n",
    "\n"
   ]
  },
  {
   "cell_type": "markdown",
   "metadata": {
    "id": "PkOoJg4RZ-I-"
   },
   "source": [
    "### *Notebooks*"
   ]
  },
  {
   "cell_type": "markdown",
   "metadata": {
    "id": "HwV09HPGZryq"
   },
   "source": [
    "[Data Cleaning Script](https://colab.research.google.com/drive/1-P63tPSGRuw2JGAtmeBbHxUFUw_xMf24?authuser=1)   \n",
    "[Descriptive Visualizations](https://colab.research.google.com/drive/1qHqwCTI6iinmjOXfgfErPYadz-aeSzho?authuser=1#scrollTo=PBR1SCP-zOP6)  \n",
    "[Machine Learning Models](https://colab.research.google.com/drive/1IY_KmiHQncxP8GDHra0wQIi9TcmpMVY5?authuser=1) \n",
    "\n"
   ]
  },
  {
   "cell_type": "markdown",
   "metadata": {
    "id": "5PWiljKiVzSh"
   },
   "source": [
    "### *Slide Deck*"
   ]
  },
  {
   "cell_type": "markdown",
   "metadata": {
    "id": "a9hLK8M5V2oe"
   },
   "source": [
    "[Project Slides](https://docs.google.com/presentation/d/1V14AHo612NoQ59akO0H7eKWb5u9zvoaxApGdYtzKMNE/edit#slide=id.g106b1eb05df_0_8175)"
   ]
  }
 ],
 "metadata": {
  "colab": {
   "collapsed_sections": [],
   "name": "Final Project Archive.ipynb",
   "provenance": []
  },
  "kernelspec": {
   "display_name": "Python 3",
   "language": "python",
   "name": "python3"
  },
  "language_info": {
   "codemirror_mode": {
    "name": "ipython",
    "version": 3
   },
   "file_extension": ".py",
   "mimetype": "text/x-python",
   "name": "python",
   "nbconvert_exporter": "python",
   "pygments_lexer": "ipython3",
   "version": "3.8.5"
  }
 },
 "nbformat": 4,
 "nbformat_minor": 1
}

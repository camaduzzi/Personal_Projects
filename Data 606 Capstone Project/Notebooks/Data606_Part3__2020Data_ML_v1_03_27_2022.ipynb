{
  "cells": [
    {
      "cell_type": "code",
      "execution_count": 1,
      "metadata": {
        "id": "b3dpFs6f4CQG",
        "colab": {
          "base_uri": "https://localhost:8080/",
          "height": 1000
        },
        "outputId": "979c06c0-8e7a-44df-ae7b-1d19add647a4"
      },
      "outputs": [
        {
          "output_type": "stream",
          "name": "stdout",
          "text": [
            "Collecting lazypredict\n",
            "  Downloading lazypredict-0.2.9-py2.py3-none-any.whl (12 kB)\n",
            "Requirement already satisfied: six==1.15.0 in /usr/local/lib/python3.7/dist-packages (from lazypredict) (1.15.0)\n",
            "Collecting scipy==1.5.4\n",
            "  Downloading scipy-1.5.4-cp37-cp37m-manylinux1_x86_64.whl (25.9 MB)\n",
            "\u001b[K     |████████████████████████████████| 25.9 MB 38.6 MB/s \n",
            "\u001b[?25hCollecting joblib==1.0.0\n",
            "  Downloading joblib-1.0.0-py3-none-any.whl (302 kB)\n",
            "\u001b[K     |████████████████████████████████| 302 kB 44.3 MB/s \n",
            "\u001b[?25hCollecting numpy==1.19.1\n",
            "  Downloading numpy-1.19.1-cp37-cp37m-manylinux2010_x86_64.whl (14.5 MB)\n",
            "\u001b[K     |████████████████████████████████| 14.5 MB 1.3 MB/s \n",
            "\u001b[?25hCollecting tqdm==4.56.0\n",
            "  Downloading tqdm-4.56.0-py2.py3-none-any.whl (72 kB)\n",
            "\u001b[K     |████████████████████████████████| 72 kB 395 kB/s \n",
            "\u001b[?25hCollecting xgboost==1.1.1\n",
            "  Downloading xgboost-1.1.1-py3-none-manylinux2010_x86_64.whl (127.6 MB)\n",
            "\u001b[K     |████████████████████████████████| 127.6 MB 18 kB/s \n",
            "\u001b[?25hCollecting PyYAML==5.3.1\n",
            "  Downloading PyYAML-5.3.1.tar.gz (269 kB)\n",
            "\u001b[K     |████████████████████████████████| 269 kB 10.9 MB/s \n",
            "\u001b[?25hCollecting pytest==5.4.3\n",
            "  Downloading pytest-5.4.3-py3-none-any.whl (248 kB)\n",
            "\u001b[K     |████████████████████████████████| 248 kB 44.6 MB/s \n",
            "\u001b[?25hRequirement already satisfied: click==7.1.2 in /usr/local/lib/python3.7/dist-packages (from lazypredict) (7.1.2)\n",
            "Collecting pandas==1.0.5\n",
            "  Downloading pandas-1.0.5-cp37-cp37m-manylinux1_x86_64.whl (10.1 MB)\n",
            "\u001b[K     |████████████████████████████████| 10.1 MB 17.8 MB/s \n",
            "\u001b[?25hCollecting scikit-learn==0.23.1\n",
            "  Downloading scikit_learn-0.23.1-cp37-cp37m-manylinux1_x86_64.whl (6.8 MB)\n",
            "\u001b[K     |████████████████████████████████| 6.8 MB 27.3 MB/s \n",
            "\u001b[?25hCollecting lightgbm==2.3.1\n",
            "  Downloading lightgbm-2.3.1-py2.py3-none-manylinux1_x86_64.whl (1.2 MB)\n",
            "\u001b[K     |████████████████████████████████| 1.2 MB 26.2 MB/s \n",
            "\u001b[?25hRequirement already satisfied: python-dateutil>=2.6.1 in /usr/local/lib/python3.7/dist-packages (from pandas==1.0.5->lazypredict) (2.8.2)\n",
            "Requirement already satisfied: pytz>=2017.2 in /usr/local/lib/python3.7/dist-packages (from pandas==1.0.5->lazypredict) (2022.1)\n",
            "Requirement already satisfied: py>=1.5.0 in /usr/local/lib/python3.7/dist-packages (from pytest==5.4.3->lazypredict) (1.11.0)\n",
            "Requirement already satisfied: more-itertools>=4.0.0 in /usr/local/lib/python3.7/dist-packages (from pytest==5.4.3->lazypredict) (8.12.0)\n",
            "Requirement already satisfied: wcwidth in /usr/local/lib/python3.7/dist-packages (from pytest==5.4.3->lazypredict) (0.2.5)\n",
            "Requirement already satisfied: packaging in /usr/local/lib/python3.7/dist-packages (from pytest==5.4.3->lazypredict) (21.3)\n",
            "Requirement already satisfied: importlib-metadata>=0.12 in /usr/local/lib/python3.7/dist-packages (from pytest==5.4.3->lazypredict) (4.11.3)\n",
            "Requirement already satisfied: attrs>=17.4.0 in /usr/local/lib/python3.7/dist-packages (from pytest==5.4.3->lazypredict) (21.4.0)\n",
            "Collecting pluggy<1.0,>=0.12\n",
            "  Downloading pluggy-0.13.1-py2.py3-none-any.whl (18 kB)\n",
            "Requirement already satisfied: threadpoolctl>=2.0.0 in /usr/local/lib/python3.7/dist-packages (from scikit-learn==0.23.1->lazypredict) (3.1.0)\n",
            "Requirement already satisfied: typing-extensions>=3.6.4 in /usr/local/lib/python3.7/dist-packages (from importlib-metadata>=0.12->pytest==5.4.3->lazypredict) (4.2.0)\n",
            "Requirement already satisfied: zipp>=0.5 in /usr/local/lib/python3.7/dist-packages (from importlib-metadata>=0.12->pytest==5.4.3->lazypredict) (3.8.0)\n",
            "Requirement already satisfied: pyparsing!=3.0.5,>=2.0.2 in /usr/local/lib/python3.7/dist-packages (from packaging->pytest==5.4.3->lazypredict) (3.0.8)\n",
            "Building wheels for collected packages: PyYAML\n",
            "  Building wheel for PyYAML (setup.py) ... \u001b[?25l\u001b[?25hdone\n",
            "  Created wheel for PyYAML: filename=PyYAML-5.3.1-cp37-cp37m-linux_x86_64.whl size=44636 sha256=d3c6d89837e040aa583d038870ea06d99684f3dc62ef53dc0ec965ec84b76f2e\n",
            "  Stored in directory: /root/.cache/pip/wheels/5e/03/1e/e1e954795d6f35dfc7b637fe2277bff021303bd9570ecea653\n",
            "Successfully built PyYAML\n",
            "Installing collected packages: numpy, scipy, joblib, scikit-learn, pluggy, xgboost, tqdm, PyYAML, pytest, pandas, lightgbm, lazypredict\n",
            "  Attempting uninstall: numpy\n",
            "    Found existing installation: numpy 1.21.6\n",
            "    Uninstalling numpy-1.21.6:\n",
            "      Successfully uninstalled numpy-1.21.6\n",
            "  Attempting uninstall: scipy\n",
            "    Found existing installation: scipy 1.4.1\n",
            "    Uninstalling scipy-1.4.1:\n",
            "      Successfully uninstalled scipy-1.4.1\n",
            "  Attempting uninstall: joblib\n",
            "    Found existing installation: joblib 1.1.0\n",
            "    Uninstalling joblib-1.1.0:\n",
            "      Successfully uninstalled joblib-1.1.0\n",
            "  Attempting uninstall: scikit-learn\n",
            "    Found existing installation: scikit-learn 1.0.2\n",
            "    Uninstalling scikit-learn-1.0.2:\n",
            "      Successfully uninstalled scikit-learn-1.0.2\n",
            "  Attempting uninstall: pluggy\n",
            "    Found existing installation: pluggy 0.7.1\n",
            "    Uninstalling pluggy-0.7.1:\n",
            "      Successfully uninstalled pluggy-0.7.1\n",
            "  Attempting uninstall: xgboost\n",
            "    Found existing installation: xgboost 0.90\n",
            "    Uninstalling xgboost-0.90:\n",
            "      Successfully uninstalled xgboost-0.90\n",
            "  Attempting uninstall: tqdm\n",
            "    Found existing installation: tqdm 4.64.0\n",
            "    Uninstalling tqdm-4.64.0:\n",
            "      Successfully uninstalled tqdm-4.64.0\n",
            "  Attempting uninstall: PyYAML\n",
            "    Found existing installation: PyYAML 3.13\n",
            "    Uninstalling PyYAML-3.13:\n",
            "      Successfully uninstalled PyYAML-3.13\n",
            "  Attempting uninstall: pytest\n",
            "    Found existing installation: pytest 3.6.4\n",
            "    Uninstalling pytest-3.6.4:\n",
            "      Successfully uninstalled pytest-3.6.4\n",
            "  Attempting uninstall: pandas\n",
            "    Found existing installation: pandas 1.3.5\n",
            "    Uninstalling pandas-1.3.5:\n",
            "      Successfully uninstalled pandas-1.3.5\n",
            "  Attempting uninstall: lightgbm\n",
            "    Found existing installation: lightgbm 2.2.3\n",
            "    Uninstalling lightgbm-2.2.3:\n",
            "      Successfully uninstalled lightgbm-2.2.3\n",
            "\u001b[31mERROR: pip's dependency resolver does not currently take into account all the packages that are installed. This behaviour is the source of the following dependency conflicts.\n",
            "tensorflow 2.8.0 requires tf-estimator-nightly==2.8.0.dev2021122109, which is not installed.\n",
            "yellowbrick 1.4 requires scikit-learn>=1.0.0, but you have scikit-learn 0.23.1 which is incompatible.\n",
            "tensorflow 2.8.0 requires numpy>=1.20, but you have numpy 1.19.1 which is incompatible.\n",
            "imbalanced-learn 0.8.1 requires scikit-learn>=0.24, but you have scikit-learn 0.23.1 which is incompatible.\n",
            "google-colab 1.0.0 requires pandas>=1.1.0; python_version >= \"3.0\", but you have pandas 1.0.5 which is incompatible.\n",
            "datascience 0.10.6 requires folium==0.2.1, but you have folium 0.8.3 which is incompatible.\n",
            "albumentations 0.1.12 requires imgaug<0.2.7,>=0.2.5, but you have imgaug 0.2.9 which is incompatible.\u001b[0m\n",
            "Successfully installed PyYAML-5.3.1 joblib-1.0.0 lazypredict-0.2.9 lightgbm-2.3.1 numpy-1.19.1 pandas-1.0.5 pluggy-0.13.1 pytest-5.4.3 scikit-learn-0.23.1 scipy-1.5.4 tqdm-4.56.0 xgboost-1.1.1\n"
          ]
        },
        {
          "output_type": "display_data",
          "data": {
            "application/vnd.colab-display-data+json": {
              "pip_warning": {
                "packages": [
                  "numpy"
                ]
              }
            }
          },
          "metadata": {}
        },
        {
          "output_type": "stream",
          "name": "stdout",
          "text": [
            "Collecting scipy==1.7.1\n",
            "  Downloading scipy-1.7.1-cp37-cp37m-manylinux_2_5_x86_64.manylinux1_x86_64.whl (28.5 MB)\n",
            "\u001b[K     |████████████████████████████████| 28.5 MB 1.3 MB/s \n",
            "\u001b[?25hRequirement already satisfied: numpy<1.23.0,>=1.16.5 in /usr/local/lib/python3.7/dist-packages (from scipy==1.7.1) (1.19.1)\n",
            "Installing collected packages: scipy\n",
            "  Attempting uninstall: scipy\n",
            "    Found existing installation: scipy 1.5.4\n",
            "    Uninstalling scipy-1.5.4:\n",
            "      Successfully uninstalled scipy-1.5.4\n",
            "\u001b[31mERROR: pip's dependency resolver does not currently take into account all the packages that are installed. This behaviour is the source of the following dependency conflicts.\n",
            "yellowbrick 1.4 requires scikit-learn>=1.0.0, but you have scikit-learn 0.23.1 which is incompatible.\n",
            "lazypredict 0.2.9 requires scipy==1.5.4, but you have scipy 1.7.1 which is incompatible.\n",
            "imbalanced-learn 0.8.1 requires scikit-learn>=0.24, but you have scikit-learn 0.23.1 which is incompatible.\n",
            "albumentations 0.1.12 requires imgaug<0.2.7,>=0.2.5, but you have imgaug 0.2.9 which is incompatible.\u001b[0m\n",
            "Successfully installed scipy-1.7.1\n"
          ]
        }
      ],
      "source": [
        "!pip install lazypredict\n",
        "!pip install scipy==1.7.1"
      ]
    },
    {
      "cell_type": "code",
      "source": [
        "#cloning the model\n",
        "!git clone https://github.com/shankarpandala/lazypredict.git"
      ],
      "metadata": {
        "colab": {
          "base_uri": "https://localhost:8080/"
        },
        "id": "_JRBDlDb3zDi",
        "outputId": "92851641-1934-485c-a63b-770b7bc35002"
      },
      "execution_count": 2,
      "outputs": [
        {
          "output_type": "stream",
          "name": "stdout",
          "text": [
            "Cloning into 'lazypredict'...\n",
            "remote: Enumerating objects: 773, done.\u001b[K\n",
            "remote: Counting objects: 100% (128/128), done.\u001b[K\n",
            "remote: Compressing objects: 100% (32/32), done.\u001b[K\n",
            "remote: Total 773 (delta 105), reused 112 (delta 96), pack-reused 645\u001b[K\n",
            "Receiving objects: 100% (773/773), 165.35 KiB | 6.61 MiB/s, done.\n",
            "Resolving deltas: 100% (425/425), done.\n"
          ]
        }
      ]
    },
    {
      "cell_type": "code",
      "execution_count": 3,
      "metadata": {
        "id": "xdQapZtD92_f",
        "colab": {
          "base_uri": "https://localhost:8080/"
        },
        "outputId": "af946cfb-4b25-4dae-c124-3c5824aebd1e"
      },
      "outputs": [
        {
          "output_type": "stream",
          "name": "stdout",
          "text": [
            "Mounted at /content/gdrive\n"
          ]
        }
      ],
      "source": [
        "from google.colab import drive\n",
        "drive.mount ('/content/gdrive')"
      ]
    },
    {
      "cell_type": "code",
      "execution_count": 4,
      "metadata": {
        "id": "9UjYKINc-Dxk",
        "colab": {
          "base_uri": "https://localhost:8080/"
        },
        "outputId": "33c5daac-973c-4770-8bbd-848d153cab12"
      },
      "outputs": [
        {
          "output_type": "stream",
          "name": "stderr",
          "text": [
            "/usr/local/lib/python3.7/dist-packages/sklearn/utils/deprecation.py:143: FutureWarning: The sklearn.utils.testing module is  deprecated in version 0.22 and will be removed in version 0.24. The corresponding classes / functions should instead be imported from sklearn.utils. Anything that cannot be imported from sklearn.utils is now part of the private API.\n",
            "  warnings.warn(message, FutureWarning)\n"
          ]
        }
      ],
      "source": [
        "import pandas as pd\n",
        "\n",
        "import numpy as np \n",
        "import regex as re\n",
        "\n",
        "import matplotlib.pyplot as plt\n",
        "% matplotlib inline\n",
        "\n",
        "import seaborn as sns\n",
        "\n",
        "# Import LazyPredict libraries\n",
        "import lazypredict\n",
        "from lazypredict.Supervised import LazyClassifier\n",
        "\n",
        "from sklearn.preprocessing import MinMaxScaler\n",
        "from sklearn.preprocessing import StandardScaler\n",
        "from sklearn.preprocessing import RobustScaler\n",
        "from sklearn.preprocessing import Normalizer\n",
        "from sklearn.preprocessing import PowerTransformer\n",
        "from sklearn.preprocessing import QuantileTransformer\n",
        "from sklearn.preprocessing import OneHotEncoder\n",
        "\n",
        "from sklearn.pipeline import make_pipeline\n",
        "\n",
        "from sklearn.compose import ColumnTransformer\n",
        "\n",
        "\n",
        "from sklearn.linear_model import LinearRegression\n",
        "from sklearn.metrics import mean_squared_error, r2_score, explained_variance_score\n",
        "\n",
        "\n",
        "from sklearn.model_selection import RepeatedKFold\n",
        "from sklearn.linear_model import Ridge\n",
        "\n",
        "from sklearn import preprocessing\n",
        "\n",
        "\n",
        "from sklearn.model_selection import train_test_split, cross_val_score\n",
        "\n",
        "\n",
        "from sklearn import metrics\n",
        "\n",
        "from sklearn.metrics import accuracy_score\n",
        "\n",
        "from numpy import mean\n",
        "from numpy import std\n",
        "from scipy.stats import sem\n",
        "\n",
        "from sklearn.metrics import classification_report, confusion_matrix, accuracy_score\n",
        "\n",
        "\n",
        "\n",
        "from sklearn.metrics import roc_curve, auc\n",
        "from sklearn.metrics import roc_auc_score\n",
        "\n"
      ]
    },
    {
      "cell_type": "code",
      "execution_count": 5,
      "metadata": {
        "id": "NCFtgPbx-IkY"
      },
      "outputs": [],
      "source": [
        "df = pd.read_csv('/content/gdrive/Shareddrives/DATA_606_Capstone/Merged_data/df_institutional_data_allyrs.csv')"
      ]
    },
    {
      "cell_type": "code",
      "execution_count": 6,
      "metadata": {
        "id": "D4lp4lgy-K4q",
        "colab": {
          "base_uri": "https://localhost:8080/",
          "height": 235
        },
        "outputId": "0359f8b6-ee1c-4eef-ae76-ca02e34835a4"
      },
      "outputs": [
        {
          "output_type": "execute_result",
          "data": {
            "text/plain": [
              "   YEAR  UNITID STABBR                               INSTNM  OBEREG  HDEGOFFR  \\\n",
              "0  2015  100654     AL             Alabama A & M University       5        12   \n",
              "1  2015  100663     AL  University of Alabama at Birmingham       5        11   \n",
              "2  2015  100690     AL                   Amridge University       5        12   \n",
              "3  2015  100706     AL  University of Alabama in Huntsville       5        11   \n",
              "4  2015  100724     AL             Alabama State University       5        11   \n",
              "\n",
              "   GROFFER  HBCU  LOCALE  INSTCAT  ...  ADMCON3  ADMCON4  ADMCON5  ADMCON6  \\\n",
              "0        1     1      12        2  ...        1        2        3        2   \n",
              "1        1     2      12        2  ...        1        1        3        3   \n",
              "2        1     2      12        2  ...        0        0        0        0   \n",
              "3        1     2      12        2  ...        1        1        3        2   \n",
              "4        1     1      12        2  ...        2        3        3        3   \n",
              "\n",
              "   ADMCON7  ADMCON8  ADMCON9  SATNUM  ACTNUM  EFYTOTLT  \n",
              "0        1        1        3     136    1375      4549  \n",
              "1        1        3        3     106    1497     13465  \n",
              "2        0        0        0       0       0       401  \n",
              "3        1        1        3     183     975      6540  \n",
              "4        1        1        3     212     894      5456  \n",
              "\n",
              "[5 rows x 53 columns]"
            ],
            "text/html": [
              "\n",
              "  <div id=\"df-413cbc75-2bb0-465a-be79-148b1963d24a\">\n",
              "    <div class=\"colab-df-container\">\n",
              "      <div>\n",
              "<style scoped>\n",
              "    .dataframe tbody tr th:only-of-type {\n",
              "        vertical-align: middle;\n",
              "    }\n",
              "\n",
              "    .dataframe tbody tr th {\n",
              "        vertical-align: top;\n",
              "    }\n",
              "\n",
              "    .dataframe thead th {\n",
              "        text-align: right;\n",
              "    }\n",
              "</style>\n",
              "<table border=\"1\" class=\"dataframe\">\n",
              "  <thead>\n",
              "    <tr style=\"text-align: right;\">\n",
              "      <th></th>\n",
              "      <th>YEAR</th>\n",
              "      <th>UNITID</th>\n",
              "      <th>STABBR</th>\n",
              "      <th>INSTNM</th>\n",
              "      <th>OBEREG</th>\n",
              "      <th>HDEGOFFR</th>\n",
              "      <th>GROFFER</th>\n",
              "      <th>HBCU</th>\n",
              "      <th>LOCALE</th>\n",
              "      <th>INSTCAT</th>\n",
              "      <th>...</th>\n",
              "      <th>ADMCON3</th>\n",
              "      <th>ADMCON4</th>\n",
              "      <th>ADMCON5</th>\n",
              "      <th>ADMCON6</th>\n",
              "      <th>ADMCON7</th>\n",
              "      <th>ADMCON8</th>\n",
              "      <th>ADMCON9</th>\n",
              "      <th>SATNUM</th>\n",
              "      <th>ACTNUM</th>\n",
              "      <th>EFYTOTLT</th>\n",
              "    </tr>\n",
              "  </thead>\n",
              "  <tbody>\n",
              "    <tr>\n",
              "      <th>0</th>\n",
              "      <td>2015</td>\n",
              "      <td>100654</td>\n",
              "      <td>AL</td>\n",
              "      <td>Alabama A &amp; M University</td>\n",
              "      <td>5</td>\n",
              "      <td>12</td>\n",
              "      <td>1</td>\n",
              "      <td>1</td>\n",
              "      <td>12</td>\n",
              "      <td>2</td>\n",
              "      <td>...</td>\n",
              "      <td>1</td>\n",
              "      <td>2</td>\n",
              "      <td>3</td>\n",
              "      <td>2</td>\n",
              "      <td>1</td>\n",
              "      <td>1</td>\n",
              "      <td>3</td>\n",
              "      <td>136</td>\n",
              "      <td>1375</td>\n",
              "      <td>4549</td>\n",
              "    </tr>\n",
              "    <tr>\n",
              "      <th>1</th>\n",
              "      <td>2015</td>\n",
              "      <td>100663</td>\n",
              "      <td>AL</td>\n",
              "      <td>University of Alabama at Birmingham</td>\n",
              "      <td>5</td>\n",
              "      <td>11</td>\n",
              "      <td>1</td>\n",
              "      <td>2</td>\n",
              "      <td>12</td>\n",
              "      <td>2</td>\n",
              "      <td>...</td>\n",
              "      <td>1</td>\n",
              "      <td>1</td>\n",
              "      <td>3</td>\n",
              "      <td>3</td>\n",
              "      <td>1</td>\n",
              "      <td>3</td>\n",
              "      <td>3</td>\n",
              "      <td>106</td>\n",
              "      <td>1497</td>\n",
              "      <td>13465</td>\n",
              "    </tr>\n",
              "    <tr>\n",
              "      <th>2</th>\n",
              "      <td>2015</td>\n",
              "      <td>100690</td>\n",
              "      <td>AL</td>\n",
              "      <td>Amridge University</td>\n",
              "      <td>5</td>\n",
              "      <td>12</td>\n",
              "      <td>1</td>\n",
              "      <td>2</td>\n",
              "      <td>12</td>\n",
              "      <td>2</td>\n",
              "      <td>...</td>\n",
              "      <td>0</td>\n",
              "      <td>0</td>\n",
              "      <td>0</td>\n",
              "      <td>0</td>\n",
              "      <td>0</td>\n",
              "      <td>0</td>\n",
              "      <td>0</td>\n",
              "      <td>0</td>\n",
              "      <td>0</td>\n",
              "      <td>401</td>\n",
              "    </tr>\n",
              "    <tr>\n",
              "      <th>3</th>\n",
              "      <td>2015</td>\n",
              "      <td>100706</td>\n",
              "      <td>AL</td>\n",
              "      <td>University of Alabama in Huntsville</td>\n",
              "      <td>5</td>\n",
              "      <td>11</td>\n",
              "      <td>1</td>\n",
              "      <td>2</td>\n",
              "      <td>12</td>\n",
              "      <td>2</td>\n",
              "      <td>...</td>\n",
              "      <td>1</td>\n",
              "      <td>1</td>\n",
              "      <td>3</td>\n",
              "      <td>2</td>\n",
              "      <td>1</td>\n",
              "      <td>1</td>\n",
              "      <td>3</td>\n",
              "      <td>183</td>\n",
              "      <td>975</td>\n",
              "      <td>6540</td>\n",
              "    </tr>\n",
              "    <tr>\n",
              "      <th>4</th>\n",
              "      <td>2015</td>\n",
              "      <td>100724</td>\n",
              "      <td>AL</td>\n",
              "      <td>Alabama State University</td>\n",
              "      <td>5</td>\n",
              "      <td>11</td>\n",
              "      <td>1</td>\n",
              "      <td>1</td>\n",
              "      <td>12</td>\n",
              "      <td>2</td>\n",
              "      <td>...</td>\n",
              "      <td>2</td>\n",
              "      <td>3</td>\n",
              "      <td>3</td>\n",
              "      <td>3</td>\n",
              "      <td>1</td>\n",
              "      <td>1</td>\n",
              "      <td>3</td>\n",
              "      <td>212</td>\n",
              "      <td>894</td>\n",
              "      <td>5456</td>\n",
              "    </tr>\n",
              "  </tbody>\n",
              "</table>\n",
              "<p>5 rows × 53 columns</p>\n",
              "</div>\n",
              "      <button class=\"colab-df-convert\" onclick=\"convertToInteractive('df-413cbc75-2bb0-465a-be79-148b1963d24a')\"\n",
              "              title=\"Convert this dataframe to an interactive table.\"\n",
              "              style=\"display:none;\">\n",
              "        \n",
              "  <svg xmlns=\"http://www.w3.org/2000/svg\" height=\"24px\"viewBox=\"0 0 24 24\"\n",
              "       width=\"24px\">\n",
              "    <path d=\"M0 0h24v24H0V0z\" fill=\"none\"/>\n",
              "    <path d=\"M18.56 5.44l.94 2.06.94-2.06 2.06-.94-2.06-.94-.94-2.06-.94 2.06-2.06.94zm-11 1L8.5 8.5l.94-2.06 2.06-.94-2.06-.94L8.5 2.5l-.94 2.06-2.06.94zm10 10l.94 2.06.94-2.06 2.06-.94-2.06-.94-.94-2.06-.94 2.06-2.06.94z\"/><path d=\"M17.41 7.96l-1.37-1.37c-.4-.4-.92-.59-1.43-.59-.52 0-1.04.2-1.43.59L10.3 9.45l-7.72 7.72c-.78.78-.78 2.05 0 2.83L4 21.41c.39.39.9.59 1.41.59.51 0 1.02-.2 1.41-.59l7.78-7.78 2.81-2.81c.8-.78.8-2.07 0-2.86zM5.41 20L4 18.59l7.72-7.72 1.47 1.35L5.41 20z\"/>\n",
              "  </svg>\n",
              "      </button>\n",
              "      \n",
              "  <style>\n",
              "    .colab-df-container {\n",
              "      display:flex;\n",
              "      flex-wrap:wrap;\n",
              "      gap: 12px;\n",
              "    }\n",
              "\n",
              "    .colab-df-convert {\n",
              "      background-color: #E8F0FE;\n",
              "      border: none;\n",
              "      border-radius: 50%;\n",
              "      cursor: pointer;\n",
              "      display: none;\n",
              "      fill: #1967D2;\n",
              "      height: 32px;\n",
              "      padding: 0 0 0 0;\n",
              "      width: 32px;\n",
              "    }\n",
              "\n",
              "    .colab-df-convert:hover {\n",
              "      background-color: #E2EBFA;\n",
              "      box-shadow: 0px 1px 2px rgba(60, 64, 67, 0.3), 0px 1px 3px 1px rgba(60, 64, 67, 0.15);\n",
              "      fill: #174EA6;\n",
              "    }\n",
              "\n",
              "    [theme=dark] .colab-df-convert {\n",
              "      background-color: #3B4455;\n",
              "      fill: #D2E3FC;\n",
              "    }\n",
              "\n",
              "    [theme=dark] .colab-df-convert:hover {\n",
              "      background-color: #434B5C;\n",
              "      box-shadow: 0px 1px 3px 1px rgba(0, 0, 0, 0.15);\n",
              "      filter: drop-shadow(0px 1px 2px rgba(0, 0, 0, 0.3));\n",
              "      fill: #FFFFFF;\n",
              "    }\n",
              "  </style>\n",
              "\n",
              "      <script>\n",
              "        const buttonEl =\n",
              "          document.querySelector('#df-413cbc75-2bb0-465a-be79-148b1963d24a button.colab-df-convert');\n",
              "        buttonEl.style.display =\n",
              "          google.colab.kernel.accessAllowed ? 'block' : 'none';\n",
              "\n",
              "        async function convertToInteractive(key) {\n",
              "          const element = document.querySelector('#df-413cbc75-2bb0-465a-be79-148b1963d24a');\n",
              "          const dataTable =\n",
              "            await google.colab.kernel.invokeFunction('convertToInteractive',\n",
              "                                                     [key], {});\n",
              "          if (!dataTable) return;\n",
              "\n",
              "          const docLinkHtml = 'Like what you see? Visit the ' +\n",
              "            '<a target=\"_blank\" href=https://colab.research.google.com/notebooks/data_table.ipynb>data table notebook</a>'\n",
              "            + ' to learn more about interactive tables.';\n",
              "          element.innerHTML = '';\n",
              "          dataTable['output_type'] = 'display_data';\n",
              "          await google.colab.output.renderOutput(dataTable, element);\n",
              "          const docLink = document.createElement('div');\n",
              "          docLink.innerHTML = docLinkHtml;\n",
              "          element.appendChild(docLink);\n",
              "        }\n",
              "      </script>\n",
              "    </div>\n",
              "  </div>\n",
              "  "
            ]
          },
          "metadata": {},
          "execution_count": 6
        }
      ],
      "source": [
        "df.head()"
      ]
    },
    {
      "cell_type": "code",
      "execution_count": 7,
      "metadata": {
        "id": "n3AlenM9FnuR",
        "colab": {
          "base_uri": "https://localhost:8080/"
        },
        "outputId": "61855db6-1291-40b1-cfd4-acf961dc4b37"
      },
      "outputs": [
        {
          "output_type": "execute_result",
          "data": {
            "text/plain": [
              "Index(['YEAR', 'UNITID', 'STABBR', 'INSTNM', 'OBEREG', 'HDEGOFFR', 'GROFFER',\n",
              "       'HBCU', 'LOCALE', 'INSTCAT', 'INSTSIZE', 'CNTLAFFI', 'OPENADMP',\n",
              "       'CREDITS1', 'CREDITS2', 'CREDITS3', 'CREDITS4', 'SLO5', 'SLO6', 'SLO7',\n",
              "       'SLO83', 'STUSRV1', 'STUSRV2', 'STUSRV3', 'STUSRV4', 'STUSRV8',\n",
              "       'LIBRES1', 'ATHASSOC', 'APPLFEEU', 'TUITVARY', 'ROOM', 'BOARD',\n",
              "       'TUITPL', 'VET1', 'VET2', 'VET3', 'VET4', 'VET5', 'DSTNUGC', 'DSTNUGP',\n",
              "       'RMANDBRDAMT', 'ADMCON1', 'ADMCON2', 'ADMCON3', 'ADMCON4', 'ADMCON5',\n",
              "       'ADMCON6', 'ADMCON7', 'ADMCON8', 'ADMCON9', 'SATNUM', 'ACTNUM',\n",
              "       'EFYTOTLT'],\n",
              "      dtype='object')"
            ]
          },
          "metadata": {},
          "execution_count": 7
        }
      ],
      "source": [
        "df.columns"
      ]
    },
    {
      "cell_type": "code",
      "execution_count": 8,
      "metadata": {
        "id": "cwC9iB5-C8b6"
      },
      "outputs": [],
      "source": [
        "# df.info()"
      ]
    },
    {
      "cell_type": "code",
      "execution_count": 9,
      "metadata": {
        "id": "5iLwWWPh_mPP",
        "colab": {
          "base_uri": "https://localhost:8080/"
        },
        "outputId": "ce7c9556-adab-4ad2-bee3-5da7e00e1ad5"
      },
      "outputs": [
        {
          "output_type": "execute_result",
          "data": {
            "text/plain": [
              "(3488, 53)"
            ]
          },
          "metadata": {},
          "execution_count": 9
        }
      ],
      "source": [
        "df_2020_1 = df.loc[lambda df:((df['YEAR']==2020)),:]\n",
        "\n",
        "df_2020= df_2020_1.copy(deep=False)\n",
        "df_2020.shape\n",
        "\n"
      ]
    },
    {
      "cell_type": "code",
      "execution_count": 10,
      "metadata": {
        "id": "B4tsm0e2Cue-",
        "colab": {
          "base_uri": "https://localhost:8080/",
          "height": 329
        },
        "outputId": "97fc0f7a-a412-42c1-de8a-cc848327e1e9"
      },
      "outputs": [
        {
          "output_type": "execute_result",
          "data": {
            "text/plain": [
              "         YEAR    UNITID  OBEREG  HDEGOFFR  GROFFER    HBCU  LOCALE  INSTCAT  \\\n",
              "count 3488.00   3488.00 3488.00   3488.00  3488.00 3488.00 3488.00  3488.00   \n",
              "mean  2020.00 232091.35    4.59     26.36     1.52    1.97   20.97     1.56   \n",
              "std      0.00 114958.12    2.19     11.31     0.50    0.16   10.36     0.50   \n",
              "min   2020.00 100654.00    0.00     11.00     1.00    1.00   -3.00     1.00   \n",
              "25%   2020.00 155618.50    3.00     13.00     1.00    2.00   12.00     1.00   \n",
              "50%   2020.00 198002.00    5.00     30.00     2.00    2.00   21.00     2.00   \n",
              "75%   2020.00 236581.50    6.00     40.00     2.00    2.00   32.00     2.00   \n",
              "max   2020.00 496186.00    9.00     40.00     2.00    2.00   43.00     2.00   \n",
              "\n",
              "       INSTSIZE  CNTLAFFI  ...  ADMCON3  ADMCON4  ADMCON5  ADMCON6  ADMCON7  \\\n",
              "count   3488.00   3488.00  ...  3488.00  3488.00  3488.00  3488.00  3488.00   \n",
              "mean       2.17      2.17  ...     0.63     1.08     1.23     1.49     1.48   \n",
              "std        1.15      1.22  ...     0.77     1.26     1.49     1.53     1.85   \n",
              "min       -1.00      1.00  ...     0.00     0.00     0.00     0.00     0.00   \n",
              "25%        1.00      1.00  ...     0.00     0.00     0.00     0.00     0.00   \n",
              "50%        2.00      2.00  ...     1.00     1.00     1.00     1.00     1.00   \n",
              "75%        3.00      3.00  ...     1.00     2.00     2.00     3.00     3.00   \n",
              "max        5.00      4.00  ...     5.00     5.00     5.00     5.00     5.00   \n",
              "\n",
              "       ADMCON8  ADMCON9   SATNUM  ACTNUM  EFYTOTLT  \n",
              "count  3488.00  3488.00  3488.00 3488.00   3488.00  \n",
              "mean      0.86     1.51   213.82  171.44   6225.02  \n",
              "std       1.14     1.50   714.67  563.23  10659.58  \n",
              "min       0.00     0.00     0.00    0.00      6.00  \n",
              "25%       0.00     0.00     0.00    0.00    826.75  \n",
              "50%       1.00     1.00     0.00    0.00   2405.00  \n",
              "75%       1.00     3.00    56.00   70.00   7018.25  \n",
              "max       5.00     5.00 11957.00 7265.00 162646.00  \n",
              "\n",
              "[8 rows x 51 columns]"
            ],
            "text/html": [
              "\n",
              "  <div id=\"df-f064af7c-fdc5-4224-847c-5cb670a62632\">\n",
              "    <div class=\"colab-df-container\">\n",
              "      <div>\n",
              "<style scoped>\n",
              "    .dataframe tbody tr th:only-of-type {\n",
              "        vertical-align: middle;\n",
              "    }\n",
              "\n",
              "    .dataframe tbody tr th {\n",
              "        vertical-align: top;\n",
              "    }\n",
              "\n",
              "    .dataframe thead th {\n",
              "        text-align: right;\n",
              "    }\n",
              "</style>\n",
              "<table border=\"1\" class=\"dataframe\">\n",
              "  <thead>\n",
              "    <tr style=\"text-align: right;\">\n",
              "      <th></th>\n",
              "      <th>YEAR</th>\n",
              "      <th>UNITID</th>\n",
              "      <th>OBEREG</th>\n",
              "      <th>HDEGOFFR</th>\n",
              "      <th>GROFFER</th>\n",
              "      <th>HBCU</th>\n",
              "      <th>LOCALE</th>\n",
              "      <th>INSTCAT</th>\n",
              "      <th>INSTSIZE</th>\n",
              "      <th>CNTLAFFI</th>\n",
              "      <th>...</th>\n",
              "      <th>ADMCON3</th>\n",
              "      <th>ADMCON4</th>\n",
              "      <th>ADMCON5</th>\n",
              "      <th>ADMCON6</th>\n",
              "      <th>ADMCON7</th>\n",
              "      <th>ADMCON8</th>\n",
              "      <th>ADMCON9</th>\n",
              "      <th>SATNUM</th>\n",
              "      <th>ACTNUM</th>\n",
              "      <th>EFYTOTLT</th>\n",
              "    </tr>\n",
              "  </thead>\n",
              "  <tbody>\n",
              "    <tr>\n",
              "      <th>count</th>\n",
              "      <td>3488.00</td>\n",
              "      <td>3488.00</td>\n",
              "      <td>3488.00</td>\n",
              "      <td>3488.00</td>\n",
              "      <td>3488.00</td>\n",
              "      <td>3488.00</td>\n",
              "      <td>3488.00</td>\n",
              "      <td>3488.00</td>\n",
              "      <td>3488.00</td>\n",
              "      <td>3488.00</td>\n",
              "      <td>...</td>\n",
              "      <td>3488.00</td>\n",
              "      <td>3488.00</td>\n",
              "      <td>3488.00</td>\n",
              "      <td>3488.00</td>\n",
              "      <td>3488.00</td>\n",
              "      <td>3488.00</td>\n",
              "      <td>3488.00</td>\n",
              "      <td>3488.00</td>\n",
              "      <td>3488.00</td>\n",
              "      <td>3488.00</td>\n",
              "    </tr>\n",
              "    <tr>\n",
              "      <th>mean</th>\n",
              "      <td>2020.00</td>\n",
              "      <td>232091.35</td>\n",
              "      <td>4.59</td>\n",
              "      <td>26.36</td>\n",
              "      <td>1.52</td>\n",
              "      <td>1.97</td>\n",
              "      <td>20.97</td>\n",
              "      <td>1.56</td>\n",
              "      <td>2.17</td>\n",
              "      <td>2.17</td>\n",
              "      <td>...</td>\n",
              "      <td>0.63</td>\n",
              "      <td>1.08</td>\n",
              "      <td>1.23</td>\n",
              "      <td>1.49</td>\n",
              "      <td>1.48</td>\n",
              "      <td>0.86</td>\n",
              "      <td>1.51</td>\n",
              "      <td>213.82</td>\n",
              "      <td>171.44</td>\n",
              "      <td>6225.02</td>\n",
              "    </tr>\n",
              "    <tr>\n",
              "      <th>std</th>\n",
              "      <td>0.00</td>\n",
              "      <td>114958.12</td>\n",
              "      <td>2.19</td>\n",
              "      <td>11.31</td>\n",
              "      <td>0.50</td>\n",
              "      <td>0.16</td>\n",
              "      <td>10.36</td>\n",
              "      <td>0.50</td>\n",
              "      <td>1.15</td>\n",
              "      <td>1.22</td>\n",
              "      <td>...</td>\n",
              "      <td>0.77</td>\n",
              "      <td>1.26</td>\n",
              "      <td>1.49</td>\n",
              "      <td>1.53</td>\n",
              "      <td>1.85</td>\n",
              "      <td>1.14</td>\n",
              "      <td>1.50</td>\n",
              "      <td>714.67</td>\n",
              "      <td>563.23</td>\n",
              "      <td>10659.58</td>\n",
              "    </tr>\n",
              "    <tr>\n",
              "      <th>min</th>\n",
              "      <td>2020.00</td>\n",
              "      <td>100654.00</td>\n",
              "      <td>0.00</td>\n",
              "      <td>11.00</td>\n",
              "      <td>1.00</td>\n",
              "      <td>1.00</td>\n",
              "      <td>-3.00</td>\n",
              "      <td>1.00</td>\n",
              "      <td>-1.00</td>\n",
              "      <td>1.00</td>\n",
              "      <td>...</td>\n",
              "      <td>0.00</td>\n",
              "      <td>0.00</td>\n",
              "      <td>0.00</td>\n",
              "      <td>0.00</td>\n",
              "      <td>0.00</td>\n",
              "      <td>0.00</td>\n",
              "      <td>0.00</td>\n",
              "      <td>0.00</td>\n",
              "      <td>0.00</td>\n",
              "      <td>6.00</td>\n",
              "    </tr>\n",
              "    <tr>\n",
              "      <th>25%</th>\n",
              "      <td>2020.00</td>\n",
              "      <td>155618.50</td>\n",
              "      <td>3.00</td>\n",
              "      <td>13.00</td>\n",
              "      <td>1.00</td>\n",
              "      <td>2.00</td>\n",
              "      <td>12.00</td>\n",
              "      <td>1.00</td>\n",
              "      <td>1.00</td>\n",
              "      <td>1.00</td>\n",
              "      <td>...</td>\n",
              "      <td>0.00</td>\n",
              "      <td>0.00</td>\n",
              "      <td>0.00</td>\n",
              "      <td>0.00</td>\n",
              "      <td>0.00</td>\n",
              "      <td>0.00</td>\n",
              "      <td>0.00</td>\n",
              "      <td>0.00</td>\n",
              "      <td>0.00</td>\n",
              "      <td>826.75</td>\n",
              "    </tr>\n",
              "    <tr>\n",
              "      <th>50%</th>\n",
              "      <td>2020.00</td>\n",
              "      <td>198002.00</td>\n",
              "      <td>5.00</td>\n",
              "      <td>30.00</td>\n",
              "      <td>2.00</td>\n",
              "      <td>2.00</td>\n",
              "      <td>21.00</td>\n",
              "      <td>2.00</td>\n",
              "      <td>2.00</td>\n",
              "      <td>2.00</td>\n",
              "      <td>...</td>\n",
              "      <td>1.00</td>\n",
              "      <td>1.00</td>\n",
              "      <td>1.00</td>\n",
              "      <td>1.00</td>\n",
              "      <td>1.00</td>\n",
              "      <td>1.00</td>\n",
              "      <td>1.00</td>\n",
              "      <td>0.00</td>\n",
              "      <td>0.00</td>\n",
              "      <td>2405.00</td>\n",
              "    </tr>\n",
              "    <tr>\n",
              "      <th>75%</th>\n",
              "      <td>2020.00</td>\n",
              "      <td>236581.50</td>\n",
              "      <td>6.00</td>\n",
              "      <td>40.00</td>\n",
              "      <td>2.00</td>\n",
              "      <td>2.00</td>\n",
              "      <td>32.00</td>\n",
              "      <td>2.00</td>\n",
              "      <td>3.00</td>\n",
              "      <td>3.00</td>\n",
              "      <td>...</td>\n",
              "      <td>1.00</td>\n",
              "      <td>2.00</td>\n",
              "      <td>2.00</td>\n",
              "      <td>3.00</td>\n",
              "      <td>3.00</td>\n",
              "      <td>1.00</td>\n",
              "      <td>3.00</td>\n",
              "      <td>56.00</td>\n",
              "      <td>70.00</td>\n",
              "      <td>7018.25</td>\n",
              "    </tr>\n",
              "    <tr>\n",
              "      <th>max</th>\n",
              "      <td>2020.00</td>\n",
              "      <td>496186.00</td>\n",
              "      <td>9.00</td>\n",
              "      <td>40.00</td>\n",
              "      <td>2.00</td>\n",
              "      <td>2.00</td>\n",
              "      <td>43.00</td>\n",
              "      <td>2.00</td>\n",
              "      <td>5.00</td>\n",
              "      <td>4.00</td>\n",
              "      <td>...</td>\n",
              "      <td>5.00</td>\n",
              "      <td>5.00</td>\n",
              "      <td>5.00</td>\n",
              "      <td>5.00</td>\n",
              "      <td>5.00</td>\n",
              "      <td>5.00</td>\n",
              "      <td>5.00</td>\n",
              "      <td>11957.00</td>\n",
              "      <td>7265.00</td>\n",
              "      <td>162646.00</td>\n",
              "    </tr>\n",
              "  </tbody>\n",
              "</table>\n",
              "<p>8 rows × 51 columns</p>\n",
              "</div>\n",
              "      <button class=\"colab-df-convert\" onclick=\"convertToInteractive('df-f064af7c-fdc5-4224-847c-5cb670a62632')\"\n",
              "              title=\"Convert this dataframe to an interactive table.\"\n",
              "              style=\"display:none;\">\n",
              "        \n",
              "  <svg xmlns=\"http://www.w3.org/2000/svg\" height=\"24px\"viewBox=\"0 0 24 24\"\n",
              "       width=\"24px\">\n",
              "    <path d=\"M0 0h24v24H0V0z\" fill=\"none\"/>\n",
              "    <path d=\"M18.56 5.44l.94 2.06.94-2.06 2.06-.94-2.06-.94-.94-2.06-.94 2.06-2.06.94zm-11 1L8.5 8.5l.94-2.06 2.06-.94-2.06-.94L8.5 2.5l-.94 2.06-2.06.94zm10 10l.94 2.06.94-2.06 2.06-.94-2.06-.94-.94-2.06-.94 2.06-2.06.94z\"/><path d=\"M17.41 7.96l-1.37-1.37c-.4-.4-.92-.59-1.43-.59-.52 0-1.04.2-1.43.59L10.3 9.45l-7.72 7.72c-.78.78-.78 2.05 0 2.83L4 21.41c.39.39.9.59 1.41.59.51 0 1.02-.2 1.41-.59l7.78-7.78 2.81-2.81c.8-.78.8-2.07 0-2.86zM5.41 20L4 18.59l7.72-7.72 1.47 1.35L5.41 20z\"/>\n",
              "  </svg>\n",
              "      </button>\n",
              "      \n",
              "  <style>\n",
              "    .colab-df-container {\n",
              "      display:flex;\n",
              "      flex-wrap:wrap;\n",
              "      gap: 12px;\n",
              "    }\n",
              "\n",
              "    .colab-df-convert {\n",
              "      background-color: #E8F0FE;\n",
              "      border: none;\n",
              "      border-radius: 50%;\n",
              "      cursor: pointer;\n",
              "      display: none;\n",
              "      fill: #1967D2;\n",
              "      height: 32px;\n",
              "      padding: 0 0 0 0;\n",
              "      width: 32px;\n",
              "    }\n",
              "\n",
              "    .colab-df-convert:hover {\n",
              "      background-color: #E2EBFA;\n",
              "      box-shadow: 0px 1px 2px rgba(60, 64, 67, 0.3), 0px 1px 3px 1px rgba(60, 64, 67, 0.15);\n",
              "      fill: #174EA6;\n",
              "    }\n",
              "\n",
              "    [theme=dark] .colab-df-convert {\n",
              "      background-color: #3B4455;\n",
              "      fill: #D2E3FC;\n",
              "    }\n",
              "\n",
              "    [theme=dark] .colab-df-convert:hover {\n",
              "      background-color: #434B5C;\n",
              "      box-shadow: 0px 1px 3px 1px rgba(0, 0, 0, 0.15);\n",
              "      filter: drop-shadow(0px 1px 2px rgba(0, 0, 0, 0.3));\n",
              "      fill: #FFFFFF;\n",
              "    }\n",
              "  </style>\n",
              "\n",
              "      <script>\n",
              "        const buttonEl =\n",
              "          document.querySelector('#df-f064af7c-fdc5-4224-847c-5cb670a62632 button.colab-df-convert');\n",
              "        buttonEl.style.display =\n",
              "          google.colab.kernel.accessAllowed ? 'block' : 'none';\n",
              "\n",
              "        async function convertToInteractive(key) {\n",
              "          const element = document.querySelector('#df-f064af7c-fdc5-4224-847c-5cb670a62632');\n",
              "          const dataTable =\n",
              "            await google.colab.kernel.invokeFunction('convertToInteractive',\n",
              "                                                     [key], {});\n",
              "          if (!dataTable) return;\n",
              "\n",
              "          const docLinkHtml = 'Like what you see? Visit the ' +\n",
              "            '<a target=\"_blank\" href=https://colab.research.google.com/notebooks/data_table.ipynb>data table notebook</a>'\n",
              "            + ' to learn more about interactive tables.';\n",
              "          element.innerHTML = '';\n",
              "          dataTable['output_type'] = 'display_data';\n",
              "          await google.colab.output.renderOutput(dataTable, element);\n",
              "          const docLink = document.createElement('div');\n",
              "          docLink.innerHTML = docLinkHtml;\n",
              "          element.appendChild(docLink);\n",
              "        }\n",
              "      </script>\n",
              "    </div>\n",
              "  </div>\n",
              "  "
            ]
          },
          "metadata": {},
          "execution_count": 10
        }
      ],
      "source": [
        "df_2020.describe().round(decimals=2)"
      ]
    },
    {
      "cell_type": "markdown",
      "metadata": {
        "id": "1b67bPaYFbxQ"
      },
      "source": [
        "### Let us take a quick look at the data distributions"
      ]
    },
    {
      "cell_type": "code",
      "execution_count": 11,
      "metadata": {
        "id": "ctnwLr9NDSKh",
        "colab": {
          "base_uri": "https://localhost:8080/",
          "height": 892
        },
        "outputId": "27723551-1b26-4098-f03b-ea33ffbe4672"
      },
      "outputs": [
        {
          "output_type": "display_data",
          "data": {
            "text/plain": [
              "<Figure size 1512x1080 with 56 Axes>"
            ],
            "image/png": "[encoded data removed]"
          },
          "metadata": {
            "needs_background": "light"
          }
        }
      ],
      "source": [
        "df_2020.hist(bins=55, figsize=(21,15))\n",
        "plt.show()"
      ]
    },
    {
      "cell_type": "code",
      "source": [
        "df_2020['TUITVARY'].value_counts()"
      ],
      "metadata": {
        "id": "EunF51axJM8Y",
        "colab": {
          "base_uri": "https://localhost:8080/"
        },
        "outputId": "fbcc3065-7ed1-4639-c094-a0dc7c310adf"
      },
      "execution_count": 12,
      "outputs": [
        {
          "output_type": "execute_result",
          "data": {
            "text/plain": [
              " 2    1839\n",
              " 1    1459\n",
              "-2     190\n",
              "Name: TUITVARY, dtype: int64"
            ]
          },
          "metadata": {},
          "execution_count": 12
        }
      ]
    },
    {
      "cell_type": "markdown",
      "source": [
        "### Looking at the histograms I realize that one of the variables still needs to be corrected as it contains a \"Not Applicable\" code: TUITVARY\n",
        "\n",
        "### We are going to assign  a \"NO\" to the institutions for which TUITVARY is not applicable since these are institutions that are operating and mainly appear to be college level. \n",
        "\n",
        "### Some are  mixed undergraduate and Graduate level institutions but a minority (only 3) "
      ],
      "metadata": {
        "id": "TLfWE-Q8QqEX"
      }
    },
    {
      "cell_type": "code",
      "source": [
        "colc=['TUITVARY']\n",
        "\n",
        "for i in colc:\n",
        "  df_2020[i] = df_2020[i].astype(str)\n",
        "  df_2020[i] = df_2020[i].map(lambda x: re.sub(r'-2', '2', x))\n",
        "  df_2020[i] = df_2020[i].astype(int)"
      ],
      "metadata": {
        "id": "iR44Z2DvO4SY"
      },
      "execution_count": 13,
      "outputs": []
    },
    {
      "cell_type": "code",
      "source": [
        "df_2020['INSTSIZE'].value_counts()\n",
        "\n",
        "# INSTSIZE\t1\tUnder 1,000\n",
        "# INSTSIZE\t2\t1,000 - 4,999\n",
        "# INSTSIZE\t3\t5,000 - 9,999\n",
        "# INSTSIZE\t4\t10,000 - 19,999\n",
        "# INSTSIZE\t5\t20,000 and above\n",
        "# INSTSIZE\t-1\tNot reported\n",
        "# INSTSIZE\t-2\tNot applicable"
      ],
      "metadata": {
        "id": "wDJqnsJTvvtV",
        "colab": {
          "base_uri": "https://localhost:8080/"
        },
        "outputId": "5e7e52d9-6d93-414c-c279-9d426b5b0c56"
      },
      "execution_count": 14,
      "outputs": [
        {
          "output_type": "execute_result",
          "data": {
            "text/plain": [
              " 2    1389\n",
              " 1    1115\n",
              " 3     463\n",
              " 4     309\n",
              " 5     211\n",
              "-1       1\n",
              "Name: INSTSIZE, dtype: int64"
            ]
          },
          "metadata": {},
          "execution_count": 14
        }
      ]
    },
    {
      "cell_type": "code",
      "source": [
        "\n",
        "df_2020 = df_2020.loc[df_2020['INSTSIZE']!=-1]"
      ],
      "metadata": {
        "id": "xHT6gb6ty90B"
      },
      "execution_count": 15,
      "outputs": []
    },
    {
      "cell_type": "markdown",
      "metadata": {
        "id": "GdJD1oJtGn5w"
      },
      "source": [
        "# Let us recap the variables selected and their codes:\n",
        "\n",
        "## 'EFYTOTLT' = Our target variable is total enrollment \n",
        "\n",
        "## 'YEAR' = Our data refers to the years between 2012 and 2020\n",
        "\n",
        "## 'UNITID' = ID code for each Heigher Education Institution\n",
        "\n",
        "## 'STABBR' = State Abbreviation \n",
        "\n",
        "## 'INSTNM' = Institution's name\n",
        "\n",
        "## 'OBEREG'= Code indicating the Bureau of Economic Analysis Regions the US is divided into (MD is in region 2) \n",
        "### 0 - US Service schools\n",
        "### 1 - New England CT ME MA NH RI VT\n",
        "### 2 - Mid East DE DC MD NJ NY PA\n",
        "### 3 - Great Lakes IL IN MI OH WI\n",
        "### 4 - Plains IA KS MN MO NE ND SD\n",
        "### 5 - Southeast AL AR FL GA KY LA MS NC SC TN VA WV\n",
        "### 6 - Southwest AZ NM OK TX\n",
        "### 7 - Rocky Mountains CO ID MT UT WY\n",
        "### 8 - Far West AK CA HI NV OR WA\n",
        "### 9 - Outlying areas AS FM GU MH MP PR PW VI  - (Not in the Continental USA) \n",
        "\n",
        "## 'HDEGOFFR'= Code indicating the level of Degree offered by the Academic-Oriented HEI\n",
        "### 11\tDoctor's degree - research/scholarship and professional practice\n",
        "### 12\tDoctor's degree - research/scholarship\n",
        "### 13\tDoctor's degree -  professional practice\n",
        "### 14\tDoctor's degree - other\n",
        "### 20\tMaster's degree\n",
        "### 30\tBachelor's degree\n",
        "### 40\tAssociate's degree\n",
        "\n",
        "\n",
        "## 'GROFFER' = Code indicating whether the HEI offers Graduate Level degrees\n",
        "### 1\tGraduate degree or certificate offering\n",
        "### 2\tNo graduate offering\n",
        "\n",
        "## 'HBCU' = Code indicating whether the HEI is an Historical Black College or University \n",
        "### 1 - Yes\n",
        "### 2 - No \n",
        "\n",
        "## 'LOCALE' = Code indicating the territorial location of the HEI\n",
        "### 11\tCity: Large\n",
        "### 12\tCity: Midsize\n",
        "### 13\tCity: Small\n",
        "### 21\tSuburb: Large\n",
        "### 22\tSuburb: Midsize\n",
        "### 23\tSuburb: Small\n",
        "### 31\tTown: Fringe\n",
        "### 32\tTown: Distant\n",
        "### 33\tTown: Remote\n",
        "### 41\tRural: Fringe\n",
        "### 42\tRural: Distant\n",
        "### 43\tRural: Remote\n",
        "### -3\t{Not available}\n",
        "\n",
        "## 'INSTCAT' = Code indicating the type of institution\n",
        "### 1 - indicates institutions offering undergraduate programs\n",
        "### 2 - indicates institutions offering both graduate and undergraduate programs\n",
        "\n",
        "## 'INSTSIZE'= Code indicating the range of students enrollable by year\n",
        "### 1\tUnder 1,000\n",
        "### 2\t1,000 - 4,999\n",
        "### 3\t5,000 - 9,999\n",
        "### 4\t10,000 - 19,999\n",
        "### 5\t20,000 and above\n",
        "\n",
        "## 'CNTLAFFI'= Code indicating the type of control the HEI is subject to \n",
        "###\t1\tPublic\n",
        "###\t2\tPrivate for-profit\n",
        "###\t3\tPrivate not-for-profit (no religious affiliation)\n",
        "###\t4\tPrivate not-for-profit (religious affiliation)\n",
        "\n",
        "## 'OPENADMP' = Code indicating whether the HEI adopts an Open Enrollment Policy or not\n",
        "### 1 = Yes\n",
        "### 2 = No\n",
        "\n",
        "## 'CREDITS1'= Dual enrollment\n",
        "## 'CREDITS2'= Credit for life experiences\n",
        "## 'CREDITS3'= Advanced placement (AP) credits\n",
        "## 'CREDITS4'= Institution does not accept dual, credit for life, or AP credits\n",
        "### Code  0 = No \n",
        "### Code 1 = Yes \n",
        "\n",
        "## 'SLO5' = ROTC\n",
        "## 'SLO6' = Study abroad\n",
        "## 'SLO7' = Weekend/evening  college\n",
        "## 'SLO83' = Teacher certification: Approved by the state for initial certifcation or licensure of teachers\n",
        "### Code  0 = No \n",
        "### Code 1 = Yes \n",
        "\n",
        "## 'STUSRV1\tRemedial services\n",
        "## STUSRV2\tAcademic/career counseling service\n",
        "## STUSRV3\tEmployment services for students\n",
        "## STUSRV4\tPlacement services for completers\n",
        "## STUSRV8\tOn-campus day care for students' children\n",
        "### Code  0 = No \n",
        "### Code 1 = Yes \n",
        "\n",
        "\n",
        "## 'LIBRES1' = Variable indicating whether the HEI has a library \n",
        "### Code  0 = No \n",
        "### Code 1 = Yes\n",
        "\n",
        "## 'ATHASSOC' = Member of National Athletic Association\n",
        "### 1 - Yes\n",
        "### 2 - No \n",
        "\n",
        "## 'APPLFEEU' = Application Fee\n",
        "\n",
        "## 'TUITVARY' = Tuition charge varies for in-district, in-state, out-of-state students\n",
        "### 1 - Yes\n",
        "### 2 - No \n",
        "\n",
        "\n",
        "## 'ROOM' = HEI provides housing\n",
        "### 1 - Yes\n",
        "### 2 - No \n",
        "\n",
        "## 'BOARD', = HEI provides meal plan \n",
        "### 1 - Yes\n",
        "### 2 - No \n",
        "\n",
        "## 'TUITPL' = Any alternative tuition plans offered by institution\n",
        "### 1 - Yes\n",
        "### 2 - No \n",
        "\n",
        "## VET1\tYellow Ribbon Program (officially known as Post-9/11 GI Bill, Yellow Ribbon Program)\n",
        "## VET2\tCredit for military training\n",
        "## VET3\tDedicated point of contact for support services for veterans, military servicemembers, and their families\n",
        "## VET4\tRecognized student veteran organization\n",
        "## VET5\tMember of Servicemembers Opportunity Colleges\n",
        "### Code  0 = No \n",
        "### Code 1 = Yes\n",
        "NOTE: Data for these variables are missing for years 2012 and 2013 \n",
        "\n",
        "## 'DSTNUGC' = Undergraduate Level distance Education Courses Offered\n",
        "## DSTNUGP\tUndergraduate level distance education programs offered\n",
        "### Code  0 = No \n",
        "### Code 1 = Yes\n",
        "\n",
        "## 'RMANDBRDAMT' = Room and Board costs\n",
        "\n",
        "## ADMCON1\tSecondary school GPA\n",
        "## ADMCON2\tSecondary school rank\n",
        "## ADMCON3\tSecondary school record\n",
        "## ADMCON4\tCompletion of college-preparatory program\n",
        "## ADMCON5\tRecommendations\n",
        "## ADMCON6\tFormal demonstration of competencies\n",
        "## ADMCON7\tAdmission test scores\n",
        "## ADMCON8\tTOEFL (Test of English as a Foreign Language\n",
        "## ADMCON9\tOther Test (Wonderlic, WISC-III, etc.)\n",
        "### 0 Not Applicable\n",
        "### 1\tRequired\n",
        "###\t2\tRecommended\n",
        "###\t3\tNeither required nor recommended\n",
        "###\t4\tDo not know\n",
        "###\t5\tConsidered but not required\n",
        "\n",
        "## SATNUM\tNumber of first-time degree/certificate-seeking students submitting SAT scores\n",
        "## ACTNUM\tNumber of first-time degree/certificate-seeking students submitting ACT scores\n"
      ]
    },
    {
      "cell_type": "code",
      "execution_count": 16,
      "metadata": {
        "id": "MGPyN0TlGmVA",
        "colab": {
          "base_uri": "https://localhost:8080/"
        },
        "outputId": "e17dd63c-98b2-4f37-d96f-4b4ae7ea4fec"
      },
      "outputs": [
        {
          "output_type": "execute_result",
          "data": {
            "text/plain": [
              "Index(['YEAR', 'UNITID', 'STABBR', 'INSTNM', 'OBEREG', 'HDEGOFFR', 'GROFFER',\n",
              "       'HBCU', 'LOCALE', 'INSTCAT', 'INSTSIZE', 'CNTLAFFI', 'OPENADMP',\n",
              "       'CREDITS1', 'CREDITS2', 'CREDITS3', 'CREDITS4', 'SLO5', 'SLO6', 'SLO7',\n",
              "       'SLO83', 'STUSRV1', 'STUSRV2', 'STUSRV3', 'STUSRV4', 'STUSRV8',\n",
              "       'LIBRES1', 'ATHASSOC', 'APPLFEEU', 'TUITVARY', 'ROOM', 'BOARD',\n",
              "       'TUITPL', 'VET1', 'VET2', 'VET3', 'VET4', 'VET5', 'DSTNUGC', 'DSTNUGP',\n",
              "       'RMANDBRDAMT', 'ADMCON1', 'ADMCON2', 'ADMCON3', 'ADMCON4', 'ADMCON5',\n",
              "       'ADMCON6', 'ADMCON7', 'ADMCON8', 'ADMCON9', 'SATNUM', 'ACTNUM',\n",
              "       'EFYTOTLT'],\n",
              "      dtype='object')"
            ]
          },
          "metadata": {},
          "execution_count": 16
        }
      ],
      "source": [
        "df_2020.columns"
      ]
    },
    {
      "cell_type": "markdown",
      "metadata": {
        "id": "BDQmHzRuD5Qm"
      },
      "source": [
        "### We are looking at the data for 2020 only and we are dropping the Institutions Name column as well as the year column "
      ]
    },
    {
      "cell_type": "code",
      "execution_count": 17,
      "metadata": {
        "id": "qsQJD9lk4pwb"
      },
      "outputs": [],
      "source": [
        "# df_2020.drop(['YEAR','INSTNM'], axis = 1, inplace=True)"
      ]
    },
    {
      "cell_type": "code",
      "execution_count": 18,
      "metadata": {
        "id": "bGQXHw8ju-2i"
      },
      "outputs": [],
      "source": [
        "\n",
        "df_2020.drop(['YEAR','UNITID','STABBR', 'INSTNM'], axis = 1, inplace=True)"
      ]
    },
    {
      "cell_type": "code",
      "execution_count": 19,
      "metadata": {
        "id": "3FzlMHaYBRF5"
      },
      "outputs": [],
      "source": [
        "# df_2020.info()"
      ]
    },
    {
      "cell_type": "markdown",
      "metadata": {
        "id": "_XRieIfHLNx0"
      },
      "source": [
        "### Taking a look at the Mean and Standard Deviation of our numerical variables we see that the variables are not normally distributed. The data is affected by outliers "
      ]
    },
    {
      "cell_type": "code",
      "execution_count": 20,
      "metadata": {
        "id": "dtR2xN9RJ0nP",
        "colab": {
          "base_uri": "https://localhost:8080/"
        },
        "outputId": "9ecd558c-d18d-4ed0-c960-984ede28f52c"
      },
      "outputs": [
        {
          "output_type": "stream",
          "name": "stdout",
          "text": [
            "APPLFEEU mean:  22.94\n",
            "APPLFEEU standard dev:  28.87\n",
            "RMANDBRDAMT mean:  5771.91\n",
            "RMANDBRDAMT standard dev:  5779.17\n",
            "SATNUM mean:  213.88\n",
            "SATNUM standard dev:  714.77\n",
            "ACTNUM mean:  171.49\n",
            "ACTNUM standard dev:  563.3\n",
            "EFYTOTLT mean:  6226.78\n",
            "EFYTOTLT standard dev:  10660.6\n"
          ]
        }
      ],
      "source": [
        "### Mean and standard deviation across the data \n",
        "\n",
        "\n",
        "cols = ['APPLFEEU', 'RMANDBRDAMT', 'SATNUM', 'ACTNUM','EFYTOTLT']\n",
        "\n",
        "def get_stats(df):\n",
        "  for i in cols:\n",
        "    mean_i=round(df[i].mean(),2 )\n",
        "    stdr_i =round(df[i].std(), 2)  \n",
        "    print(i, 'mean: ', mean_i)\n",
        "    print(i, 'standard dev: ', stdr_i)\n",
        "\n",
        "get_stats(df_2020)   \n",
        "\n"
      ]
    },
    {
      "cell_type": "markdown",
      "metadata": {
        "id": "wL0pkSTH7bBx"
      },
      "source": [
        "### The data pertaining to the Continental US, excluding Service Schools and Outlying Territories, is more balanced - "
      ]
    },
    {
      "cell_type": "code",
      "execution_count": 21,
      "metadata": {
        "id": "gYadaxjS6YAn",
        "colab": {
          "base_uri": "https://localhost:8080/"
        },
        "outputId": "c11ea774-86b1-4b77-dce1-7483cf7d79d5"
      },
      "outputs": [
        {
          "output_type": "execute_result",
          "data": {
            "text/plain": [
              "5    885\n",
              "2    560\n",
              "8    491\n",
              "3    475\n",
              "4    340\n",
              "6    323\n",
              "1    206\n",
              "7    115\n",
              "9     88\n",
              "0      4\n",
              "Name: OBEREG, dtype: int64"
            ]
          },
          "metadata": {},
          "execution_count": 21
        }
      ],
      "source": [
        "df_2020['OBEREG'].value_counts()\n",
        "# 0 - US Service schools\n",
        "\n",
        "# 1 - New England CT ME MA NH RI VT\n",
        "# 2 - Mid East DE DC MD NJ NY PA\n",
        "\n",
        "# 3 - Great Lakes IL IN MI OH WI\n",
        "# 4 - Plains IA KS MN MO NE ND SD\n",
        "\n",
        "# 5 - Southeast AL AR FL GA KY LA MS NC SC TN VA WV\n",
        "\n",
        "# 6 - Southwest AZ NM OK TX\n",
        "# 7 - Rocky Mountains CO ID MT UT WY\n",
        "# 8 - Far West AK CA HI NV OR WA\n",
        "\n",
        "# 9 - Outlying areas AS FM GU MH MP PR PW VI  - (Not in the Continental USA) \n"
      ]
    },
    {
      "cell_type": "markdown",
      "metadata": {
        "id": "fY_Xgu-UEylv"
      },
      "source": [
        "### Let us drop the data regarding the Non-continental USA and Service Schools since these are outlying groups "
      ]
    },
    {
      "cell_type": "code",
      "execution_count": 22,
      "metadata": {
        "id": "_QD_n04-EjvI",
        "colab": {
          "base_uri": "https://localhost:8080/"
        },
        "outputId": "28725657-4559-497e-a692-d7d18c795de8"
      },
      "outputs": [
        {
          "output_type": "execute_result",
          "data": {
            "text/plain": [
              "(3395, 49)"
            ]
          },
          "metadata": {},
          "execution_count": 22
        }
      ],
      "source": [
        "df_2020_2 = df_2020.loc[lambda df_2020:((df_2020['OBEREG']!=0)&(df_2020['OBEREG']!=9)),:]\n",
        "\n",
        "df_2020_ok= df_2020_2.copy(deep=False)\n",
        "df_2020_ok.shape\n"
      ]
    },
    {
      "cell_type": "code",
      "execution_count": 23,
      "metadata": {
        "id": "tPOEaxsVKoB6",
        "colab": {
          "base_uri": "https://localhost:8080/",
          "height": 300
        },
        "outputId": "9d12e91e-3083-486d-9505-fb864ffd8593"
      },
      "outputs": [
        {
          "output_type": "execute_result",
          "data": {
            "text/plain": [
              "       APPLFEEU  RMANDBRDAMT   SATNUM  ACTNUM  EFYTOTLT\n",
              "count   3395.00      3395.00  3395.00 3395.00   3395.00\n",
              "mean      23.11      5913.70   218.41  175.48   6327.86\n",
              "std       29.12      5785.70   723.32  570.00  10764.32\n",
              "min        0.00         0.00     0.00    0.00      6.00\n",
              "25%        0.00         0.00     0.00    0.00    856.50\n",
              "50%        0.00      6028.00     0.00    0.00   2450.00\n",
              "75%       45.00     10800.00    62.50   74.50   7245.50\n",
              "max      300.00     20894.00 11957.00 7265.00 162646.00"
            ],
            "text/html": [
              "\n",
              "  <div id=\"df-6e3afed1-fe9c-4544-a297-c0a9f5df8aca\">\n",
              "    <div class=\"colab-df-container\">\n",
              "      <div>\n",
              "<style scoped>\n",
              "    .dataframe tbody tr th:only-of-type {\n",
              "        vertical-align: middle;\n",
              "    }\n",
              "\n",
              "    .dataframe tbody tr th {\n",
              "        vertical-align: top;\n",
              "    }\n",
              "\n",
              "    .dataframe thead th {\n",
              "        text-align: right;\n",
              "    }\n",
              "</style>\n",
              "<table border=\"1\" class=\"dataframe\">\n",
              "  <thead>\n",
              "    <tr style=\"text-align: right;\">\n",
              "      <th></th>\n",
              "      <th>APPLFEEU</th>\n",
              "      <th>RMANDBRDAMT</th>\n",
              "      <th>SATNUM</th>\n",
              "      <th>ACTNUM</th>\n",
              "      <th>EFYTOTLT</th>\n",
              "    </tr>\n",
              "  </thead>\n",
              "  <tbody>\n",
              "    <tr>\n",
              "      <th>count</th>\n",
              "      <td>3395.00</td>\n",
              "      <td>3395.00</td>\n",
              "      <td>3395.00</td>\n",
              "      <td>3395.00</td>\n",
              "      <td>3395.00</td>\n",
              "    </tr>\n",
              "    <tr>\n",
              "      <th>mean</th>\n",
              "      <td>23.11</td>\n",
              "      <td>5913.70</td>\n",
              "      <td>218.41</td>\n",
              "      <td>175.48</td>\n",
              "      <td>6327.86</td>\n",
              "    </tr>\n",
              "    <tr>\n",
              "      <th>std</th>\n",
              "      <td>29.12</td>\n",
              "      <td>5785.70</td>\n",
              "      <td>723.32</td>\n",
              "      <td>570.00</td>\n",
              "      <td>10764.32</td>\n",
              "    </tr>\n",
              "    <tr>\n",
              "      <th>min</th>\n",
              "      <td>0.00</td>\n",
              "      <td>0.00</td>\n",
              "      <td>0.00</td>\n",
              "      <td>0.00</td>\n",
              "      <td>6.00</td>\n",
              "    </tr>\n",
              "    <tr>\n",
              "      <th>25%</th>\n",
              "      <td>0.00</td>\n",
              "      <td>0.00</td>\n",
              "      <td>0.00</td>\n",
              "      <td>0.00</td>\n",
              "      <td>856.50</td>\n",
              "    </tr>\n",
              "    <tr>\n",
              "      <th>50%</th>\n",
              "      <td>0.00</td>\n",
              "      <td>6028.00</td>\n",
              "      <td>0.00</td>\n",
              "      <td>0.00</td>\n",
              "      <td>2450.00</td>\n",
              "    </tr>\n",
              "    <tr>\n",
              "      <th>75%</th>\n",
              "      <td>45.00</td>\n",
              "      <td>10800.00</td>\n",
              "      <td>62.50</td>\n",
              "      <td>74.50</td>\n",
              "      <td>7245.50</td>\n",
              "    </tr>\n",
              "    <tr>\n",
              "      <th>max</th>\n",
              "      <td>300.00</td>\n",
              "      <td>20894.00</td>\n",
              "      <td>11957.00</td>\n",
              "      <td>7265.00</td>\n",
              "      <td>162646.00</td>\n",
              "    </tr>\n",
              "  </tbody>\n",
              "</table>\n",
              "</div>\n",
              "      <button class=\"colab-df-convert\" onclick=\"convertToInteractive('df-6e3afed1-fe9c-4544-a297-c0a9f5df8aca')\"\n",
              "              title=\"Convert this dataframe to an interactive table.\"\n",
              "              style=\"display:none;\">\n",
              "        \n",
              "  <svg xmlns=\"http://www.w3.org/2000/svg\" height=\"24px\"viewBox=\"0 0 24 24\"\n",
              "       width=\"24px\">\n",
              "    <path d=\"M0 0h24v24H0V0z\" fill=\"none\"/>\n",
              "    <path d=\"M18.56 5.44l.94 2.06.94-2.06 2.06-.94-2.06-.94-.94-2.06-.94 2.06-2.06.94zm-11 1L8.5 8.5l.94-2.06 2.06-.94-2.06-.94L8.5 2.5l-.94 2.06-2.06.94zm10 10l.94 2.06.94-2.06 2.06-.94-2.06-.94-.94-2.06-.94 2.06-2.06.94z\"/><path d=\"M17.41 7.96l-1.37-1.37c-.4-.4-.92-.59-1.43-.59-.52 0-1.04.2-1.43.59L10.3 9.45l-7.72 7.72c-.78.78-.78 2.05 0 2.83L4 21.41c.39.39.9.59 1.41.59.51 0 1.02-.2 1.41-.59l7.78-7.78 2.81-2.81c.8-.78.8-2.07 0-2.86zM5.41 20L4 18.59l7.72-7.72 1.47 1.35L5.41 20z\"/>\n",
              "  </svg>\n",
              "      </button>\n",
              "      \n",
              "  <style>\n",
              "    .colab-df-container {\n",
              "      display:flex;\n",
              "      flex-wrap:wrap;\n",
              "      gap: 12px;\n",
              "    }\n",
              "\n",
              "    .colab-df-convert {\n",
              "      background-color: #E8F0FE;\n",
              "      border: none;\n",
              "      border-radius: 50%;\n",
              "      cursor: pointer;\n",
              "      display: none;\n",
              "      fill: #1967D2;\n",
              "      height: 32px;\n",
              "      padding: 0 0 0 0;\n",
              "      width: 32px;\n",
              "    }\n",
              "\n",
              "    .colab-df-convert:hover {\n",
              "      background-color: #E2EBFA;\n",
              "      box-shadow: 0px 1px 2px rgba(60, 64, 67, 0.3), 0px 1px 3px 1px rgba(60, 64, 67, 0.15);\n",
              "      fill: #174EA6;\n",
              "    }\n",
              "\n",
              "    [theme=dark] .colab-df-convert {\n",
              "      background-color: #3B4455;\n",
              "      fill: #D2E3FC;\n",
              "    }\n",
              "\n",
              "    [theme=dark] .colab-df-convert:hover {\n",
              "      background-color: #434B5C;\n",
              "      box-shadow: 0px 1px 3px 1px rgba(0, 0, 0, 0.15);\n",
              "      filter: drop-shadow(0px 1px 2px rgba(0, 0, 0, 0.3));\n",
              "      fill: #FFFFFF;\n",
              "    }\n",
              "  </style>\n",
              "\n",
              "      <script>\n",
              "        const buttonEl =\n",
              "          document.querySelector('#df-6e3afed1-fe9c-4544-a297-c0a9f5df8aca button.colab-df-convert');\n",
              "        buttonEl.style.display =\n",
              "          google.colab.kernel.accessAllowed ? 'block' : 'none';\n",
              "\n",
              "        async function convertToInteractive(key) {\n",
              "          const element = document.querySelector('#df-6e3afed1-fe9c-4544-a297-c0a9f5df8aca');\n",
              "          const dataTable =\n",
              "            await google.colab.kernel.invokeFunction('convertToInteractive',\n",
              "                                                     [key], {});\n",
              "          if (!dataTable) return;\n",
              "\n",
              "          const docLinkHtml = 'Like what you see? Visit the ' +\n",
              "            '<a target=\"_blank\" href=https://colab.research.google.com/notebooks/data_table.ipynb>data table notebook</a>'\n",
              "            + ' to learn more about interactive tables.';\n",
              "          element.innerHTML = '';\n",
              "          dataTable['output_type'] = 'display_data';\n",
              "          await google.colab.output.renderOutput(dataTable, element);\n",
              "          const docLink = document.createElement('div');\n",
              "          docLink.innerHTML = docLinkHtml;\n",
              "          element.appendChild(docLink);\n",
              "        }\n",
              "      </script>\n",
              "    </div>\n",
              "  </div>\n",
              "  "
            ]
          },
          "metadata": {},
          "execution_count": 23
        }
      ],
      "source": [
        "df_2020_ok[['APPLFEEU','RMANDBRDAMT','SATNUM', 'ACTNUM','EFYTOTLT']].describe().round(decimals=2)"
      ]
    },
    {
      "cell_type": "markdown",
      "metadata": {
        "id": "tY35MOCCL8UH"
      },
      "source": [
        "### Taking a look at the numerical variables, it is clear that the data needs to be rescaled and that it also presents outliers "
      ]
    },
    {
      "cell_type": "code",
      "execution_count": 24,
      "metadata": {
        "id": "hoxMBc4TLoCy",
        "colab": {
          "base_uri": "https://localhost:8080/",
          "height": 265
        },
        "outputId": "4b3aa49c-8718-4b08-ecdb-2f22d64745bf"
      },
      "outputs": [
        {
          "output_type": "display_data",
          "data": {
            "text/plain": [
              "<Figure size 432x288 with 1 Axes>"
            ],
            "image/png": "[encoded data removed]"
          },
          "metadata": {
            "needs_background": "light"
          }
        }
      ],
      "source": [
        "boxplot = df_2020_ok.boxplot(column=['APPLFEEU','RMANDBRDAMT','SATNUM', 'ACTNUM','EFYTOTLT']) "
      ]
    },
    {
      "cell_type": "markdown",
      "metadata": {
        "id": "sDndUTl6EQUT"
      },
      "source": [
        "### Furthermore, many of the variables are discreet and categorical in nature really. \n",
        "\n",
        "### This requires us to make sure that our algorithm interprets the data correctly as categorical in nature, and not numeric\n",
        "\n",
        "### In order to fix this problem we will preprocess the data\n",
        "\n",
        "### However, before preprocessing the data, we will split our df in training and testing datasets. This is done at this stage in order not to influence the training dataset with information from our Testing dataset, therefore allowing us to build a more valuable model for prediction purposes\n",
        "\n",
        "https://towardsdatascience.com/feature-scaling-and-normalisation-in-a-nutshell-5319af86f89b\n",
        "\n"
      ]
    },
    {
      "cell_type": "markdown",
      "metadata": {
        "id": "nwsCX1bg3Bm2"
      },
      "source": [
        "### Because many of the variables in our DF are categorical in nature we will convert these back into object types in order to have our df set up for one hot encoding. "
      ]
    },
    {
      "cell_type": "code",
      "execution_count": 25,
      "metadata": {
        "id": "6Np9rH8F2w3g",
        "colab": {
          "base_uri": "https://localhost:8080/"
        },
        "outputId": "f66ef20b-af2e-46d0-e4d2-d8909497f992"
      },
      "outputs": [
        {
          "output_type": "execute_result",
          "data": {
            "text/plain": [
              "(3395, 49)"
            ]
          },
          "metadata": {},
          "execution_count": 25
        }
      ],
      "source": [
        "df_2020_ok.shape"
      ]
    },
    {
      "cell_type": "code",
      "execution_count": 26,
      "metadata": {
        "id": "mJXsYpElb2BB",
        "colab": {
          "base_uri": "https://localhost:8080/"
        },
        "outputId": "b10d1131-7e47-48bb-db79-d24d4414bf9b"
      },
      "outputs": [
        {
          "output_type": "execute_result",
          "data": {
            "text/plain": [
              "Index(['OBEREG', 'HDEGOFFR', 'GROFFER', 'HBCU', 'LOCALE', 'INSTCAT',\n",
              "       'INSTSIZE', 'CNTLAFFI', 'OPENADMP', 'CREDITS1', 'CREDITS2', 'CREDITS3',\n",
              "       'CREDITS4', 'SLO5', 'SLO6', 'SLO7', 'SLO83', 'STUSRV1', 'STUSRV2',\n",
              "       'STUSRV3', 'STUSRV4', 'STUSRV8', 'LIBRES1', 'ATHASSOC', 'APPLFEEU',\n",
              "       'TUITVARY', 'ROOM', 'BOARD', 'TUITPL', 'VET1', 'VET2', 'VET3', 'VET4',\n",
              "       'VET5', 'DSTNUGC', 'DSTNUGP', 'RMANDBRDAMT', 'ADMCON1', 'ADMCON2',\n",
              "       'ADMCON3', 'ADMCON4', 'ADMCON5', 'ADMCON6', 'ADMCON7', 'ADMCON8',\n",
              "       'ADMCON9', 'SATNUM', 'ACTNUM', 'EFYTOTLT'],\n",
              "      dtype='object')"
            ]
          },
          "metadata": {},
          "execution_count": 26
        }
      ],
      "source": [
        "df_2020_ok.columns"
      ]
    },
    {
      "cell_type": "code",
      "execution_count": 28,
      "metadata": {
        "id": "NcEw3ln8cGDX",
        "colab": {
          "base_uri": "https://localhost:8080/"
        },
        "outputId": "3bb3d458-56b8-4bc5-e3a0-1ba0afe08bc9"
      },
      "outputs": [
        {
          "output_type": "stream",
          "name": "stdout",
          "text": [
            "<class 'pandas.core.frame.DataFrame'>\n",
            "Int64Index: 3395 entries, 31071 to 34558\n",
            "Data columns (total 49 columns):\n",
            " #   Column       Non-Null Count  Dtype\n",
            "---  ------       --------------  -----\n",
            " 0   OBEREG       3395 non-null   int64\n",
            " 1   HDEGOFFR     3395 non-null   int64\n",
            " 2   GROFFER      3395 non-null   int64\n",
            " 3   HBCU         3395 non-null   int64\n",
            " 4   LOCALE       3395 non-null   int64\n",
            " 5   INSTCAT      3395 non-null   int64\n",
            " 6   INSTSIZE     3395 non-null   int64\n",
            " 7   CNTLAFFI     3395 non-null   int64\n",
            " 8   OPENADMP     3395 non-null   int64\n",
            " 9   CREDITS1     3395 non-null   int64\n",
            " 10  CREDITS2     3395 non-null   int64\n",
            " 11  CREDITS3     3395 non-null   int64\n",
            " 12  CREDITS4     3395 non-null   int64\n",
            " 13  SLO5         3395 non-null   int64\n",
            " 14  SLO6         3395 non-null   int64\n",
            " 15  SLO7         3395 non-null   int64\n",
            " 16  SLO83        3395 non-null   int64\n",
            " 17  STUSRV1      3395 non-null   int64\n",
            " 18  STUSRV2      3395 non-null   int64\n",
            " 19  STUSRV3      3395 non-null   int64\n",
            " 20  STUSRV4      3395 non-null   int64\n",
            " 21  STUSRV8      3395 non-null   int64\n",
            " 22  LIBRES1      3395 non-null   int64\n",
            " 23  ATHASSOC     3395 non-null   int64\n",
            " 24  APPLFEEU     3395 non-null   int64\n",
            " 25  TUITVARY     3395 non-null   int64\n",
            " 26  ROOM         3395 non-null   int64\n",
            " 27  BOARD        3395 non-null   int64\n",
            " 28  TUITPL       3395 non-null   int64\n",
            " 29  VET1         3395 non-null   int64\n",
            " 30  VET2         3395 non-null   int64\n",
            " 31  VET3         3395 non-null   int64\n",
            " 32  VET4         3395 non-null   int64\n",
            " 33  VET5         3395 non-null   int64\n",
            " 34  DSTNUGC      3395 non-null   int64\n",
            " 35  DSTNUGP      3395 non-null   int64\n",
            " 36  RMANDBRDAMT  3395 non-null   int64\n",
            " 37  ADMCON1      3395 non-null   int64\n",
            " 38  ADMCON2      3395 non-null   int64\n",
            " 39  ADMCON3      3395 non-null   int64\n",
            " 40  ADMCON4      3395 non-null   int64\n",
            " 41  ADMCON5      3395 non-null   int64\n",
            " 42  ADMCON6      3395 non-null   int64\n",
            " 43  ADMCON7      3395 non-null   int64\n",
            " 44  ADMCON8      3395 non-null   int64\n",
            " 45  ADMCON9      3395 non-null   int64\n",
            " 46  SATNUM       3395 non-null   int64\n",
            " 47  ACTNUM       3395 non-null   int64\n",
            " 48  EFYTOTLT     3395 non-null   int64\n",
            "dtypes: int64(49)\n",
            "memory usage: 1.3 MB\n"
          ]
        }
      ],
      "source": [
        "df_2020_ok.info()"
      ]
    },
    {
      "cell_type": "markdown",
      "metadata": {
        "id": "HkHMI3uX50cW"
      },
      "source": [
        "### We will split our data before pre-processing it as this avoids encountering some issues down the road. There is debate among experts on whether this is the proper approach to hold. "
      ]
    },
    {
      "cell_type": "markdown",
      "metadata": {
        "id": "R9VY8QegYoCb"
      },
      "source": [
        "### Checking different preprocessing procedures it seems clear that using Robust scaling for the Numerical columns in our df is the best approach.\n",
        "\n",
        "### This approach to pre-processing the data takes into consideration the presence of outliers, which our data has many of"
      ]
    },
    {
      "cell_type": "code",
      "execution_count": 29,
      "metadata": {
        "id": "mlktko447D-d"
      },
      "outputs": [],
      "source": [
        "df_2020_num = df_2020_ok.loc[:,['APPLFEEU','RMANDBRDAMT','SATNUM', 'ACTNUM','EFYTOTLT']]\n",
        "# df_2020_num"
      ]
    },
    {
      "cell_type": "code",
      "execution_count": 30,
      "metadata": {
        "id": "mFdvX0YTIlUS",
        "colab": {
          "base_uri": "https://localhost:8080/",
          "height": 353
        },
        "outputId": "cf8bc4e6-7f5d-407e-ebb4-f0b0c0ad9dc0"
      },
      "outputs": [
        {
          "output_type": "display_data",
          "data": {
            "text/plain": [
              "<Figure size 1440x360 with 7 Axes>"
            ],
            "image/png": "[encoded data removed]"
          },
          "metadata": {}
        }
      ],
      "source": [
        "# data https://www.geeksforgeeks.org/standardscaler-minmaxscaler-and-robustscaler-techniques-ml/\n",
        "# https://scikit-learn.org/stable/auto_examples/preprocessing/plot_all_scaling.html\n",
        "# https://towardsdatascience.com/scale-standardize-or-normalize-with-scikit-learn-6ccc7d176a02\n",
        "\n",
        "scaler = RobustScaler()\n",
        "robust_df = scaler.fit_transform(df_2020_num)\n",
        "robust_df = pd.DataFrame(robust_df, columns =['APPLFEEU','RMANDBRDAMT','SATNUM', 'ACTNUM','EFYTOTLT'])\n",
        " \n",
        "scaler = StandardScaler()\n",
        "standard_df = scaler.fit_transform(df_2020_num)\n",
        "standard_df = pd.DataFrame(standard_df, columns =['APPLFEEU','RMANDBRDAMT','SATNUM', 'ACTNUM','EFYTOTLT'])\n",
        " \n",
        "scaler = MinMaxScaler()\n",
        "minmax_df = scaler.fit_transform(df_2020_num)\n",
        "minmax_df = pd.DataFrame(minmax_df, columns =['APPLFEEU','RMANDBRDAMT','SATNUM', 'ACTNUM','EFYTOTLT'])\n",
        " \n",
        "scaler = PowerTransformer()\n",
        "powerTransform_df = scaler.fit_transform(df_2020_num)\n",
        "powerTransform_df = pd.DataFrame(powerTransform_df, columns =['APPLFEEU','RMANDBRDAMT','SATNUM', 'ACTNUM','EFYTOTLT'])\n",
        "\n",
        "scaler = QuantileTransformer()\n",
        "quantileTransform_df = scaler.fit_transform(df_2020_num)\n",
        "quantileTransform_df = pd.DataFrame(quantileTransform_df, columns =['APPLFEEU','RMANDBRDAMT','SATNUM', 'ACTNUM','EFYTOTLT'])\n",
        "\n",
        "scaler = Normalizer()\n",
        "normalized_df = scaler.fit_transform(df_2020_num)\n",
        "normalized_df = pd.DataFrame(normalized_df, columns =['APPLFEEU','RMANDBRDAMT','SATNUM', 'ACTNUM','EFYTOTLT'])\n",
        "\n",
        "fig, (ax1, ax2, ax3, ax4, ax5, ax6, ax7) = plt.subplots(ncols = 7, figsize =(20, 5))\n",
        "ax1.set_title('Before Scaling')\n",
        " \n",
        "sns.kdeplot(df_2020_num['APPLFEEU'], ax = ax1, color ='red')\n",
        "sns.kdeplot(df_2020_num['RMANDBRDAMT'], ax = ax1, color ='blue')\n",
        "sns.kdeplot(df_2020_num['SATNUM'], ax = ax1, color ='yellow')\n",
        "sns.kdeplot(df_2020_num['ACTNUM'], ax = ax1, color ='green')\n",
        "sns.kdeplot(df_2020_num['EFYTOTLT'], ax = ax1, color ='black') # '', '',''\n",
        "ax2.set_title('After \\n Robust Scaling')\n",
        " \n",
        "sns.kdeplot(robust_df['APPLFEEU'], ax = ax2, color ='red')\n",
        "sns.kdeplot(robust_df['RMANDBRDAMT'], ax = ax2, color ='blue')\n",
        "sns.kdeplot(robust_df['SATNUM'], ax = ax2, color ='yellow')\n",
        "sns.kdeplot(robust_df['ACTNUM'], ax = ax2, color ='green')\n",
        "sns.kdeplot(robust_df['EFYTOTLT'], ax = ax2, color ='black')\n",
        "\n",
        "ax3.set_title('After \\n Standard Scaling')\n",
        " \n",
        "sns.kdeplot(standard_df['APPLFEEU'], ax = ax3, color ='red')\n",
        "sns.kdeplot(standard_df['RMANDBRDAMT'], ax = ax3, color ='blue')\n",
        "sns.kdeplot(standard_df['SATNUM'], ax = ax3, color ='yellow')\n",
        "sns.kdeplot(standard_df['ACTNUM'], ax = ax3, color ='green')\n",
        "sns.kdeplot(standard_df['EFYTOTLT'], ax = ax3, color ='black')\n",
        "\n",
        "ax4.set_title('After \\n Min-Max Scaling')\n",
        "sns.kdeplot(minmax_df['APPLFEEU'], ax = ax4, color ='red')\n",
        "sns.kdeplot(minmax_df['RMANDBRDAMT'], ax = ax4, color ='blue')\n",
        "sns.kdeplot(minmax_df['SATNUM'], ax = ax4, color ='yellow')\n",
        "sns.kdeplot(minmax_df['ACTNUM'], ax = ax4, color ='green')\n",
        "sns.kdeplot(minmax_df['EFYTOTLT'], ax = ax4, color ='black')\n",
        "\n",
        "ax5.set_title('After \\n Power-Transform Scaling')\n",
        "sns.kdeplot(powerTransform_df['APPLFEEU'], ax = ax5, color ='red')\n",
        "sns.kdeplot(powerTransform_df['RMANDBRDAMT'], ax = ax5, color ='blue')\n",
        "sns.kdeplot(powerTransform_df['SATNUM'], ax = ax5, color ='yellow')\n",
        "sns.kdeplot(powerTransform_df['ACTNUM'], ax = ax5, color ='green')\n",
        "sns.kdeplot(powerTransform_df['EFYTOTLT'], ax = ax5, color ='black')\n",
        "\n",
        "ax6.set_title('After \\n Quantile-Transform Scaling')\n",
        "sns.kdeplot(quantileTransform_df['APPLFEEU'], ax = ax6, color ='red')\n",
        "sns.kdeplot(quantileTransform_df['RMANDBRDAMT'], ax = ax6, color ='blue')\n",
        "sns.kdeplot(quantileTransform_df['SATNUM'], ax = ax6, color ='yellow')\n",
        "sns.kdeplot(quantileTransform_df['ACTNUM'], ax = ax6, color ='green')\n",
        "sns.kdeplot(quantileTransform_df['EFYTOTLT'], ax = ax6, color ='black')\n",
        "\n",
        "ax7.set_title('After \\n Normal Scaling')\n",
        "sns.kdeplot(normalized_df['APPLFEEU'], ax = ax7, color ='red')\n",
        "sns.kdeplot(normalized_df['RMANDBRDAMT'], ax = ax7, color ='blue')\n",
        "sns.kdeplot(normalized_df['SATNUM'], ax = ax7, color ='yellow')\n",
        "sns.kdeplot(normalized_df['ACTNUM'], ax = ax7, color ='green')\n",
        "sns.kdeplot(normalized_df['EFYTOTLT'], ax = ax7, color ='black')\n",
        "\n",
        "for ax in [ax1, ax2, ax3, ax4, ax5, ax6, ax7]:\n",
        "    # ax.yaxis.grid(True)\n",
        "    ax.set_xlabel('')\n",
        "    # ax.set_ylabel('Observed values')"
      ]
    },
    {
      "cell_type": "code",
      "execution_count": 31,
      "metadata": {
        "id": "ML42KUkiQgl7"
      },
      "outputs": [],
      "source": [
        "X = df_2020_ok.iloc[:, :-1]\n",
        "y = df_2020_ok.iloc[:, -1:]\n",
        "\n"
      ]
    },
    {
      "cell_type": "code",
      "execution_count": 32,
      "metadata": {
        "id": "vQbL12odQYIS"
      },
      "outputs": [],
      "source": [
        "X_train, X_test, y_train, y_test = train_test_split(X, y, test_size=0.30, random_state=42)"
      ]
    },
    {
      "cell_type": "code",
      "execution_count": 33,
      "metadata": {
        "id": "ZTUKu3v5Shw6",
        "colab": {
          "base_uri": "https://localhost:8080/",
          "height": 423
        },
        "outputId": "08de1377-b620-4645-d4df-21fb2ea309e9"
      },
      "outputs": [
        {
          "output_type": "execute_result",
          "data": {
            "text/plain": [
              "       OBEREG  HDEGOFFR  GROFFER  HBCU  LOCALE  INSTCAT  INSTSIZE  CNTLAFFI  \\\n",
              "34249       5        30        2     2      12        2         1         4   \n",
              "32066       2        40        2     2      11        1         2         1   \n",
              "31536       5        12        1     2      13        2         3         3   \n",
              "32815       5        40        2     2      42        1         2         1   \n",
              "32147       1        20        1     2      13        2         2         3   \n",
              "...       ...       ...      ...   ...     ...      ...       ...       ...   \n",
              "32168       1        11        1     2      11        2         5         3   \n",
              "32203       3        11        1     2      32        2         4         1   \n",
              "32367       4        20        1     2      12        2         1         3   \n",
              "31932       4        11        1     2      13        2         5         1   \n",
              "34331       6        13        1     2      11        2         2         2   \n",
              "\n",
              "       OPENADMP  CREDITS1  ...  ADMCON2  ADMCON3  ADMCON4  ADMCON5  ADMCON6  \\\n",
              "34249         1         1  ...        0        0        0        0        0   \n",
              "32066         1         1  ...        0        0        0        0        0   \n",
              "31536         2         1  ...        5        1        1        5        2   \n",
              "32815         1         1  ...        0        0        0        0        0   \n",
              "32147         2         1  ...        3        1        2        1        3   \n",
              "...         ...       ...  ...      ...      ...      ...      ...      ...   \n",
              "32168         2         1  ...        2        1        2        1        2   \n",
              "32203         2         1  ...        1        1        1        2        3   \n",
              "32367         2         1  ...        3        1        3        3        3   \n",
              "31932         2         1  ...        2        2        2        2        3   \n",
              "34331         1         0  ...        0        0        0        0        0   \n",
              "\n",
              "       ADMCON7  ADMCON8  ADMCON9  SATNUM  ACTNUM  \n",
              "34249        0        0        0       0       0  \n",
              "32066        0        0        0       0       0  \n",
              "31536        5        1        3     996     598  \n",
              "32815        0        0        0       0       0  \n",
              "32147        5        1        3     177       9  \n",
              "...        ...      ...      ...     ...     ...  \n",
              "32168        1        1        3    1683     976  \n",
              "32203        5        1        3    1957     395  \n",
              "32367        2        2        2       0       0  \n",
              "31932        5        1        3     800    3421  \n",
              "34331        0        0        0       0       0  \n",
              "\n",
              "[2376 rows x 48 columns]"
            ],
            "text/html": [
              "\n",
              "  <div id=\"df-50dc060b-88fb-4088-9ca8-5e1fffe3d672\">\n",
              "    <div class=\"colab-df-container\">\n",
              "      <div>\n",
              "<style scoped>\n",
              "    .dataframe tbody tr th:only-of-type {\n",
              "        vertical-align: middle;\n",
              "    }\n",
              "\n",
              "    .dataframe tbody tr th {\n",
              "        vertical-align: top;\n",
              "    }\n",
              "\n",
              "    .dataframe thead th {\n",
              "        text-align: right;\n",
              "    }\n",
              "</style>\n",
              "<table border=\"1\" class=\"dataframe\">\n",
              "  <thead>\n",
              "    <tr style=\"text-align: right;\">\n",
              "      <th></th>\n",
              "      <th>OBEREG</th>\n",
              "      <th>HDEGOFFR</th>\n",
              "      <th>GROFFER</th>\n",
              "      <th>HBCU</th>\n",
              "      <th>LOCALE</th>\n",
              "      <th>INSTCAT</th>\n",
              "      <th>INSTSIZE</th>\n",
              "      <th>CNTLAFFI</th>\n",
              "      <th>OPENADMP</th>\n",
              "      <th>CREDITS1</th>\n",
              "      <th>...</th>\n",
              "      <th>ADMCON2</th>\n",
              "      <th>ADMCON3</th>\n",
              "      <th>ADMCON4</th>\n",
              "      <th>ADMCON5</th>\n",
              "      <th>ADMCON6</th>\n",
              "      <th>ADMCON7</th>\n",
              "      <th>ADMCON8</th>\n",
              "      <th>ADMCON9</th>\n",
              "      <th>SATNUM</th>\n",
              "      <th>ACTNUM</th>\n",
              "    </tr>\n",
              "  </thead>\n",
              "  <tbody>\n",
              "    <tr>\n",
              "      <th>34249</th>\n",
              "      <td>5</td>\n",
              "      <td>30</td>\n",
              "      <td>2</td>\n",
              "      <td>2</td>\n",
              "      <td>12</td>\n",
              "      <td>2</td>\n",
              "      <td>1</td>\n",
              "      <td>4</td>\n",
              "      <td>1</td>\n",
              "      <td>1</td>\n",
              "      <td>...</td>\n",
              "      <td>0</td>\n",
              "      <td>0</td>\n",
              "      <td>0</td>\n",
              "      <td>0</td>\n",
              "      <td>0</td>\n",
              "      <td>0</td>\n",
              "      <td>0</td>\n",
              "      <td>0</td>\n",
              "      <td>0</td>\n",
              "      <td>0</td>\n",
              "    </tr>\n",
              "    <tr>\n",
              "      <th>32066</th>\n",
              "      <td>2</td>\n",
              "      <td>40</td>\n",
              "      <td>2</td>\n",
              "      <td>2</td>\n",
              "      <td>11</td>\n",
              "      <td>1</td>\n",
              "      <td>2</td>\n",
              "      <td>1</td>\n",
              "      <td>1</td>\n",
              "      <td>1</td>\n",
              "      <td>...</td>\n",
              "      <td>0</td>\n",
              "      <td>0</td>\n",
              "      <td>0</td>\n",
              "      <td>0</td>\n",
              "      <td>0</td>\n",
              "      <td>0</td>\n",
              "      <td>0</td>\n",
              "      <td>0</td>\n",
              "      <td>0</td>\n",
              "      <td>0</td>\n",
              "    </tr>\n",
              "    <tr>\n",
              "      <th>31536</th>\n",
              "      <td>5</td>\n",
              "      <td>12</td>\n",
              "      <td>1</td>\n",
              "      <td>2</td>\n",
              "      <td>13</td>\n",
              "      <td>2</td>\n",
              "      <td>3</td>\n",
              "      <td>3</td>\n",
              "      <td>2</td>\n",
              "      <td>1</td>\n",
              "      <td>...</td>\n",
              "      <td>5</td>\n",
              "      <td>1</td>\n",
              "      <td>1</td>\n",
              "      <td>5</td>\n",
              "      <td>2</td>\n",
              "      <td>5</td>\n",
              "      <td>1</td>\n",
              "      <td>3</td>\n",
              "      <td>996</td>\n",
              "      <td>598</td>\n",
              "    </tr>\n",
              "    <tr>\n",
              "      <th>32815</th>\n",
              "      <td>5</td>\n",
              "      <td>40</td>\n",
              "      <td>2</td>\n",
              "      <td>2</td>\n",
              "      <td>42</td>\n",
              "      <td>1</td>\n",
              "      <td>2</td>\n",
              "      <td>1</td>\n",
              "      <td>1</td>\n",
              "      <td>1</td>\n",
              "      <td>...</td>\n",
              "      <td>0</td>\n",
              "      <td>0</td>\n",
              "      <td>0</td>\n",
              "      <td>0</td>\n",
              "      <td>0</td>\n",
              "      <td>0</td>\n",
              "      <td>0</td>\n",
              "      <td>0</td>\n",
              "      <td>0</td>\n",
              "      <td>0</td>\n",
              "    </tr>\n",
              "    <tr>\n",
              "      <th>32147</th>\n",
              "      <td>1</td>\n",
              "      <td>20</td>\n",
              "      <td>1</td>\n",
              "      <td>2</td>\n",
              "      <td>13</td>\n",
              "      <td>2</td>\n",
              "      <td>2</td>\n",
              "      <td>3</td>\n",
              "      <td>2</td>\n",
              "      <td>1</td>\n",
              "      <td>...</td>\n",
              "      <td>3</td>\n",
              "      <td>1</td>\n",
              "      <td>2</td>\n",
              "      <td>1</td>\n",
              "      <td>3</td>\n",
              "      <td>5</td>\n",
              "      <td>1</td>\n",
              "      <td>3</td>\n",
              "      <td>177</td>\n",
              "      <td>9</td>\n",
              "    </tr>\n",
              "    <tr>\n",
              "      <th>...</th>\n",
              "      <td>...</td>\n",
              "      <td>...</td>\n",
              "      <td>...</td>\n",
              "      <td>...</td>\n",
              "      <td>...</td>\n",
              "      <td>...</td>\n",
              "      <td>...</td>\n",
              "      <td>...</td>\n",
              "      <td>...</td>\n",
              "      <td>...</td>\n",
              "      <td>...</td>\n",
              "      <td>...</td>\n",
              "      <td>...</td>\n",
              "      <td>...</td>\n",
              "      <td>...</td>\n",
              "      <td>...</td>\n",
              "      <td>...</td>\n",
              "      <td>...</td>\n",
              "      <td>...</td>\n",
              "      <td>...</td>\n",
              "      <td>...</td>\n",
              "    </tr>\n",
              "    <tr>\n",
              "      <th>32168</th>\n",
              "      <td>1</td>\n",
              "      <td>11</td>\n",
              "      <td>1</td>\n",
              "      <td>2</td>\n",
              "      <td>11</td>\n",
              "      <td>2</td>\n",
              "      <td>5</td>\n",
              "      <td>3</td>\n",
              "      <td>2</td>\n",
              "      <td>1</td>\n",
              "      <td>...</td>\n",
              "      <td>2</td>\n",
              "      <td>1</td>\n",
              "      <td>2</td>\n",
              "      <td>1</td>\n",
              "      <td>2</td>\n",
              "      <td>1</td>\n",
              "      <td>1</td>\n",
              "      <td>3</td>\n",
              "      <td>1683</td>\n",
              "      <td>976</td>\n",
              "    </tr>\n",
              "    <tr>\n",
              "      <th>32203</th>\n",
              "      <td>3</td>\n",
              "      <td>11</td>\n",
              "      <td>1</td>\n",
              "      <td>2</td>\n",
              "      <td>32</td>\n",
              "      <td>2</td>\n",
              "      <td>4</td>\n",
              "      <td>1</td>\n",
              "      <td>2</td>\n",
              "      <td>1</td>\n",
              "      <td>...</td>\n",
              "      <td>1</td>\n",
              "      <td>1</td>\n",
              "      <td>1</td>\n",
              "      <td>2</td>\n",
              "      <td>3</td>\n",
              "      <td>5</td>\n",
              "      <td>1</td>\n",
              "      <td>3</td>\n",
              "      <td>1957</td>\n",
              "      <td>395</td>\n",
              "    </tr>\n",
              "    <tr>\n",
              "      <th>32367</th>\n",
              "      <td>4</td>\n",
              "      <td>20</td>\n",
              "      <td>1</td>\n",
              "      <td>2</td>\n",
              "      <td>12</td>\n",
              "      <td>2</td>\n",
              "      <td>1</td>\n",
              "      <td>3</td>\n",
              "      <td>2</td>\n",
              "      <td>1</td>\n",
              "      <td>...</td>\n",
              "      <td>3</td>\n",
              "      <td>1</td>\n",
              "      <td>3</td>\n",
              "      <td>3</td>\n",
              "      <td>3</td>\n",
              "      <td>2</td>\n",
              "      <td>2</td>\n",
              "      <td>2</td>\n",
              "      <td>0</td>\n",
              "      <td>0</td>\n",
              "    </tr>\n",
              "    <tr>\n",
              "      <th>31932</th>\n",
              "      <td>4</td>\n",
              "      <td>11</td>\n",
              "      <td>1</td>\n",
              "      <td>2</td>\n",
              "      <td>13</td>\n",
              "      <td>2</td>\n",
              "      <td>5</td>\n",
              "      <td>1</td>\n",
              "      <td>2</td>\n",
              "      <td>1</td>\n",
              "      <td>...</td>\n",
              "      <td>2</td>\n",
              "      <td>2</td>\n",
              "      <td>2</td>\n",
              "      <td>2</td>\n",
              "      <td>3</td>\n",
              "      <td>5</td>\n",
              "      <td>1</td>\n",
              "      <td>3</td>\n",
              "      <td>800</td>\n",
              "      <td>3421</td>\n",
              "    </tr>\n",
              "    <tr>\n",
              "      <th>34331</th>\n",
              "      <td>6</td>\n",
              "      <td>13</td>\n",
              "      <td>1</td>\n",
              "      <td>2</td>\n",
              "      <td>11</td>\n",
              "      <td>2</td>\n",
              "      <td>2</td>\n",
              "      <td>2</td>\n",
              "      <td>1</td>\n",
              "      <td>0</td>\n",
              "      <td>...</td>\n",
              "      <td>0</td>\n",
              "      <td>0</td>\n",
              "      <td>0</td>\n",
              "      <td>0</td>\n",
              "      <td>0</td>\n",
              "      <td>0</td>\n",
              "      <td>0</td>\n",
              "      <td>0</td>\n",
              "      <td>0</td>\n",
              "      <td>0</td>\n",
              "    </tr>\n",
              "  </tbody>\n",
              "</table>\n",
              "<p>2376 rows × 48 columns</p>\n",
              "</div>\n",
              "      <button class=\"colab-df-convert\" onclick=\"convertToInteractive('df-50dc060b-88fb-4088-9ca8-5e1fffe3d672')\"\n",
              "              title=\"Convert this dataframe to an interactive table.\"\n",
              "              style=\"display:none;\">\n",
              "        \n",
              "  <svg xmlns=\"http://www.w3.org/2000/svg\" height=\"24px\"viewBox=\"0 0 24 24\"\n",
              "       width=\"24px\">\n",
              "    <path d=\"M0 0h24v24H0V0z\" fill=\"none\"/>\n",
              "    <path d=\"M18.56 5.44l.94 2.06.94-2.06 2.06-.94-2.06-.94-.94-2.06-.94 2.06-2.06.94zm-11 1L8.5 8.5l.94-2.06 2.06-.94-2.06-.94L8.5 2.5l-.94 2.06-2.06.94zm10 10l.94 2.06.94-2.06 2.06-.94-2.06-.94-.94-2.06-.94 2.06-2.06.94z\"/><path d=\"M17.41 7.96l-1.37-1.37c-.4-.4-.92-.59-1.43-.59-.52 0-1.04.2-1.43.59L10.3 9.45l-7.72 7.72c-.78.78-.78 2.05 0 2.83L4 21.41c.39.39.9.59 1.41.59.51 0 1.02-.2 1.41-.59l7.78-7.78 2.81-2.81c.8-.78.8-2.07 0-2.86zM5.41 20L4 18.59l7.72-7.72 1.47 1.35L5.41 20z\"/>\n",
              "  </svg>\n",
              "      </button>\n",
              "      \n",
              "  <style>\n",
              "    .colab-df-container {\n",
              "      display:flex;\n",
              "      flex-wrap:wrap;\n",
              "      gap: 12px;\n",
              "    }\n",
              "\n",
              "    .colab-df-convert {\n",
              "      background-color: #E8F0FE;\n",
              "      border: none;\n",
              "      border-radius: 50%;\n",
              "      cursor: pointer;\n",
              "      display: none;\n",
              "      fill: #1967D2;\n",
              "      height: 32px;\n",
              "      padding: 0 0 0 0;\n",
              "      width: 32px;\n",
              "    }\n",
              "\n",
              "    .colab-df-convert:hover {\n",
              "      background-color: #E2EBFA;\n",
              "      box-shadow: 0px 1px 2px rgba(60, 64, 67, 0.3), 0px 1px 3px 1px rgba(60, 64, 67, 0.15);\n",
              "      fill: #174EA6;\n",
              "    }\n",
              "\n",
              "    [theme=dark] .colab-df-convert {\n",
              "      background-color: #3B4455;\n",
              "      fill: #D2E3FC;\n",
              "    }\n",
              "\n",
              "    [theme=dark] .colab-df-convert:hover {\n",
              "      background-color: #434B5C;\n",
              "      box-shadow: 0px 1px 3px 1px rgba(0, 0, 0, 0.15);\n",
              "      filter: drop-shadow(0px 1px 2px rgba(0, 0, 0, 0.3));\n",
              "      fill: #FFFFFF;\n",
              "    }\n",
              "  </style>\n",
              "\n",
              "      <script>\n",
              "        const buttonEl =\n",
              "          document.querySelector('#df-50dc060b-88fb-4088-9ca8-5e1fffe3d672 button.colab-df-convert');\n",
              "        buttonEl.style.display =\n",
              "          google.colab.kernel.accessAllowed ? 'block' : 'none';\n",
              "\n",
              "        async function convertToInteractive(key) {\n",
              "          const element = document.querySelector('#df-50dc060b-88fb-4088-9ca8-5e1fffe3d672');\n",
              "          const dataTable =\n",
              "            await google.colab.kernel.invokeFunction('convertToInteractive',\n",
              "                                                     [key], {});\n",
              "          if (!dataTable) return;\n",
              "\n",
              "          const docLinkHtml = 'Like what you see? Visit the ' +\n",
              "            '<a target=\"_blank\" href=https://colab.research.google.com/notebooks/data_table.ipynb>data table notebook</a>'\n",
              "            + ' to learn more about interactive tables.';\n",
              "          element.innerHTML = '';\n",
              "          dataTable['output_type'] = 'display_data';\n",
              "          await google.colab.output.renderOutput(dataTable, element);\n",
              "          const docLink = document.createElement('div');\n",
              "          docLink.innerHTML = docLinkHtml;\n",
              "          element.appendChild(docLink);\n",
              "        }\n",
              "      </script>\n",
              "    </div>\n",
              "  </div>\n",
              "  "
            ]
          },
          "metadata": {},
          "execution_count": 33
        }
      ],
      "source": [
        "X_train"
      ]
    },
    {
      "cell_type": "code",
      "execution_count": 34,
      "metadata": {
        "id": "-15Xihmq8bZF"
      },
      "outputs": [],
      "source": [
        " #  #  #  SCALING AFTER SPLITTING LEADS TO ERROR (WITH variables)\n",
        "\n",
        "# https://towardsdatascience.com/feature-scaling-and-normalisation-in-a-nutshell-5319af86f89b\n",
        "# Sebastian Raschka & Vahid Mirjalili (2019) Python Machine Learning \n",
        "\n",
        "\n",
        "# scaler = ColumnTransformer([('onehot1',OneHotEncoder(categories='auto', handle_unknown=\"ignore\", sparse=False), [0]),\n",
        "#                             ('onehot2',OneHotEncoder(categories='auto', drop='first', handle_unknown=\"ignore\", sparse=False), \n",
        "#                              [1]),\n",
        "#                             ('robust_scaling', RobustScaler(), [26,38,48, 49])\n",
        "#                              ] )\n",
        "\n",
        "# scaler = ('robust_scaling', RobustScaler(), [24,36,46, 47]) \n",
        "scaler = ColumnTransformer(remainder='passthrough', \n",
        "                           transformers=[('robust_scaling', RobustScaler(), [24,36,46, 47])\n",
        "                           ])\n",
        "# \n",
        "# I have eliminated the State information and HIEs Unit Id information from the DF \n",
        "\n",
        "scaler_y = RobustScaler()\n",
        "\n",
        "\n",
        "X_train_scaled = scaler.fit_transform(X_train).astype(float)\n",
        "X_test_scaled = scaler.transform(X_test)\n",
        "\n",
        "y_train1 = y_train.to_numpy()\n",
        "y_test1 = y_test.to_numpy()\n",
        "y_train_scaled = scaler_y.fit_transform(y_train1[:,0].reshape(-1,1))\n",
        "y_test_scaled = scaler_y.transform(y_test1[:,0].reshape(-1,1))\n",
        "\n",
        "\n",
        "# y_train_scaled = scaler_y.fit_transform(y_train1[:,np.newaxis]).flatten()\n",
        "# y_test_scaled = scaler_y.fit_transform(y_test1[:,np.newaxis]).flatten()\n",
        "\n",
        "# https://priyanka-ddit.medium.com/handle-unknown-categories-using-onehotencoder-181bdc0a163c - handle error to error \n",
        "# https://github.com/marcotcr/lime/issues/418 \n",
        "# https://www.roelpeters.be/found-unknown-categories-in-column-sklearn/ Error to ignore does not solve the problem "
      ]
    },
    {
      "cell_type": "markdown",
      "metadata": {
        "id": "Ei28e7stXRYv"
      },
      "source": [
        "### Now that we have pre-processed our data let us split our DF in training and testing  datasets"
      ]
    },
    {
      "cell_type": "code",
      "execution_count": 35,
      "metadata": {
        "id": "0Dm98rCRinDw",
        "colab": {
          "base_uri": "https://localhost:8080/"
        },
        "outputId": "5c4a09ac-6010-463c-ffdc-714801aa7791"
      },
      "outputs": [
        {
          "output_type": "execute_result",
          "data": {
            "text/plain": [
              "(2376, 48)"
            ]
          },
          "metadata": {},
          "execution_count": 35
        }
      ],
      "source": [
        "X_train_scaled.shape"
      ]
    },
    {
      "cell_type": "code",
      "execution_count": 36,
      "metadata": {
        "id": "-Xt4cubvip2q",
        "colab": {
          "base_uri": "https://localhost:8080/"
        },
        "outputId": "69523b9e-51e5-4d9d-a3de-7fcafc576724"
      },
      "outputs": [
        {
          "output_type": "execute_result",
          "data": {
            "text/plain": [
              "(1019, 48)"
            ]
          },
          "metadata": {},
          "execution_count": 36
        }
      ],
      "source": [
        "X_test_scaled.shape"
      ]
    },
    {
      "cell_type": "code",
      "execution_count": 37,
      "metadata": {
        "id": "m4TBcbxY2mkQ",
        "colab": {
          "base_uri": "https://localhost:8080/"
        },
        "outputId": "21b2dac4-b6a6-476c-9f70-b4f664caf2f1"
      },
      "outputs": [
        {
          "output_type": "execute_result",
          "data": {
            "text/plain": [
              "(1019, 1)"
            ]
          },
          "metadata": {},
          "execution_count": 37
        }
      ],
      "source": [
        "y_test_scaled.shape"
      ]
    },
    {
      "cell_type": "code",
      "execution_count": 38,
      "metadata": {
        "id": "r8XI30USC32J",
        "colab": {
          "base_uri": "https://localhost:8080/"
        },
        "outputId": "f70f6ad7-5823-43a1-a3e1-a0d8c7eb8834"
      },
      "outputs": [
        {
          "output_type": "execute_result",
          "data": {
            "text/plain": [
              "(2376, 1)"
            ]
          },
          "metadata": {},
          "execution_count": 38
        }
      ],
      "source": [
        "y_train_scaled.shape"
      ]
    },
    {
      "cell_type": "markdown",
      "metadata": {
        "id": "RhMXnONTImSD"
      },
      "source": [
        "### Creating the Covariance matrix for the scaled data as a first step to then select the most importat features that seem to influence enrollment in the HEIs"
      ]
    },
    {
      "cell_type": "code",
      "execution_count": 39,
      "metadata": {
        "id": "tOqtFu4NSk_A"
      },
      "outputs": [],
      "source": [
        "X_train_scaled1 = pd.DataFrame(X_train_scaled)\n",
        "# X_train_scaled1"
      ]
    },
    {
      "cell_type": "code",
      "execution_count": 40,
      "metadata": {
        "id": "fiifIIWtY6rp"
      },
      "outputs": [],
      "source": [
        "X_test_scaled1 = pd.DataFrame(X_test_scaled)\n",
        "# X_test_scaled1"
      ]
    },
    {
      "cell_type": "code",
      "execution_count": 41,
      "metadata": {
        "id": "gWVuAfv8XrsO"
      },
      "outputs": [],
      "source": [
        "y_train_scaled1 = pd.DataFrame(y_train_scaled)\n",
        "# y_train_scaled1"
      ]
    },
    {
      "cell_type": "code",
      "execution_count": 42,
      "metadata": {
        "id": "CiNWHcR_ZDR-"
      },
      "outputs": [],
      "source": [
        "y_test_scaled1 = pd.DataFrame(y_test_scaled)\n",
        "# y_test_scaled1"
      ]
    },
    {
      "cell_type": "code",
      "execution_count": 43,
      "metadata": {
        "id": "XLqR_qzNZxmQ"
      },
      "outputs": [],
      "source": [
        "# type(y_train_scaled1)"
      ]
    },
    {
      "cell_type": "markdown",
      "metadata": {
        "id": "6QulTpotbUdY"
      },
      "source": [
        "### Let us first run a straightforward linear regression on the data and see how the model performs "
      ]
    },
    {
      "cell_type": "code",
      "execution_count": 44,
      "metadata": {
        "id": "Epx5O9wkbdPT",
        "colab": {
          "base_uri": "https://localhost:8080/"
        },
        "outputId": "639ac657-0023-4506-c0cb-5d83317e51dd"
      },
      "outputs": [
        {
          "output_type": "execute_result",
          "data": {
            "text/plain": [
              "0.6740861794455203"
            ]
          },
          "metadata": {},
          "execution_count": 44
        }
      ],
      "source": [
        "# https://scikit-learn.org/stable/modules/generated/sklearn.linear_model.LinearRegression.html\n",
        "# import numpy as np\n",
        "\n",
        "\n",
        "regressor = LinearRegression()\n",
        "reg=regressor.fit(X_train_scaled, y_train_scaled)\n",
        "reg.score(X_train_scaled, y_train_scaled)\n",
        "\n",
        "# reg.coef_\n",
        "\n",
        "# reg.intercept_\n",
        "\n",
        "# reg.predict(np.array([[3, 5]]))\n",
        "\n"
      ]
    },
    {
      "cell_type": "code",
      "execution_count": 45,
      "metadata": {
        "id": "eCHsKoq9ccWi",
        "colab": {
          "base_uri": "https://localhost:8080/"
        },
        "outputId": "b4ae8271-192f-438b-fb9a-8b55e640927e"
      },
      "outputs": [
        {
          "output_type": "execute_result",
          "data": {
            "text/plain": [
              "array([[-0.03374114, -0.39659443,  0.01934791,  0.01096469,  0.02492694,\n",
              "         0.01083404,  0.14069179,  0.03474407, -0.00678765,  0.06259311,\n",
              "         1.14705706,  0.07486042, -0.12580951,  0.20121865,  0.04321486,\n",
              "         0.07856374,  0.18457272, -0.06610737,  0.01887346,  0.04440684,\n",
              "         0.0076978 ,  0.0117341 ,  0.04149551, -0.01070539, -0.03206023,\n",
              "         0.0296441 , -0.12278773,  0.14186676,  0.01185177, -0.09172892,\n",
              "         0.01451114,  0.04265442, -0.04869336,  0.02454271, -0.09893676,\n",
              "        -0.11801212, -0.05039534, -0.08331008, -0.00451132,  0.01416049,\n",
              "         0.01275918,  0.00175988,  0.04636434,  0.0024841 ,  0.00323637,\n",
              "         0.00129462, -0.00586889, -0.06513796]])"
            ]
          },
          "metadata": {},
          "execution_count": 45
        }
      ],
      "source": [
        "reg.coef_"
      ]
    },
    {
      "cell_type": "code",
      "execution_count": 46,
      "metadata": {
        "id": "eAzE1VsxcgbX",
        "colab": {
          "base_uri": "https://localhost:8080/"
        },
        "outputId": "73196375-f7a8-4aa8-f6c1-3e3a23c061a3"
      },
      "outputs": [
        {
          "output_type": "execute_result",
          "data": {
            "text/plain": [
              "array([-2.68611984])"
            ]
          },
          "metadata": {},
          "execution_count": 46
        }
      ],
      "source": [
        "reg.intercept_"
      ]
    },
    {
      "cell_type": "code",
      "execution_count": 47,
      "metadata": {
        "id": "RuAsJ0KncyBi"
      },
      "outputs": [],
      "source": [
        "y_test_scaled_predicted = reg.predict(X_test_scaled)\n",
        "\n",
        "y_train_scaled_predicted = reg.predict(X_train_scaled)"
      ]
    },
    {
      "cell_type": "markdown",
      "metadata": {
        "id": "ICHvS2jQG5mu"
      },
      "source": [
        "\n",
        "### The performance of the straightforward regression on our test data is not very good.\n",
        "\n",
        "### This is not surprising as we have not performed any data manipulation or feature selection to better calibrate our model \n",
        "\n",
        "### Note that the performance is not good on neither Testing nor Training data. Our model in fact reaches only a 66.75% accuracy on Training data  and only a 60.52 % accuracy on Testing data. "
      ]
    },
    {
      "cell_type": "code",
      "execution_count": 48,
      "metadata": {
        "id": "ynHrRHaSeYuw",
        "colab": {
          "base_uri": "https://localhost:8080/"
        },
        "outputId": "515a5a89-5c69-4140-fec0-4c9e2f7dab2a"
      },
      "outputs": [
        {
          "output_type": "stream",
          "name": "stdout",
          "text": [
            "Training Data Model Accuracy: 67.41%\n",
            "\n",
            "Testing Data Model Accuracy: 59.68%\n",
            "\n"
          ]
        }
      ],
      "source": [
        "# Model Performance on training data AND on testing data\n",
        "scores = reg.score(X_train_scaled,y_train_scaled)\n",
        "print(\"Training Data Model Accuracy: %.2f%%\\n\" % (scores*100))\n",
        "scores = reg.score(X_test_scaled,y_test_scaled)\n",
        "print(\"Testing Data Model Accuracy: %.2f%%\\n\" % (scores*100))"
      ]
    },
    {
      "cell_type": "markdown",
      "metadata": {
        "id": "roi_tZvaICs6"
      },
      "source": [
        "### Although the accuracy is relatively low the measure of the Mean Squared Error is not very high all things considered. This would seem to indicate that the model performs well and that the error (the residuals) between actual enrollment and predicted enrollment for our HEIs for the year 2020 are relatively small. "
      ]
    },
    {
      "cell_type": "markdown",
      "metadata": {
        "id": "of_eJueDJDJA"
      },
      "source": [
        "### Looking at the explained variance from the model we note that this is actually not  too high which also confirms that the model is not performing so well . \n",
        "\n",
        "### Higher explained variance implies a stronger association between the variables and the target variable which would indicate that the model leads to better predictions. \n"
      ]
    },
    {
      "cell_type": "code",
      "execution_count": 49,
      "metadata": {
        "id": "-TOvCtigccnS",
        "colab": {
          "base_uri": "https://localhost:8080/"
        },
        "outputId": "ea0b821b-00c7-4f18-f7d5-1205be6973c9"
      },
      "outputs": [
        {
          "output_type": "stream",
          "name": "stdout",
          "text": [
            "The Explained Variance score \n",
            "(also known as the Coefficient of Determination or R Squadre) is: 0.60\n"
          ]
        }
      ],
      "source": [
        "# Explained variance score: 1 is perfect prediction\n",
        "print('The Explained Variance score \\n(also known as the Coefficient of Determination or R Squadre) is: %.2f' % r2_score(y_test_scaled, y_test_scaled_predicted))"
      ]
    },
    {
      "cell_type": "code",
      "execution_count": 50,
      "metadata": {
        "id": "s7Xm5zQR9q4Y",
        "colab": {
          "base_uri": "https://localhost:8080/"
        },
        "outputId": "932daa77-0796-4714-efdb-b5b4f6b5fdf8"
      },
      "outputs": [
        {
          "output_type": "stream",
          "name": "stdout",
          "text": [
            "R-Squared (test data):  59.68 %\n",
            "\n",
            "R-Squared represents the fraction of response  variance captured by the model (a 'standardized' Mean Squared Error) \n",
            "\n",
            "\n",
            "Mean absolute error (MAE) (test data):  0.49868030157850524 \n",
            "\n",
            "Mean squared error (MSE) (test data):  1.1589300948883814 \n",
            "\n",
            "The larger value of the MSE on the test dataset indicates that the model is not performing great and that it is Overfitting\n",
            "\n",
            "\n",
            "R-Squared (train data):  67.41 %\n",
            "\n",
            "Mean absolute error (MAE) (train data):  0.45438593851229053 \n",
            "\n",
            "Mean squared error (MSE) (train data):  0.9070804764171982 \n",
            "\n"
          ]
        }
      ],
      "source": [
        "\n",
        "\n",
        "from sklearn.metrics import r2_score, mean_absolute_error, mean_squared_error\n",
        "\n",
        "print(\"R-Squared (test data): \", round((r2_score(y_test_scaled, y_test_scaled_predicted)*100), 2), '%\\n')\n",
        "print(\"R-Squared represents the fraction of response  variance captured by the model (a 'standardized' Mean Squared Error) \\n\\n\")\n",
        "\n",
        "print(\"Mean absolute error (MAE) (test data): \", (mean_absolute_error(y_test_scaled, y_test_scaled_predicted)),'\\n')\n",
        "\n",
        "print(\"Mean squared error (MSE) (test data): \", np.sqrt(mean_squared_error(y_test_scaled, y_test_scaled_predicted)),'\\n')\n",
        "print(\"The larger value of the MSE on the test dataset indicates that the model is not performing great and that it is Overfitting\\n\\n\")\n",
        "\n",
        "print(\"R-Squared (train data): \", round((r2_score(y_train_scaled, y_train_scaled_predicted)*100), 2), '%\\n')\n",
        "\n",
        "print(\"Mean absolute error (MAE) (train data): \", (mean_absolute_error(y_train_scaled, y_train_scaled_predicted)),'\\n')\n",
        "\n",
        "print(\"Mean squared error (MSE) (train data): \", np.sqrt(mean_squared_error(y_train_scaled, y_train_scaled_predicted)),'\\n')"
      ]
    },
    {
      "cell_type": "markdown",
      "source": [
        "### Taking a look at the relationship between predicted and actual target values for our training dataset, we can readily see that the mnodel is not performing very well and that there is room for improvement. \n",
        "\n",
        "### This was confirmed by our Accuracy scores, and by our Coefficient of Determination (R Squared) but we can take a look at the residuals' Scatter plot to reach the same conclusion. \n",
        "\n",
        "### It appears that the presence of outliers is affecting our model in spite of the pre-processing we applied on our data. \n",
        "\n",
        "### The scatter plot of actual target values vs predicted shows a clear trend, instead of being randomly distributed, confirming our conclusions.\n",
        "\n",
        "### Furthermore, looking at the scatter plot comparing Actual Target values with  the Predicted ones, we can see that Predicted values are predicted to be lower than they should be (they mostly lie below the 45 degree line). "
      ],
      "metadata": {
        "id": "i9bYOSwM3wXp"
      }
    },
    {
      "cell_type": "code",
      "execution_count": 51,
      "metadata": {
        "id": "p9u7bODdcAZg",
        "colab": {
          "base_uri": "https://localhost:8080/",
          "height": 672
        },
        "outputId": "117fdb41-72ee-4655-db34-a21235f84378"
      },
      "outputs": [
        {
          "output_type": "display_data",
          "data": {
            "text/plain": [
              "<Figure size 648x648 with 1 Axes>"
            ],
            "image/png": "[encoded data removed]"
          },
          "metadata": {}
        }
      ],
      "source": [
        "sns.set(rc = {'figure.figsize':(9,9)})\n",
        "\n",
        "fig, ax = plt.subplots()\n",
        "ax.scatter(y_train_scaled, y_train_scaled_predicted,  color='black')\n",
        "ax.set_title(\"Scatter plot of Predicted vs. Actual Values \\n \\n using simple multivariable regression on 2020 data \\n\", fontsize=18)\n",
        "ax.set_xlabel(\"\\nActual Target Values\\n\", fontsize=14)\n",
        "ax.set_ylabel(\"\\nPredicted Target Values\\n\", fontsize=14)\n",
        "\n",
        "plt.show()\n"
      ]
    },
    {
      "cell_type": "markdown",
      "source": [
        "### Let us measure the errors associated with the training data set and the testing data set to see if there  is overfitting  "
      ],
      "metadata": {
        "id": "9ceilQaZSOJA"
      }
    },
    {
      "cell_type": "code",
      "source": [
        "from sklearn.model_selection import cross_validate, ShuffleSplit\n",
        "\n",
        "cv = ShuffleSplit(n_splits=30, test_size=0.2)\n",
        "cv_results = cross_validate(regressor, X_train_scaled, y_train_scaled,\n",
        "                            cv=cv, scoring=\"neg_mean_absolute_error\",\n",
        "                            return_train_score=True, n_jobs=2)\n",
        "cv_results = pd.DataFrame(cv_results)"
      ],
      "metadata": {
        "id": "VfXArcA3SNk9"
      },
      "execution_count": 52,
      "outputs": []
    },
    {
      "cell_type": "code",
      "source": [
        "scores = pd.DataFrame()\n",
        "scores[[\"train error\", \"test error\"]] = -cv_results[\n",
        "    [\"train_score\", \"test_score\"]]"
      ],
      "metadata": {
        "id": "vUa03_6lTj2U"
      },
      "execution_count": 53,
      "outputs": []
    },
    {
      "cell_type": "code",
      "source": [
        "\n",
        "scores.plot.hist(bins=50, edgecolor=\"black\")\n",
        "plt.xlabel(\"\\nMean absolute error\\n\", fontsize=14)\n",
        "_ = plt.title(\"Train and test errors distribution via cross-validation\\n\", fontsize=18)"
      ],
      "metadata": {
        "id": "KzaYNppQToIh",
        "colab": {
          "base_uri": "https://localhost:8080/",
          "height": 631
        },
        "outputId": "8c38b779-17de-4f2b-d95d-446e0d35c73b"
      },
      "execution_count": 54,
      "outputs": [
        {
          "output_type": "display_data",
          "data": {
            "text/plain": [
              "<Figure size 648x648 with 1 Axes>"
            ],
            "image/png": "[encoded data removed]"
          },
          "metadata": {}
        }
      ]
    },
    {
      "cell_type": "code",
      "source": [
        "LinearRegression.get_params(regressor).keys()"
      ],
      "metadata": {
        "id": "pIgiatN1UhJA",
        "colab": {
          "base_uri": "https://localhost:8080/"
        },
        "outputId": "3b46c1a2-3914-463a-9420-0b222352742f"
      },
      "execution_count": 55,
      "outputs": [
        {
          "output_type": "execute_result",
          "data": {
            "text/plain": [
              "dict_keys(['copy_X', 'fit_intercept', 'n_jobs', 'normalize'])"
            ]
          },
          "metadata": {},
          "execution_count": 55
        }
      ]
    },
    {
      "cell_type": "code",
      "source": [
        "regressor.get_params()"
      ],
      "metadata": {
        "id": "ErUqduc8hU6U",
        "colab": {
          "base_uri": "https://localhost:8080/"
        },
        "outputId": "3ff6eaaf-775e-4c9d-a976-ade9d7a2d8f5"
      },
      "execution_count": 56,
      "outputs": [
        {
          "output_type": "execute_result",
          "data": {
            "text/plain": [
              "{'copy_X': True, 'fit_intercept': True, 'n_jobs': None, 'normalize': False}"
            ]
          },
          "metadata": {},
          "execution_count": 56
        }
      ]
    },
    {
      "cell_type": "code",
      "source": [
        "%%time\n",
        "from sklearn.model_selection import validation_curve\n",
        "\n",
        "param_range = [-3.5, -3, -2.5, -2, -1.5, -1, -.5, 0.001, 0.01, 0.05, 0.1, 0.5]\n",
        "train_scores, test_scores = validation_curve(\n",
        "    regressor, X_train_scaled, y_train_scaled, param_name='fit_intercept', param_range=param_range,\n",
        "    cv=cv, scoring=\"neg_mean_absolute_error\", n_jobs=2)\n",
        "train_errors, test_errors = -train_scores, -test_scores"
      ],
      "metadata": {
        "id": "RbRDJDdQURMi",
        "colab": {
          "base_uri": "https://localhost:8080/"
        },
        "outputId": "bd1ccca5-bd7c-4d41-8372-f748d9f1a8b7"
      },
      "execution_count": 57,
      "outputs": [
        {
          "output_type": "stream",
          "name": "stdout",
          "text": [
            "CPU times: user 1.05 s, sys: 68.6 ms, total: 1.12 s\n",
            "Wall time: 2.45 s\n"
          ]
        }
      ]
    },
    {
      "cell_type": "markdown",
      "source": [
        "### The training error is significantly lower than the Testing error which would again seem to confirm that the model is overfitting the data (see figure below) "
      ],
      "metadata": {
        "id": "IZ488-pPkSY3"
      }
    },
    {
      "cell_type": "code",
      "source": [
        "# https://vitalflux.com/validation-curves-explained-python-sklearn-example/\n",
        "# https://inria.github.io/scikit-learn-mooc/python_scripts/cross_validation_validation_curve.html\n",
        "# https://stackoverflow.com/questions/44882331/sklearn-validation-curve-which-possibilities-do-i-have-for-the-param-name-pa\n",
        "# \n",
        "plt.plot(param_range, train_errors.mean(axis=1), marker='*', markersize=5, label=\"Training error\")\n",
        "plt.plot(param_range, test_errors.mean(axis=1), marker='o', markersize=5, label=\"Testing error\")\n",
        "plt.legend()\n",
        "\n",
        "plt.xlabel(\"Intercept \\n\", fontsize = 14)\n",
        "plt.ylabel(\"\\n Mean absolute error \\n\", fontsize = 14)\n",
        "_ = plt.title(\"\\nValidation curve for Linear Regression\\n\", fontsize=18)"
      ],
      "metadata": {
        "id": "6c9oqJPAh6Bt",
        "colab": {
          "base_uri": "https://localhost:8080/",
          "height": 635
        },
        "outputId": "52f047dc-6cbc-40fc-a23c-e932d3d4b37c"
      },
      "execution_count": 58,
      "outputs": [
        {
          "output_type": "display_data",
          "data": {
            "text/plain": [
              "<Figure size 648x648 with 1 Axes>"
            ],
            "image/png": "[encoded data removed]"
          },
          "metadata": {}
        }
      ]
    },
    {
      "cell_type": "code",
      "source": [
        "plt.errorbar(param_range, train_errors.mean(axis=1),\n",
        "             yerr=train_errors.std(axis=1), marker='*', markersize=5, label='Training error')\n",
        "plt.errorbar(param_range, test_errors.mean(axis=1),\n",
        "             yerr=test_errors.std(axis=1), marker='o', markersize=5, label='Testing error')\n",
        "plt.legend()\n",
        "\n",
        "plt.xlabel(\"Intercept \\n\", fontsize = 14)\n",
        "plt.ylabel(\"\\n Mean absolute error \\n\", fontsize = 14)\n",
        "_ = plt.title(\"\\nValidation curve for Linear Regression\\n\", fontsize=18)"
      ],
      "metadata": {
        "id": "UnYf4azMkoeS",
        "colab": {
          "base_uri": "https://localhost:8080/",
          "height": 635
        },
        "outputId": "e6061bf6-fb01-449b-8a63-915ca0e9daa3"
      },
      "execution_count": 59,
      "outputs": [
        {
          "output_type": "display_data",
          "data": {
            "text/plain": [
              "<Figure size 648x648 with 1 Axes>"
            ],
            "image/png": "[encoded data removed]"
          },
          "metadata": {}
        }
      ]
    },
    {
      "cell_type": "markdown",
      "source": [
        "### Let us see if we can do better by using a penalized Linear Regression model \n",
        "\n",
        "### We will use a Ridge or L2 penalized model in this case because it is a model that tends to avoid overfitting of the data\n",
        "\n",
        "### L1 Regularization can be performed for feature selection and then L2 can be performed on the selected features to avoid overfitting "
      ],
      "metadata": {
        "id": "m2CKJGu_YR6X"
      }
    },
    {
      "cell_type": "code",
      "source": [
        "from sklearn.model_selection import validation_curve"
      ],
      "metadata": {
        "id": "HH1WrqSCsesj"
      },
      "execution_count": 60,
      "outputs": []
    },
    {
      "cell_type": "code",
      "source": [
        "# https://machinelearningmastery.com/ridge-regression-with-python/\n",
        "# https://scikit-learn.org/stable/auto_examples/model_selection/plot_validation_curve.html\n",
        "# https://scikit-learn.org/stable/modules/learning_curve.html\n",
        "# https://vitalflux.com/validation-curves-explained-python-sklearn-example/\n",
        "\n",
        "#  evaluate an ridge regression model on the dataset\n",
        "\n",
        "# # define model\n",
        "model = Ridge(alpha=1.0)\n",
        "# # define model evaluation method\n",
        "cv = RepeatedKFold(n_splits=100, n_repeats=7, random_state=1)\n",
        "# # evaluate model\n",
        "scores = cross_val_score(model, X_train_scaled, y_train_scaled, scoring='neg_mean_absolute_error', cv=cv, n_jobs=-1)\n",
        "# # force scores to be positive\n",
        "scores = np.absolute(scores)\n",
        "# print('Mean MAE: %.3f (%.3f)' % (np.mean(scores), np.std(scores)))\n",
        "\n",
        "\n",
        "param_range = [0.0010, 0.01, 0.05, 0.100, 0.150, 0.200, 0.25, 0.5, 1]\n",
        "train_scores, test_scores = validation_curve(model, X_train_scaled, y_train_scaled, param_name=\"alpha\", param_range=param_range, cv=cv)\n",
        "                                             #param_range=np.logspace(-6, -1, 9), cv=cv)\n",
        "\n",
        "# Calculate the average and standard deviation for each hyperparameter\n",
        "train_scores_mean = np.mean(train_scores, axis=1)\n",
        "train_scores_std = np.std(train_scores, axis=1)\n",
        "test_scores_mean = np.mean(test_scores, axis=1)\n",
        "test_scores_std = np.std(test_scores, axis=1)\n",
        "\n",
        "\n",
        "# # Plot the scores\n",
        "plt.figure()\n",
        "plt.title('Validation curves (Ridge)')\n",
        "# Plot the standard deviations\n",
        "plt.fill_between(param_range, \n",
        "                 train_scores_mean - train_scores_std, \n",
        "                 train_scores_mean + train_scores_std, \n",
        "                 alpha=0.2, color=\"darkorange\")\n",
        "plt.fill_between(param_range, \n",
        "                 test_scores_mean - test_scores_std, \n",
        "                 test_scores_mean + test_scores_std, \n",
        "                 alpha=0.2, color=\"navy\")\n",
        "\n",
        "# Plot the means\n",
        "plt.plot(param_range, train_scores_mean, 'o-', label=\"Training score\")\n",
        "plt.plot(param_range, test_scores_mean, '*-', label=\"Cross-validation score\")\n",
        "\n",
        "plt.xticks(param_range)\n",
        "plt.xlabel('Range')\n",
        "plt.ylabel('Accuracy')\n",
        "plt.legend(loc=\"best\")"
      ],
      "metadata": {
        "id": "KM19of8GYRg7",
        "colab": {
          "base_uri": "https://localhost:8080/",
          "height": 590
        },
        "outputId": "2ee373ce-2230-45e4-b608-d360d891207d"
      },
      "execution_count": 61,
      "outputs": [
        {
          "output_type": "execute_result",
          "data": {
            "text/plain": [
              "<matplotlib.legend.Legend at 0x7fa724e4a9d0>"
            ]
          },
          "metadata": {},
          "execution_count": 61
        },
        {
          "output_type": "display_data",
          "data": {
            "text/plain": [
              "<Figure size 648x648 with 1 Axes>"
            ],
            "image/png": "[encoded data removed]"
          },
          "metadata": {}
        }
      ]
    },
    {
      "cell_type": "code",
      "source": [
        ""
      ],
      "metadata": {
        "id": "3vNVsamSrF6d"
      },
      "execution_count": 61,
      "outputs": []
    },
    {
      "cell_type": "code",
      "source": [
        "\n",
        "\n",
        "# define model\n",
        "model = Ridge(alpha=1.0)\n",
        "# fit model\n",
        "model.fit(X_train_scaled, y_train_scaled)\n",
        "#\n",
        "# make a prediction\n",
        "y_train_scaled_predicted_ridge = model.predict(X_train_scaled)\n",
        "# summarize prediction\n",
        "print('Predicted with Ridge: ', y_train_scaled_predicted_ridge )"
      ],
      "metadata": {
        "id": "WndIP81JeMuM",
        "colab": {
          "base_uri": "https://localhost:8080/"
        },
        "outputId": "626f2977-37fc-4cf1-ae20-4fb881846d8a"
      },
      "execution_count": 62,
      "outputs": [
        {
          "output_type": "stream",
          "name": "stdout",
          "text": [
            "Predicted with Ridge:  [[-0.04306385]\n",
            " [ 0.60110593]\n",
            " [ 1.25237134]\n",
            " ...\n",
            " [-0.28369461]\n",
            " [ 3.7223401 ]\n",
            " [ 0.54274374]]\n"
          ]
        }
      ]
    },
    {
      "cell_type": "markdown",
      "metadata": {
        "id": "8MXoO-bZfOxW"
      },
      "source": [
        "### Now let us see if we can do better by simply applying a feature selection process to our data prior to using the subset of data to predict our outcome variable"
      ]
    },
    {
      "cell_type": "code",
      "execution_count": 63,
      "metadata": {
        "id": "QLSwKW5sE4MG",
        "colab": {
          "base_uri": "https://localhost:8080/"
        },
        "outputId": "1f3ec4a4-7e49-4ff6-9763-03fddbffbc82"
      },
      "outputs": [
        {
          "output_type": "stream",
          "name": "stdout",
          "text": [
            "        1    6    7    10   16   20   25   27   31   32\n",
            "0    -0.55 2.00 2.00 1.00 0.00 0.00 0.00 2.00 1.00 1.00\n",
            "1    -0.55 2.00 2.00 2.00 0.00 1.00 1.00 1.00 1.00 0.00\n",
            "2     0.61 1.00 2.00 3.00 0.00 0.00 0.00 1.00 1.00 1.00\n",
            "3    -0.55 2.00 2.00 2.00 0.00 0.00 0.00 2.00 1.00 0.00\n",
            "4     0.95 1.00 2.00 2.00 0.00 1.00 0.00 1.00 1.00 1.00\n",
            "...    ...  ...  ...  ...  ...  ...  ...  ...  ...  ...\n",
            "2371  1.08 1.00 2.00 5.00 0.00 1.00 1.00 1.00 1.00 1.00\n",
            "2372  0.45 1.00 2.00 4.00 0.00 1.00 0.00 1.00 1.00 1.00\n",
            "2373 -0.55 1.00 2.00 1.00 0.00 0.00 0.00 2.00 1.00 0.00\n",
            "2374  0.38 1.00 2.00 5.00 0.00 1.00 1.00 1.00 1.00 1.00\n",
            "2375 -0.55 1.00 2.00 2.00 1.00 0.00 0.00 2.00 1.00 1.00\n",
            "\n",
            "[2376 rows x 10 columns]\n"
          ]
        }
      ],
      "source": [
        "# https://scikit-learn.org/stable/modules/generated/sklearn.feature_selection.RFE.html#sklearn.feature_selection.RFE\n",
        "\n",
        "### Let us take a moment and apply the Recursive Feature Selection function to see what features it comes up with \n",
        "\n",
        "\n",
        "from sklearn.feature_selection import RFE\n",
        "from sklearn.svm import SVR\n",
        "\n",
        "estimator = SVR(kernel=\"linear\")\n",
        "selector = RFE(estimator, n_features_to_select=10, step=0.3)\n",
        "selector = selector.fit(X_train_scaled, y_train_scaled)\n",
        "cols = selector.get_support(indices=True)\n",
        "feature_names =  X_train_scaled1.iloc[:,cols] # THIS IS A DF - MUST CORRECT TO GET FEATURE NAMES OUT \n",
        "print(feature_names)\n",
        "# # Get columns to keep and create new dataframe with those only\n",
        "# cols = selector.get_support(indices=True)\n",
        "# features_df_new = features_df.iloc[:,cols]"
      ]
    },
    {
      "cell_type": "code",
      "execution_count": 64,
      "metadata": {
        "id": "Zom8GoyDE393",
        "colab": {
          "base_uri": "https://localhost:8080/"
        },
        "outputId": "c7bcee0f-57e5-4349-cb26-8e4da1260904"
      },
      "outputs": [
        {
          "output_type": "execute_result",
          "data": {
            "text/plain": [
              "array([4, 1, 3, 3, 3, 4, 1, 1, 4, 4, 1, 4, 3, 2, 2, 2, 1, 2, 2, 2, 1, 3,\n",
              "       4, 3, 4, 1, 4, 1, 3, 3, 4, 1, 1, 3, 3, 4, 3, 2, 2, 3, 4, 4, 2, 3,\n",
              "       4, 3, 4, 2])"
            ]
          },
          "metadata": {},
          "execution_count": 64
        }
      ],
      "source": [
        "selector.ranking_"
      ]
    },
    {
      "cell_type": "code",
      "source": [
        "# from sklearn.pipeline import Pipeline"
      ],
      "metadata": {
        "id": "n-xqldP4p_2-"
      },
      "execution_count": 65,
      "outputs": []
    },
    {
      "cell_type": "code",
      "execution_count": 66,
      "metadata": {
        "id": "saSv1m7pE3vg",
        "colab": {
          "base_uri": "https://localhost:8080/"
        },
        "outputId": "ad0c0cfc-8fe2-42d7-ac05-31ecff87831b"
      },
      "outputs": [
        {
          "output_type": "stream",
          "name": "stdout",
          "text": [
            "[False  True False False False False  True  True False False  True False\n",
            " False False False False  True False False False  True False False False\n",
            " False  True False  True False False False  True  True False False False\n",
            " False False False False False False False False False False False False]\n",
            "48\n",
            "Index(['HDEGOFFR', 'INSTSIZE', 'CNTLAFFI', 'CREDITS2', 'SLO83', 'STUSRV4',\n",
            "       'TUITVARY', 'BOARD', 'VET3', 'VET4'],\n",
            "      dtype='object')\n"
          ]
        }
      ],
      "source": [
        "support = selector.support_\n",
        "\n",
        "print(support)\n",
        "print(len(support))\n",
        "\n",
        "index_bool = np.array(support)\n",
        "colus=X_train.columns\n",
        "\n",
        "print(colus[index_bool])\n",
        "\n",
        "\n",
        "# selector.get_feature_names_out()\n",
        "# feature_names = np.array(X_train_scaled.feature_names) # transformed list to array\n",
        "\n",
        "# feature_names[support]\n",
        "\n",
        "# print(selector.get_feature_names_out())\n",
        "# support = ipeline.named_steps['rfe_feature_selection'].support_\n",
        "# print(selector.get_feature_names_out(feature_names))\n",
        "# selector.feature_names_in_\n",
        "\n"
      ]
    },
    {
      "cell_type": "markdown",
      "metadata": {
        "id": "-xLaadY30is-"
      },
      "source": [
        "### The first ten features affecting enrollemnt - for 2020 data - appear to be:\n",
        "'HDEGOFFR', 'INSTSIZE', 'CNTLAFFI', 'CREDITS2', 'SLO83', 'STUSRV4',\n",
        "       'TUITVARY', 'BOARD', 'VET3', 'VET4' \n"
      ]
    },
    {
      "cell_type": "markdown",
      "source": [
        "### I must admit that I am surprised by the fact that there has been no improvement by using the L2 penalty on our data with the linear regressor. \n",
        "\n",
        "### Given this result I will use the LazyPredict Library to take a look at the performance of various Linear Regression Model options that are open to us in general to see which would perform the best with our 2020 standardized data"
      ],
      "metadata": {
        "id": "QpdeQhKG9E57"
      }
    },
    {
      "cell_type": "markdown",
      "source": [
        "### Let us try to run our data through the LazyPredict Library then. \n",
        "\n",
        "### The LazyPredict Library tests various models against our data and returns various indicators on the models' performance with our data"
      ],
      "metadata": {
        "id": "Kan9LXpy-CsN"
      }
    },
    {
      "cell_type": "code",
      "source": [
        "\n",
        "# Importing the libraries\n",
        "from lazypredict.Supervised import LazyRegressor\n",
        "# from sklearn import datasets\n",
        "# from sklearn.utils import shuffle\n",
        "# import numpy as np\n",
        " \n",
        "\n",
        " \n",
        "# building the pipeline\n",
        "reg = LazyRegressor(verbose=0, ignore_warnings=False, custom_metric=None)\n",
        "models_reg, predictions_reg = reg.fit(X_train_scaled, X_train_scaled, y_train_scaled, y_train_scaled)\n",
        " \n"
      ],
      "metadata": {
        "id": "0jm8fVbx4Abq",
        "colab": {
          "base_uri": "https://localhost:8080/"
        },
        "outputId": "8c2d8df1-75d3-4c5b-f824-2a05bcdddacf"
      },
      "execution_count": 67,
      "outputs": [
        {
          "output_type": "stream",
          "name": "stderr",
          "text": [
            " 21%|██▏       | 9/42 [00:02<00:13,  2.39it/s]"
          ]
        },
        {
          "output_type": "stream",
          "name": "stdout",
          "text": [
            "GammaRegressor model failed to execute\n",
            "Some value(s) of y are out of the valid range for family GammaDistribution\n"
          ]
        },
        {
          "output_type": "stream",
          "name": "stderr",
          "text": [
            " 76%|███████▌  | 32/42 [00:23<00:10,  1.08s/it]"
          ]
        },
        {
          "output_type": "stream",
          "name": "stdout",
          "text": [
            "PoissonRegressor model failed to execute\n",
            "Some value(s) of y are out of the valid range for family PoissonDistribution\n"
          ]
        },
        {
          "output_type": "stream",
          "name": "stderr",
          "text": [
            "100%|██████████| 42/42 [00:33<00:00,  1.24it/s]\n"
          ]
        }
      ]
    },
    {
      "cell_type": "code",
      "source": [
        "# Printing all model performances\n",
        "models_reg"
      ],
      "metadata": {
        "id": "ZxE2Y39e_XcE",
        "colab": {
          "base_uri": "https://localhost:8080/",
          "height": 1000
        },
        "outputId": "3d33b2f5-a26b-4d00-f53e-648607df6843"
      },
      "execution_count": 68,
      "outputs": [
        {
          "output_type": "execute_result",
          "data": {
            "text/plain": [
              "                               Adjusted R-Squared  R-Squared  RMSE  Time Taken\n",
              "Model                                                                         \n",
              "DecisionTreeRegressor                        1.00       1.00  0.03        0.07\n",
              "ExtraTreeRegressor                           1.00       1.00  0.03        0.08\n",
              "ExtraTreesRegressor                          1.00       1.00  0.03        1.90\n",
              "GaussianProcessRegressor                     1.00       1.00  0.03        1.46\n",
              "XGBRegressor                                 1.00       1.00  0.11        2.60\n",
              "RandomForestRegressor                        0.96       0.96  0.30        4.32\n",
              "BaggingRegressor                             0.96       0.96  0.32        0.23\n",
              "MLPRegressor                                 0.93       0.93  0.43       11.22\n",
              "HistGradientBoostingRegressor                0.92       0.92  0.45        0.87\n",
              "LGBMRegressor                                0.92       0.92  0.45        0.80\n",
              "GradientBoostingRegressor                    0.87       0.88  0.56        0.60\n",
              "AdaBoostRegressor                            0.82       0.82  0.67        0.32\n",
              "SVR                                          0.72       0.73  0.83        1.59\n",
              "NuSVR                                        0.72       0.72  0.83        2.33\n",
              "KNeighborsRegressor                          0.72       0.72  0.84        0.63\n",
              "Lars                                         0.67       0.67  0.91        0.05\n",
              "TransformedTargetRegressor                   0.67       0.67  0.91        0.06\n",
              "LinearRegression                             0.67       0.67  0.91        0.12\n",
              "Ridge                                        0.67       0.67  0.91        0.09\n",
              "RidgeCV                                      0.67       0.67  0.91        0.10\n",
              "BayesianRidge                                0.67       0.67  0.91        0.03\n",
              "SGDRegressor                                 0.67       0.67  0.91        0.09\n",
              "LassoCV                                      0.67       0.67  0.91        0.42\n",
              "ElasticNetCV                                 0.67       0.67  0.91        0.19\n",
              "LassoLarsCV                                  0.67       0.67  0.91        0.37\n",
              "LarsCV                                       0.66       0.67  0.91        0.34\n",
              "LassoLarsIC                                  0.66       0.67  0.91        0.18\n",
              "OrthogonalMatchingPursuitCV                  0.65       0.66  0.93        0.15\n",
              "OrthogonalMatchingPursuit                    0.65       0.66  0.93        0.03\n",
              "HuberRegressor                               0.60       0.61  0.99        0.20\n",
              "LinearSVR                                    0.59       0.60  1.01        0.59\n",
              "TweedieRegressor                             0.54       0.55  1.07        0.09\n",
              "GeneralizedLinearRegressor                   0.54       0.55  1.07        0.03\n",
              "KernelRidge                                  0.53       0.54  1.08        0.55\n",
              "ElasticNet                                   0.38       0.39  1.24        0.03\n",
              "PassiveAggressiveRegressor                   0.23       0.24  1.38        0.08\n",
              "Lasso                                        0.20       0.21  1.41        0.05\n",
              "RANSACRegressor                              0.18       0.20  1.42        0.74\n",
              "DummyRegressor                              -0.02       0.00  1.59        0.03\n",
              "LassoLars                                   -0.02       0.00  1.59        0.06"
            ],
            "text/html": [
              "\n",
              "  <div id=\"df-b0f6a5d1-1dde-424f-91bf-e32ba77d2312\">\n",
              "    <div class=\"colab-df-container\">\n",
              "      <div>\n",
              "<style scoped>\n",
              "    .dataframe tbody tr th:only-of-type {\n",
              "        vertical-align: middle;\n",
              "    }\n",
              "\n",
              "    .dataframe tbody tr th {\n",
              "        vertical-align: top;\n",
              "    }\n",
              "\n",
              "    .dataframe thead th {\n",
              "        text-align: right;\n",
              "    }\n",
              "</style>\n",
              "<table border=\"1\" class=\"dataframe\">\n",
              "  <thead>\n",
              "    <tr style=\"text-align: right;\">\n",
              "      <th></th>\n",
              "      <th>Adjusted R-Squared</th>\n",
              "      <th>R-Squared</th>\n",
              "      <th>RMSE</th>\n",
              "      <th>Time Taken</th>\n",
              "    </tr>\n",
              "    <tr>\n",
              "      <th>Model</th>\n",
              "      <th></th>\n",
              "      <th></th>\n",
              "      <th></th>\n",
              "      <th></th>\n",
              "    </tr>\n",
              "  </thead>\n",
              "  <tbody>\n",
              "    <tr>\n",
              "      <th>DecisionTreeRegressor</th>\n",
              "      <td>1.00</td>\n",
              "      <td>1.00</td>\n",
              "      <td>0.03</td>\n",
              "      <td>0.07</td>\n",
              "    </tr>\n",
              "    <tr>\n",
              "      <th>ExtraTreeRegressor</th>\n",
              "      <td>1.00</td>\n",
              "      <td>1.00</td>\n",
              "      <td>0.03</td>\n",
              "      <td>0.08</td>\n",
              "    </tr>\n",
              "    <tr>\n",
              "      <th>ExtraTreesRegressor</th>\n",
              "      <td>1.00</td>\n",
              "      <td>1.00</td>\n",
              "      <td>0.03</td>\n",
              "      <td>1.90</td>\n",
              "    </tr>\n",
              "    <tr>\n",
              "      <th>GaussianProcessRegressor</th>\n",
              "      <td>1.00</td>\n",
              "      <td>1.00</td>\n",
              "      <td>0.03</td>\n",
              "      <td>1.46</td>\n",
              "    </tr>\n",
              "    <tr>\n",
              "      <th>XGBRegressor</th>\n",
              "      <td>1.00</td>\n",
              "      <td>1.00</td>\n",
              "      <td>0.11</td>\n",
              "      <td>2.60</td>\n",
              "    </tr>\n",
              "    <tr>\n",
              "      <th>RandomForestRegressor</th>\n",
              "      <td>0.96</td>\n",
              "      <td>0.96</td>\n",
              "      <td>0.30</td>\n",
              "      <td>4.32</td>\n",
              "    </tr>\n",
              "    <tr>\n",
              "      <th>BaggingRegressor</th>\n",
              "      <td>0.96</td>\n",
              "      <td>0.96</td>\n",
              "      <td>0.32</td>\n",
              "      <td>0.23</td>\n",
              "    </tr>\n",
              "    <tr>\n",
              "      <th>MLPRegressor</th>\n",
              "      <td>0.93</td>\n",
              "      <td>0.93</td>\n",
              "      <td>0.43</td>\n",
              "      <td>11.22</td>\n",
              "    </tr>\n",
              "    <tr>\n",
              "      <th>HistGradientBoostingRegressor</th>\n",
              "      <td>0.92</td>\n",
              "      <td>0.92</td>\n",
              "      <td>0.45</td>\n",
              "      <td>0.87</td>\n",
              "    </tr>\n",
              "    <tr>\n",
              "      <th>LGBMRegressor</th>\n",
              "      <td>0.92</td>\n",
              "      <td>0.92</td>\n",
              "      <td>0.45</td>\n",
              "      <td>0.80</td>\n",
              "    </tr>\n",
              "    <tr>\n",
              "      <th>GradientBoostingRegressor</th>\n",
              "      <td>0.87</td>\n",
              "      <td>0.88</td>\n",
              "      <td>0.56</td>\n",
              "      <td>0.60</td>\n",
              "    </tr>\n",
              "    <tr>\n",
              "      <th>AdaBoostRegressor</th>\n",
              "      <td>0.82</td>\n",
              "      <td>0.82</td>\n",
              "      <td>0.67</td>\n",
              "      <td>0.32</td>\n",
              "    </tr>\n",
              "    <tr>\n",
              "      <th>SVR</th>\n",
              "      <td>0.72</td>\n",
              "      <td>0.73</td>\n",
              "      <td>0.83</td>\n",
              "      <td>1.59</td>\n",
              "    </tr>\n",
              "    <tr>\n",
              "      <th>NuSVR</th>\n",
              "      <td>0.72</td>\n",
              "      <td>0.72</td>\n",
              "      <td>0.83</td>\n",
              "      <td>2.33</td>\n",
              "    </tr>\n",
              "    <tr>\n",
              "      <th>KNeighborsRegressor</th>\n",
              "      <td>0.72</td>\n",
              "      <td>0.72</td>\n",
              "      <td>0.84</td>\n",
              "      <td>0.63</td>\n",
              "    </tr>\n",
              "    <tr>\n",
              "      <th>Lars</th>\n",
              "      <td>0.67</td>\n",
              "      <td>0.67</td>\n",
              "      <td>0.91</td>\n",
              "      <td>0.05</td>\n",
              "    </tr>\n",
              "    <tr>\n",
              "      <th>TransformedTargetRegressor</th>\n",
              "      <td>0.67</td>\n",
              "      <td>0.67</td>\n",
              "      <td>0.91</td>\n",
              "      <td>0.06</td>\n",
              "    </tr>\n",
              "    <tr>\n",
              "      <th>LinearRegression</th>\n",
              "      <td>0.67</td>\n",
              "      <td>0.67</td>\n",
              "      <td>0.91</td>\n",
              "      <td>0.12</td>\n",
              "    </tr>\n",
              "    <tr>\n",
              "      <th>Ridge</th>\n",
              "      <td>0.67</td>\n",
              "      <td>0.67</td>\n",
              "      <td>0.91</td>\n",
              "      <td>0.09</td>\n",
              "    </tr>\n",
              "    <tr>\n",
              "      <th>RidgeCV</th>\n",
              "      <td>0.67</td>\n",
              "      <td>0.67</td>\n",
              "      <td>0.91</td>\n",
              "      <td>0.10</td>\n",
              "    </tr>\n",
              "    <tr>\n",
              "      <th>BayesianRidge</th>\n",
              "      <td>0.67</td>\n",
              "      <td>0.67</td>\n",
              "      <td>0.91</td>\n",
              "      <td>0.03</td>\n",
              "    </tr>\n",
              "    <tr>\n",
              "      <th>SGDRegressor</th>\n",
              "      <td>0.67</td>\n",
              "      <td>0.67</td>\n",
              "      <td>0.91</td>\n",
              "      <td>0.09</td>\n",
              "    </tr>\n",
              "    <tr>\n",
              "      <th>LassoCV</th>\n",
              "      <td>0.67</td>\n",
              "      <td>0.67</td>\n",
              "      <td>0.91</td>\n",
              "      <td>0.42</td>\n",
              "    </tr>\n",
              "    <tr>\n",
              "      <th>ElasticNetCV</th>\n",
              "      <td>0.67</td>\n",
              "      <td>0.67</td>\n",
              "      <td>0.91</td>\n",
              "      <td>0.19</td>\n",
              "    </tr>\n",
              "    <tr>\n",
              "      <th>LassoLarsCV</th>\n",
              "      <td>0.67</td>\n",
              "      <td>0.67</td>\n",
              "      <td>0.91</td>\n",
              "      <td>0.37</td>\n",
              "    </tr>\n",
              "    <tr>\n",
              "      <th>LarsCV</th>\n",
              "      <td>0.66</td>\n",
              "      <td>0.67</td>\n",
              "      <td>0.91</td>\n",
              "      <td>0.34</td>\n",
              "    </tr>\n",
              "    <tr>\n",
              "      <th>LassoLarsIC</th>\n",
              "      <td>0.66</td>\n",
              "      <td>0.67</td>\n",
              "      <td>0.91</td>\n",
              "      <td>0.18</td>\n",
              "    </tr>\n",
              "    <tr>\n",
              "      <th>OrthogonalMatchingPursuitCV</th>\n",
              "      <td>0.65</td>\n",
              "      <td>0.66</td>\n",
              "      <td>0.93</td>\n",
              "      <td>0.15</td>\n",
              "    </tr>\n",
              "    <tr>\n",
              "      <th>OrthogonalMatchingPursuit</th>\n",
              "      <td>0.65</td>\n",
              "      <td>0.66</td>\n",
              "      <td>0.93</td>\n",
              "      <td>0.03</td>\n",
              "    </tr>\n",
              "    <tr>\n",
              "      <th>HuberRegressor</th>\n",
              "      <td>0.60</td>\n",
              "      <td>0.61</td>\n",
              "      <td>0.99</td>\n",
              "      <td>0.20</td>\n",
              "    </tr>\n",
              "    <tr>\n",
              "      <th>LinearSVR</th>\n",
              "      <td>0.59</td>\n",
              "      <td>0.60</td>\n",
              "      <td>1.01</td>\n",
              "      <td>0.59</td>\n",
              "    </tr>\n",
              "    <tr>\n",
              "      <th>TweedieRegressor</th>\n",
              "      <td>0.54</td>\n",
              "      <td>0.55</td>\n",
              "      <td>1.07</td>\n",
              "      <td>0.09</td>\n",
              "    </tr>\n",
              "    <tr>\n",
              "      <th>GeneralizedLinearRegressor</th>\n",
              "      <td>0.54</td>\n",
              "      <td>0.55</td>\n",
              "      <td>1.07</td>\n",
              "      <td>0.03</td>\n",
              "    </tr>\n",
              "    <tr>\n",
              "      <th>KernelRidge</th>\n",
              "      <td>0.53</td>\n",
              "      <td>0.54</td>\n",
              "      <td>1.08</td>\n",
              "      <td>0.55</td>\n",
              "    </tr>\n",
              "    <tr>\n",
              "      <th>ElasticNet</th>\n",
              "      <td>0.38</td>\n",
              "      <td>0.39</td>\n",
              "      <td>1.24</td>\n",
              "      <td>0.03</td>\n",
              "    </tr>\n",
              "    <tr>\n",
              "      <th>PassiveAggressiveRegressor</th>\n",
              "      <td>0.23</td>\n",
              "      <td>0.24</td>\n",
              "      <td>1.38</td>\n",
              "      <td>0.08</td>\n",
              "    </tr>\n",
              "    <tr>\n",
              "      <th>Lasso</th>\n",
              "      <td>0.20</td>\n",
              "      <td>0.21</td>\n",
              "      <td>1.41</td>\n",
              "      <td>0.05</td>\n",
              "    </tr>\n",
              "    <tr>\n",
              "      <th>RANSACRegressor</th>\n",
              "      <td>0.18</td>\n",
              "      <td>0.20</td>\n",
              "      <td>1.42</td>\n",
              "      <td>0.74</td>\n",
              "    </tr>\n",
              "    <tr>\n",
              "      <th>DummyRegressor</th>\n",
              "      <td>-0.02</td>\n",
              "      <td>0.00</td>\n",
              "      <td>1.59</td>\n",
              "      <td>0.03</td>\n",
              "    </tr>\n",
              "    <tr>\n",
              "      <th>LassoLars</th>\n",
              "      <td>-0.02</td>\n",
              "      <td>0.00</td>\n",
              "      <td>1.59</td>\n",
              "      <td>0.06</td>\n",
              "    </tr>\n",
              "  </tbody>\n",
              "</table>\n",
              "</div>\n",
              "      <button class=\"colab-df-convert\" onclick=\"convertToInteractive('df-b0f6a5d1-1dde-424f-91bf-e32ba77d2312')\"\n",
              "              title=\"Convert this dataframe to an interactive table.\"\n",
              "              style=\"display:none;\">\n",
              "        \n",
              "  <svg xmlns=\"http://www.w3.org/2000/svg\" height=\"24px\"viewBox=\"0 0 24 24\"\n",
              "       width=\"24px\">\n",
              "    <path d=\"M0 0h24v24H0V0z\" fill=\"none\"/>\n",
              "    <path d=\"M18.56 5.44l.94 2.06.94-2.06 2.06-.94-2.06-.94-.94-2.06-.94 2.06-2.06.94zm-11 1L8.5 8.5l.94-2.06 2.06-.94-2.06-.94L8.5 2.5l-.94 2.06-2.06.94zm10 10l.94 2.06.94-2.06 2.06-.94-2.06-.94-.94-2.06-.94 2.06-2.06.94z\"/><path d=\"M17.41 7.96l-1.37-1.37c-.4-.4-.92-.59-1.43-.59-.52 0-1.04.2-1.43.59L10.3 9.45l-7.72 7.72c-.78.78-.78 2.05 0 2.83L4 21.41c.39.39.9.59 1.41.59.51 0 1.02-.2 1.41-.59l7.78-7.78 2.81-2.81c.8-.78.8-2.07 0-2.86zM5.41 20L4 18.59l7.72-7.72 1.47 1.35L5.41 20z\"/>\n",
              "  </svg>\n",
              "      </button>\n",
              "      \n",
              "  <style>\n",
              "    .colab-df-container {\n",
              "      display:flex;\n",
              "      flex-wrap:wrap;\n",
              "      gap: 12px;\n",
              "    }\n",
              "\n",
              "    .colab-df-convert {\n",
              "      background-color: #E8F0FE;\n",
              "      border: none;\n",
              "      border-radius: 50%;\n",
              "      cursor: pointer;\n",
              "      display: none;\n",
              "      fill: #1967D2;\n",
              "      height: 32px;\n",
              "      padding: 0 0 0 0;\n",
              "      width: 32px;\n",
              "    }\n",
              "\n",
              "    .colab-df-convert:hover {\n",
              "      background-color: #E2EBFA;\n",
              "      box-shadow: 0px 1px 2px rgba(60, 64, 67, 0.3), 0px 1px 3px 1px rgba(60, 64, 67, 0.15);\n",
              "      fill: #174EA6;\n",
              "    }\n",
              "\n",
              "    [theme=dark] .colab-df-convert {\n",
              "      background-color: #3B4455;\n",
              "      fill: #D2E3FC;\n",
              "    }\n",
              "\n",
              "    [theme=dark] .colab-df-convert:hover {\n",
              "      background-color: #434B5C;\n",
              "      box-shadow: 0px 1px 3px 1px rgba(0, 0, 0, 0.15);\n",
              "      filter: drop-shadow(0px 1px 2px rgba(0, 0, 0, 0.3));\n",
              "      fill: #FFFFFF;\n",
              "    }\n",
              "  </style>\n",
              "\n",
              "      <script>\n",
              "        const buttonEl =\n",
              "          document.querySelector('#df-b0f6a5d1-1dde-424f-91bf-e32ba77d2312 button.colab-df-convert');\n",
              "        buttonEl.style.display =\n",
              "          google.colab.kernel.accessAllowed ? 'block' : 'none';\n",
              "\n",
              "        async function convertToInteractive(key) {\n",
              "          const element = document.querySelector('#df-b0f6a5d1-1dde-424f-91bf-e32ba77d2312');\n",
              "          const dataTable =\n",
              "            await google.colab.kernel.invokeFunction('convertToInteractive',\n",
              "                                                     [key], {});\n",
              "          if (!dataTable) return;\n",
              "\n",
              "          const docLinkHtml = 'Like what you see? Visit the ' +\n",
              "            '<a target=\"_blank\" href=https://colab.research.google.com/notebooks/data_table.ipynb>data table notebook</a>'\n",
              "            + ' to learn more about interactive tables.';\n",
              "          element.innerHTML = '';\n",
              "          dataTable['output_type'] = 'display_data';\n",
              "          await google.colab.output.renderOutput(dataTable, element);\n",
              "          const docLink = document.createElement('div');\n",
              "          docLink.innerHTML = docLinkHtml;\n",
              "          element.appendChild(docLink);\n",
              "        }\n",
              "      </script>\n",
              "    </div>\n",
              "  </div>\n",
              "  "
            ]
          },
          "metadata": {},
          "execution_count": 68
        }
      ]
    },
    {
      "cell_type": "code",
      "source": [
        " \n",
        "models_reg[\"R-Squared\"] = [0 if i < 0 else i for i in models_reg.iloc[:,0] ]\n",
        " \n",
        "plt.figure(figsize=(5, 10))\n",
        "sns.set_theme(style=\"whitegrid\")\n",
        "ax = sns.barplot(y=models_reg.index, x=\"R-Squared\", data=models_reg)\n",
        "ax.set(xlim=(0, 1))"
      ],
      "metadata": {
        "id": "UqRSbpIl4AeG",
        "colab": {
          "base_uri": "https://localhost:8080/",
          "height": 628
        },
        "outputId": "6238627a-d276-4eb8-9486-3f3cb4162e84"
      },
      "execution_count": 69,
      "outputs": [
        {
          "output_type": "execute_result",
          "data": {
            "text/plain": [
              "[(0.0, 1.0)]"
            ]
          },
          "metadata": {},
          "execution_count": 69
        },
        {
          "output_type": "display_data",
          "data": {
            "text/plain": [
              "<Figure size 360x720 with 1 Axes>"
            ],
            "image/png": "[encoded data removed]"
          },
          "metadata": {}
        }
      ]
    },
    {
      "cell_type": "markdown",
      "source": [
        "### Based on the LazyPredict Library results it appears that we should see significant improvements by utilizing a Random Tree selection model with our data. "
      ],
      "metadata": {
        "id": "anZsWFhEVbkk"
      }
    },
    {
      "cell_type": "code",
      "source": [
        "pip install xgboost"
      ],
      "metadata": {
        "id": "ySbzZgwQCCk9",
        "colab": {
          "base_uri": "https://localhost:8080/"
        },
        "outputId": "b969a564-bc9c-443b-b106-4c766ca96f97"
      },
      "execution_count": 70,
      "outputs": [
        {
          "output_type": "stream",
          "name": "stdout",
          "text": [
            "Requirement already satisfied: xgboost in /usr/local/lib/python3.7/dist-packages (1.1.1)\n",
            "Requirement already satisfied: scipy in /usr/local/lib/python3.7/dist-packages (from xgboost) (1.7.1)\n",
            "Requirement already satisfied: numpy in /usr/local/lib/python3.7/dist-packages (from xgboost) (1.19.1)\n"
          ]
        }
      ]
    },
    {
      "cell_type": "code",
      "source": [
        "# from sklearn.ensemble import GradientBoostingRegressor\n",
        "# # from sklearn.ensemble import LGBMRegressor\n",
        "# # from sklearn.ensemble import XGBRFRegressor\n",
        "# import xgboost\n",
        "from xgboost import XGBRFRegressor"
      ],
      "metadata": {
        "id": "Vyc2UProCuvQ"
      },
      "execution_count": 71,
      "outputs": []
    },
    {
      "cell_type": "code",
      "source": [
        "# gradient xgboost random forest for making predictions for regression\n",
        "# from numpy import asarray\n",
        "# from sklearn.datasets import make_regression\n",
        "from xgboost import XGBRFRegressor\n",
        "# define dataset\n",
        "# X, y = make_regression(n_samples=1000, n_features=20, n_informative=15, noise=0.1, random_state=7)\n",
        "# define the model\n",
        "model_xgboost = XGBRFRegressor(learning_rate= 1, max_depth= 5, n_estimators=100, subsample=0.7, colsample_bynode=0.8)\n",
        "\n",
        "# model_no_constraints = xgb.train(params, dtrain,\n",
        "#                                  num_boost_round = 1000, evals = evallist,\n",
        "#                                  early_stopping_rounds = 10)\n",
        "\n",
        "# params = {\n",
        "#   'colsample_bynode': 0.8,\n",
        "#   'learning_rate': 1,\n",
        "#   'max_depth': 5,\n",
        "#   'num_parallel_tree': 100,\n",
        "#   'objective': 'binary:logistic',\n",
        "#   'subsample': 0.8,\n",
        "#   'tree_method': 'gpu_hist'\n",
        "# }\n",
        "# bst = train(params, dmatrix, num_boost_round=1)\n",
        "\n",
        "\n",
        "\n",
        "\n",
        "# fit the model on the whole dataset\n",
        "model_xgboost.fit(X_train_scaled, y_train_scaled)\n",
        "# define a single row of data\n",
        "# row = [0.20543991,-0.97049844,-0.81403429,-0.23842689,-0.60704084,-0.48541492,0.53113006,2.01834338,-0.90745243,-1.85859731,-1.02334791,-0.6877744,0.60984819,-0.70630121,-1.29161497,1.32385441,1.42150747,1.26567231,2.56569098,-0.11154792]\n",
        "# row = asarray([row])\n",
        "# make a prediction\n",
        "y_train_scaled_predicted_xgboost = model_xgboost.predict(X_train_scaled)\n",
        "y_test_scaled_predicted_xgboost = model_xgboost.predict(X_test_scaled)\n",
        "# summarize the prediction\n",
        "print('Predicted Coefficients: ', y_test_scaled_predicted_xgboost)"
      ],
      "metadata": {
        "id": "6TJfdIbEYTs1",
        "colab": {
          "base_uri": "https://localhost:8080/"
        },
        "outputId": "7f1d9683-ed0d-4a8b-f0e9-3eaa552212d7"
      },
      "execution_count": 85,
      "outputs": [
        {
          "output_type": "stream",
          "name": "stdout",
          "text": [
            "Predicted Coefficients:  [-0.00412434 -0.32809693  1.3278601  ... -0.32293344 -0.05432796\n",
            "  0.28297672]\n"
          ]
        }
      ]
    },
    {
      "cell_type": "code",
      "source": [
        "model_xgboost.score(X_train_scaled, y_train_scaled)"
      ],
      "metadata": {
        "id": "lYzjGHdrhFre",
        "colab": {
          "base_uri": "https://localhost:8080/"
        },
        "outputId": "659964a4-61bc-47b3-cff7-fefd069d5b5a"
      },
      "execution_count": 73,
      "outputs": [
        {
          "output_type": "execute_result",
          "data": {
            "text/plain": [
              "0.8965714235842672"
            ]
          },
          "metadata": {},
          "execution_count": 73
        }
      ]
    },
    {
      "cell_type": "code",
      "source": [
        "# Model Performance on training data AND on testing data\n",
        "scores = model_xgboost.score(X_train_scaled,y_train_scaled)\n",
        "print(\"Training Data XGBoost Model Accuracy: %.2f%%\\n\" % (scores*100))\n",
        "scores = model_xgboost.score(X_test_scaled,y_test_scaled)\n",
        "print(\"Testing Data XGBoost Model Accuracy: %.2f%%\\n\" % (scores*100))"
      ],
      "metadata": {
        "id": "VqOLoCeDiRWW",
        "colab": {
          "base_uri": "https://localhost:8080/"
        },
        "outputId": "d81e783d-931e-4885-8d1b-b7c27cf1ae2d"
      },
      "execution_count": 74,
      "outputs": [
        {
          "output_type": "stream",
          "name": "stdout",
          "text": [
            "Training Data XGBoost Model Accuracy: 89.66%\n",
            "\n",
            "Testing Data XGBoost Model Accuracy: 67.55%\n",
            "\n"
          ]
        }
      ]
    },
    {
      "cell_type": "code",
      "source": [
        "y_test_scaled.shape"
      ],
      "metadata": {
        "colab": {
          "base_uri": "https://localhost:8080/"
        },
        "id": "J4l7X0dhcFKS",
        "outputId": "431fc13c-e055-45f4-aeb5-beb81032f5cd"
      },
      "execution_count": 83,
      "outputs": [
        {
          "output_type": "execute_result",
          "data": {
            "text/plain": [
              "(1019, 1)"
            ]
          },
          "metadata": {},
          "execution_count": 83
        }
      ]
    },
    {
      "cell_type": "code",
      "source": [
        "# y_test_scaled_predicted_xgboost\n",
        "print(y_test_scaled_predicted_xgboost.shape)"
      ],
      "metadata": {
        "colab": {
          "base_uri": "https://localhost:8080/"
        },
        "id": "4gYgb3B4blOP",
        "outputId": "8ce3f509-89e7-485f-f5d6-6c100ea04613"
      },
      "execution_count": 80,
      "outputs": [
        {
          "output_type": "stream",
          "name": "stdout",
          "text": [
            "(1019,)\n"
          ]
        }
      ]
    },
    {
      "cell_type": "code",
      "source": [
        "sns.set(rc = {'figure.figsize':(9,9)})\n",
        "\n",
        "fig, ax = plt.subplots()\n",
        "ax.scatter(y_train_scaled, y_train_scaled_predicted_xgboost,  color='red')\n",
        "ax.set_title(\"Scatter plot of Predicted vs. Actual Values \\n \\n xgboost regression on 2020 Training data \\n\", fontsize=18)\n",
        "ax.set_xlabel(\"\\nActual Target Values\\n\", fontsize=14)\n",
        "ax.set_ylabel(\"\\nPredicted Target Values\\n\", fontsize=14)\n",
        "\n",
        "plt.show()"
      ],
      "metadata": {
        "colab": {
          "base_uri": "https://localhost:8080/",
          "height": 672
        },
        "id": "slnuLUOJc3Ab",
        "outputId": "003714ea-0627-4ba1-d88d-46b9da95dc16"
      },
      "execution_count": 87,
      "outputs": [
        {
          "output_type": "display_data",
          "data": {
            "text/plain": [
              "<Figure size 648x648 with 1 Axes>"
            ],
            "image/png": "[encoded data removed]"
          },
          "metadata": {}
        }
      ]
    },
    {
      "cell_type": "code",
      "source": [
        "sns.set(rc = {'figure.figsize':(9,9)})\n",
        "\n",
        "fig, ax = plt.subplots()\n",
        "ax.scatter(y_test_scaled, y_test_scaled_predicted_xgboost,  color='blue')\n",
        "ax.set_title(\"Scatter plot of Predicted vs. Actual Values \\n \\n xgboost regression on 2020 Testing data \\n\", fontsize=18)\n",
        "ax.set_xlabel(\"\\nActual Target Values\\n\", fontsize=14)\n",
        "ax.set_ylabel(\"\\nPredicted Target Values\\n\", fontsize=14)\n",
        "\n",
        "plt.show()"
      ],
      "metadata": {
        "colab": {
          "base_uri": "https://localhost:8080/",
          "height": 672
        },
        "id": "ayjop4K4aCyA",
        "outputId": "250e7c2a-ab5e-4730-a0a4-26cb09d9d6f7"
      },
      "execution_count": 89,
      "outputs": [
        {
          "output_type": "display_data",
          "data": {
            "text/plain": [
              "<Figure size 648x648 with 1 Axes>"
            ],
            "image/png": "[encoded data removed]"
          },
          "metadata": {}
        }
      ]
    },
    {
      "cell_type": "markdown",
      "source": [
        "### We can see an improvement in the performance of the model with an increaqse in Rsquared and a decrease in the Mean Ablosute Error values, however, the MSE remains fairly constant even with this model. "
      ],
      "metadata": {
        "id": "hcx6uHcmjcTE"
      }
    },
    {
      "cell_type": "code",
      "source": [
        "\n",
        "\n",
        "from sklearn.metrics import r2_score, mean_absolute_error, mean_squared_error\n",
        "\n",
        "print(\"R-Squared (test data with XGBoosted Model): \", round((r2_score(y_test_scaled, y_test_scaled_predicted_xgboost)*100), 2), '%\\n')\n",
        "print(\"R-Squared represents the fraction of response  variance captured by the model (a 'standardized' Mean Squared Error) \\n\\n\")\n",
        "\n",
        "print(\"Mean absolute error (MAE) (test data with XGBoosted Model): \", (mean_absolute_error(y_test_scaled, y_test_scaled_predicted_xgboost)),'\\n')\n",
        "\n",
        "print(\"Mean squared error (MSE) (test data with XGBoosted Model ): \", np.sqrt(mean_squared_error(y_test_scaled, y_test_scaled_predicted_xgboost)),'\\n')\n",
        "print(\"The larger value of the MSE on the test dataset indicates that the model is not performing great and that it is Overfitting\\n\\n\")\n",
        "\n"
      ],
      "metadata": {
        "id": "yDmfag2eiPlt",
        "colab": {
          "base_uri": "https://localhost:8080/"
        },
        "outputId": "5017d5da-3950-467e-ed28-46f1605b6d43"
      },
      "execution_count": 90,
      "outputs": [
        {
          "output_type": "stream",
          "name": "stdout",
          "text": [
            "R-Squared (test data with XGBoosted Model):  67.55 %\n",
            "\n",
            "R-Squared represents the fraction of response  variance captured by the model (a 'standardized' Mean Squared Error) \n",
            "\n",
            "\n",
            "Mean absolute error (MAE) (test data with XGBoosted Model):  0.310653571816722 \n",
            "\n",
            "Mean squared error (MSE) (test data with XGBoosted Model ):  1.039645732557313 \n",
            "\n",
            "The larger value of the MSE on the test dataset indicates that the model is not performing great and that it is Overfitting\n",
            "\n",
            "\n"
          ]
        }
      ]
    },
    {
      "cell_type": "markdown",
      "source": [
        "### CLustering  on 2020 data "
      ],
      "metadata": {
        "id": "R4oVemKIF6qP"
      }
    },
    {
      "cell_type": "code",
      "source": [
        "from sklearn.cluster import KMeans\n",
        "from sklearn.neighbors import NearestNeighbors\n",
        "from sklearn.pipeline import Pipeline\n",
        "from numpy import unique\n",
        "from numpy import where\n",
        "from sklearn.metrics import silhouette_score, mean_squared_error\n",
        "from sklearn.neighbors import KNeighborsClassifier\n",
        "from sklearn.metrics import classification_report\n",
        "from sklearn.metrics import confusion_matrix\n",
        "from sklearn.metrics import precision_recall_fscore_support\n",
        "\n",
        "from sklearn.metrics import multilabel_confusion_matrix"
      ],
      "metadata": {
        "id": "iTt6YuhpGDH1"
      },
      "execution_count": 91,
      "outputs": []
    },
    {
      "cell_type": "code",
      "source": [
        ""
      ],
      "metadata": {
        "id": "lqpaBJk59ra7"
      },
      "execution_count": 91,
      "outputs": []
    },
    {
      "cell_type": "code",
      "source": [
        "df_2020_2 = df.loc[lambda df:((df['YEAR']==2020)),:]\n",
        "df_2020cl=df_2020_2.copy(deep=False)"
      ],
      "metadata": {
        "id": "NZCTHCFt9iHd"
      },
      "execution_count": 92,
      "outputs": []
    },
    {
      "cell_type": "code",
      "source": [
        "df_2020cl.columns"
      ],
      "metadata": {
        "id": "6BST9ozy889n",
        "colab": {
          "base_uri": "https://localhost:8080/"
        },
        "outputId": "260d9ad8-3bbf-40cd-b05e-b26830500d63"
      },
      "execution_count": 93,
      "outputs": [
        {
          "output_type": "execute_result",
          "data": {
            "text/plain": [
              "Index(['YEAR', 'UNITID', 'STABBR', 'INSTNM', 'OBEREG', 'HDEGOFFR', 'GROFFER',\n",
              "       'HBCU', 'LOCALE', 'INSTCAT', 'INSTSIZE', 'CNTLAFFI', 'OPENADMP',\n",
              "       'CREDITS1', 'CREDITS2', 'CREDITS3', 'CREDITS4', 'SLO5', 'SLO6', 'SLO7',\n",
              "       'SLO83', 'STUSRV1', 'STUSRV2', 'STUSRV3', 'STUSRV4', 'STUSRV8',\n",
              "       'LIBRES1', 'ATHASSOC', 'APPLFEEU', 'TUITVARY', 'ROOM', 'BOARD',\n",
              "       'TUITPL', 'VET1', 'VET2', 'VET3', 'VET4', 'VET5', 'DSTNUGC', 'DSTNUGP',\n",
              "       'RMANDBRDAMT', 'ADMCON1', 'ADMCON2', 'ADMCON3', 'ADMCON4', 'ADMCON5',\n",
              "       'ADMCON6', 'ADMCON7', 'ADMCON8', 'ADMCON9', 'SATNUM', 'ACTNUM',\n",
              "       'EFYTOTLT'],\n",
              "      dtype='object')"
            ]
          },
          "metadata": {},
          "execution_count": 93
        }
      ]
    },
    {
      "cell_type": "code",
      "source": [
        "df_2020cl['OBEREG'].value_counts()"
      ],
      "metadata": {
        "id": "MJpU4fZ1Br2u",
        "colab": {
          "base_uri": "https://localhost:8080/"
        },
        "outputId": "5f189d45-b3af-45bd-eacc-369760b240d7"
      },
      "execution_count": 94,
      "outputs": [
        {
          "output_type": "execute_result",
          "data": {
            "text/plain": [
              "5    886\n",
              "2    560\n",
              "8    491\n",
              "3    475\n",
              "4    340\n",
              "6    323\n",
              "1    206\n",
              "7    115\n",
              "9     88\n",
              "0      4\n",
              "Name: OBEREG, dtype: int64"
            ]
          },
          "metadata": {},
          "execution_count": 94
        }
      ]
    },
    {
      "cell_type": "code",
      "source": [
        "df_2020cl = df_2020cl.loc[lambda df_2020cl:((df_2020cl['TUITVARY']!=-2)),:]"
      ],
      "metadata": {
        "id": "o8VcjDbtB1b4"
      },
      "execution_count": 95,
      "outputs": []
    },
    {
      "cell_type": "code",
      "source": [
        "df_2020cl = df_2020cl.loc[lambda df_2020cl:((df_2020cl['INSTSIZE']!=-1)),:]"
      ],
      "metadata": {
        "id": "gtgvJqsoDL1t"
      },
      "execution_count": 96,
      "outputs": []
    },
    {
      "cell_type": "code",
      "source": [
        "df_2020cl = df_2020cl.loc[lambda df_2020cl:((df_2020cl['OBEREG']!=0)),:]"
      ],
      "metadata": {
        "id": "W57Br4qyDhlx"
      },
      "execution_count": 97,
      "outputs": []
    },
    {
      "cell_type": "code",
      "source": [
        "df_2020cl = df_2020cl.loc[lambda df_2020cl:((df_2020cl['OBEREG']!=9)),:]"
      ],
      "metadata": {
        "id": "TgE-rsboD7WR"
      },
      "execution_count": 98,
      "outputs": []
    },
    {
      "cell_type": "markdown",
      "source": [
        "### For our clustering analysis let us reduce the number of columns eliminating columns that could be correlated: "
      ],
      "metadata": {
        "id": "en6GHJxPAWqa"
      }
    },
    {
      "cell_type": "code",
      "source": [
        "df_2020cl.drop(['YEAR', 'UNITID','INSTNM','GROFFER','DSTNUGP'], axis=1, inplace=True)"
      ],
      "metadata": {
        "id": "4uZJ9zSrCRVQ"
      },
      "execution_count": 99,
      "outputs": []
    },
    {
      "cell_type": "code",
      "source": [
        "df_2020cl.columns"
      ],
      "metadata": {
        "id": "CMij19LdXUYT",
        "colab": {
          "base_uri": "https://localhost:8080/"
        },
        "outputId": "00679446-ce38-4206-f592-983026c7576a"
      },
      "execution_count": 100,
      "outputs": [
        {
          "output_type": "execute_result",
          "data": {
            "text/plain": [
              "Index(['STABBR', 'OBEREG', 'HDEGOFFR', 'HBCU', 'LOCALE', 'INSTCAT', 'INSTSIZE',\n",
              "       'CNTLAFFI', 'OPENADMP', 'CREDITS1', 'CREDITS2', 'CREDITS3', 'CREDITS4',\n",
              "       'SLO5', 'SLO6', 'SLO7', 'SLO83', 'STUSRV1', 'STUSRV2', 'STUSRV3',\n",
              "       'STUSRV4', 'STUSRV8', 'LIBRES1', 'ATHASSOC', 'APPLFEEU', 'TUITVARY',\n",
              "       'ROOM', 'BOARD', 'TUITPL', 'VET1', 'VET2', 'VET3', 'VET4', 'VET5',\n",
              "       'DSTNUGC', 'RMANDBRDAMT', 'ADMCON1', 'ADMCON2', 'ADMCON3', 'ADMCON4',\n",
              "       'ADMCON5', 'ADMCON6', 'ADMCON7', 'ADMCON8', 'ADMCON9', 'SATNUM',\n",
              "       'ACTNUM', 'EFYTOTLT'],\n",
              "      dtype='object')"
            ]
          },
          "metadata": {},
          "execution_count": 100
        }
      ]
    },
    {
      "cell_type": "markdown",
      "source": [
        "### Just running  LazyPredict on the un-pre-processed data leads to fairly bad accuracy results as we can see"
      ],
      "metadata": {
        "id": "0PBblpXwX7Zg"
      }
    },
    {
      "cell_type": "code",
      "source": [
        "from lazypredict.Supervised import LazyClassifier\n",
        "# from sklearn.datasets import load_breast_cancer\n",
        "# from sklearn.model_selection import train_test_split\n",
        "\n",
        "X = df_2020cl.iloc[:, 1:]\n",
        "y = df_2020cl.iloc[:, :1]\n",
        "\n",
        "X_train, X_test, y_train, y_test = train_test_split(X, y,test_size=.3,random_state =42)\n",
        "\n",
        "clf = LazyClassifier(verbose=0,ignore_warnings=True, custom_metric=None)\n",
        "clf_models, clf_predictions = clf.fit(X_train, X_test, y_train, y_test)\n",
        "\n",
        "print(clf_models)"
      ],
      "metadata": {
        "id": "YAjKwqNnXIhK",
        "colab": {
          "base_uri": "https://localhost:8080/"
        },
        "outputId": "59d6bde4-1746-431c-f1a5-9845ad90782e"
      },
      "execution_count": 101,
      "outputs": [
        {
          "output_type": "stream",
          "name": "stderr",
          "text": [
            "100%|██████████| 29/29 [01:01<00:00,  2.11s/it]"
          ]
        },
        {
          "output_type": "stream",
          "name": "stdout",
          "text": [
            "                               Accuracy  Balanced Accuracy ROC AUC  F1 Score  \\\n",
            "Model                                                                          \n",
            "LGBMClassifier                     0.52               0.40    None      0.51   \n",
            "XGBClassifier                      0.50               0.39    None      0.49   \n",
            "BaggingClassifier                  0.48               0.37    None      0.46   \n",
            "RandomForestClassifier             0.47               0.31    None      0.44   \n",
            "DecisionTreeClassifier             0.40               0.31    None      0.41   \n",
            "ExtraTreesClassifier               0.44               0.30    None      0.42   \n",
            "LinearSVC                          0.33               0.25    None      0.30   \n",
            "GaussianNB                         0.15               0.23    None      0.11   \n",
            "SGDClassifier                      0.24               0.17    None      0.24   \n",
            "QuadraticDiscriminantAnalysis      0.38               0.16    None      0.30   \n",
            "LinearDiscriminantAnalysis         0.13               0.16    None      0.04   \n",
            "ExtraTreeClassifier                0.22               0.14    None      0.22   \n",
            "LabelSpreading                     0.20               0.14    None      0.21   \n",
            "LabelPropagation                   0.20               0.14    None      0.21   \n",
            "CalibratedClassifierCV             0.30               0.14    None      0.24   \n",
            "KNeighborsClassifier               0.23               0.13    None      0.21   \n",
            "SVC                                0.31               0.12    None      0.24   \n",
            "PassiveAggressiveClassifier        0.21               0.11    None      0.19   \n",
            "Perceptron                         0.19               0.10    None      0.17   \n",
            "BernoulliNB                        0.12               0.10    None      0.12   \n",
            "NearestCentroid                    0.07               0.10    None      0.07   \n",
            "RidgeClassifier                    0.23               0.08    None      0.14   \n",
            "RidgeClassifierCV                  0.23               0.08    None      0.14   \n",
            "AdaBoostClassifier                 0.20               0.06    None      0.12   \n",
            "DummyClassifier                    0.03               0.02    None      0.03   \n",
            "\n",
            "                               Time Taken  \n",
            "Model                                      \n",
            "LGBMClassifier                      10.26  \n",
            "XGBClassifier                       17.75  \n",
            "BaggingClassifier                    0.31  \n",
            "RandomForestClassifier               0.95  \n",
            "DecisionTreeClassifier               0.09  \n",
            "ExtraTreesClassifier                 0.87  \n",
            "LinearSVC                            4.96  \n",
            "GaussianNB                           0.06  \n",
            "SGDClassifier                        0.87  \n",
            "QuadraticDiscriminantAnalysis        0.16  \n",
            "LinearDiscriminantAnalysis           0.12  \n",
            "ExtraTreeClassifier                  0.04  \n",
            "LabelSpreading                       0.77  \n",
            "LabelPropagation                     0.44  \n",
            "CalibratedClassifierCV              18.22  \n",
            "KNeighborsClassifier                 0.23  \n",
            "SVC                                  1.59  \n",
            "PassiveAggressiveClassifier          0.33  \n",
            "Perceptron                           0.25  \n",
            "BernoulliNB                          0.06  \n",
            "NearestCentroid                      0.06  \n",
            "RidgeClassifier                      0.10  \n",
            "RidgeClassifierCV                    0.09  \n",
            "AdaBoostClassifier                   1.01  \n",
            "DummyClassifier                      0.04  \n"
          ]
        },
        {
          "output_type": "stream",
          "name": "stderr",
          "text": [
            "\n"
          ]
        }
      ]
    },
    {
      "cell_type": "code",
      "source": [
        " # Printing all model performances\n",
        "clf_models\n",
        "clf_models[\"Accuracy\"] = [0 if i < 0 else i for i in clf_models.iloc[:,0] ]\n",
        " \n",
        "plt.figure(figsize=(5, 10))\n",
        "sns.set_theme(style=\"whitegrid\")\n",
        "ax = sns.barplot(y=clf_models.index, x=\"Accuracy\", data=clf_models)\n",
        "ax.set(xlim=(0, 1))"
      ],
      "metadata": {
        "id": "JKiIonxRYXXq",
        "colab": {
          "base_uri": "https://localhost:8080/",
          "height": 628
        },
        "outputId": "41a3fd70-5806-40b1-fd40-9efa814a077b"
      },
      "execution_count": 102,
      "outputs": [
        {
          "output_type": "execute_result",
          "data": {
            "text/plain": [
              "[(0.0, 1.0)]"
            ]
          },
          "metadata": {},
          "execution_count": 102
        },
        {
          "output_type": "display_data",
          "data": {
            "text/plain": [
              "<Figure size 360x720 with 1 Axes>"
            ],
            "image/png": "[encoded data removed]"
          },
          "metadata": {}
        }
      ]
    },
    {
      "cell_type": "markdown",
      "source": [
        "### LaziPredict will pre-process the data autonomously. \n",
        "### Let us make sure that it knows which variables are categorical and which are not and re-run it to see if we get different outcomes "
      ],
      "metadata": {
        "id": "AX1ZOiUiaNXd"
      }
    },
    {
      "cell_type": "code",
      "source": [
        "\n",
        "df_2020cl['OBEREG'] = df_2020cl['OBEREG'].astype(str)\n",
        "df_2020cl['HDEGOFFR'] = df_2020cl['HDEGOFFR'].astype(str)\n",
        "# df_2020cl['GROFFER'] = df_2020cl['GROFFER'].astype(str)\n",
        "df_2020cl['HBCU'] = df_2020cl['HBCU'].astype(str)\n",
        "df_2020cl['LOCALE'] = df_2020cl['LOCALE'].astype(str)\n",
        "df_2020cl['INSTCAT'] = df_2020cl['INSTCAT'].astype(str)\n",
        "df_2020cl['INSTSIZE'] = df_2020cl['INSTSIZE'].astype(str)\n",
        "df_2020cl['CNTLAFFI'] = df_2020cl['CNTLAFFI'].astype(str)\n",
        "\n",
        "df_2020cl['OPENADMP'] = df_2020cl['OPENADMP'].astype(str)\n",
        "df_2020cl['CREDITS1'] = df_2020cl['CREDITS1'].astype(str)\n",
        "df_2020cl['CREDITS2'] = df_2020cl['CREDITS2'].astype(str)\n",
        "df_2020cl['CREDITS3'] = df_2020cl['CREDITS3'].astype(str)\n",
        "df_2020cl['CREDITS4'] = df_2020cl['CREDITS4'].astype(str)\n",
        "df_2020cl['SLO5'] = df_2020cl['SLO5'].astype(str)\n",
        "df_2020cl['SLO6'] = df_2020cl['SLO6'].astype(str)\n",
        "df_2020cl['SLO7'] = df_2020cl['SLO7'].astype(str)\n",
        "df_2020cl['SLO83'] = df_2020cl['SLO83'].astype(str)\n",
        "df_2020cl['STUSRV1'] = df_2020cl['STUSRV1'].astype(str)\n",
        "df_2020cl['STUSRV2'] = df_2020cl['STUSRV2'].astype(str)\n",
        "df_2020cl['STUSRV3'] = df_2020cl['STUSRV3'].astype(str)\n",
        "df_2020cl['STUSRV4'] = df_2020cl['STUSRV4'].astype(str)\n",
        "df_2020cl['STUSRV8'] = df_2020cl['STUSRV8'].astype(str)\n",
        "df_2020cl['LIBRES1'] = df_2020cl['LIBRES1'].astype(str)\n",
        "df_2020cl['ATHASSOC'] = df_2020cl['ATHASSOC'].astype(str)\n",
        "df_2020cl['TUITVARY'] = df_2020cl['TUITVARY'].astype(str)\n",
        "df_2020cl['ROOM'] = df_2020cl['ROOM'].astype(str)\n",
        "df_2020cl['BOARD'] = df_2020cl['BOARD'].astype(str)\n",
        "df_2020cl['TUITPL'] = df_2020cl['TUITPL'].astype(str)\n",
        "df_2020cl['VET1'] = df_2020cl['VET1'].astype(str)\n",
        "df_2020cl['VET2'] = df_2020cl['VET2'].astype(str)\n",
        "df_2020cl['VET3'] = df_2020cl['VET3'].astype(str)\n",
        "df_2020cl['VET4'] = df_2020cl['VET4'].astype(str)\n",
        "\n",
        "df_2020cl['VET5'] = df_2020cl['VET5'].astype(str)\n",
        "df_2020cl['DSTNUGC'] = df_2020cl['DSTNUGC'].astype(str)\n",
        "# df_2020_ok['DSTNUGP'] = df_2020_ok['DSTNUGP'].astype(str)\n",
        "df_2020cl['ADMCON1'] = df_2020cl['ADMCON1'].astype(str)\n",
        "\n",
        "df_2020cl['ADMCON2'] = df_2020cl['ADMCON2'].astype(str)\n",
        "df_2020cl['ADMCON3'] = df_2020cl['ADMCON3'].astype(str)\n",
        "df_2020cl['ADMCON4'] = df_2020cl['ADMCON4'].astype(str)\n",
        "df_2020cl['ADMCON5'] = df_2020cl['ADMCON5'].astype(str)\n",
        "df_2020cl['ADMCON6'] = df_2020cl['ADMCON6'].astype(str)\n",
        "df_2020cl['ADMCON7'] = df_2020cl['ADMCON7'].astype(str)\n",
        "df_2020cl['ADMCON8'] = df_2020cl['ADMCON8'].astype(str)\n",
        "df_2020cl['ADMCON9'] = df_2020cl['ADMCON9'].astype(str)\n"
      ],
      "metadata": {
        "id": "PqCSFMmK9nsW"
      },
      "execution_count": 103,
      "outputs": []
    },
    {
      "cell_type": "code",
      "source": [
        "# df_2020cl.info()"
      ],
      "metadata": {
        "id": "aveJeaB0AV0P"
      },
      "execution_count": 104,
      "outputs": []
    },
    {
      "cell_type": "code",
      "source": [
        "# https://scikit-learn.org/stable/modules/preprocessing_targets.html\n",
        "# https://towardsdatascience.com/comprehensive-guide-to-multiclass-classification-with-sklearn-127cc500f362\n",
        "\n",
        "le = preprocessing.LabelEncoder()\n",
        "le.fit(df_2020cl.iloc[:, :1])\n",
        "\n",
        "list(le.classes_)\n",
        "\n",
        "# y = le.transform(df_2020cl.iloc[:, :1]).values.flatten()\n",
        "y = le.transform(df_2020cl.iloc[:, :1]).flatten()\n",
        "\n",
        "# list(le.inverse_transform(y)) # To get back original values for y\n",
        "\n",
        "\n"
      ],
      "metadata": {
        "id": "VbOnwsCZV68Z"
      },
      "execution_count": 105,
      "outputs": []
    },
    {
      "cell_type": "code",
      "source": [
        "X = df_2020cl.iloc[:, 1:]\n",
        "# y = df_2020cl.iloc[:, :1]"
      ],
      "metadata": {
        "id": "mYfGEhUF870m"
      },
      "execution_count": 106,
      "outputs": []
    },
    {
      "cell_type": "code",
      "source": [
        "y"
      ],
      "metadata": {
        "id": "gm00X7VAXg0a",
        "colab": {
          "base_uri": "https://localhost:8080/"
        },
        "outputId": "2817f2a8-b96c-419e-d853-cc4f24a4dba5"
      },
      "execution_count": 107,
      "outputs": [
        {
          "output_type": "execute_result",
          "data": {
            "text/plain": [
              "array([ 1,  1,  1, ..., 38,  4,  4])"
            ]
          },
          "metadata": {},
          "execution_count": 107
        }
      ]
    },
    {
      "cell_type": "code",
      "source": [
        "X_train, X_test, y_train, y_test = train_test_split(X, y, test_size=0.30, random_state=42)"
      ],
      "metadata": {
        "id": "UTjHDXpx_JA9"
      },
      "execution_count": 108,
      "outputs": []
    },
    {
      "cell_type": "code",
      "source": [
        "X_train.columns"
      ],
      "metadata": {
        "id": "CeBUg-2SE8sr",
        "colab": {
          "base_uri": "https://localhost:8080/"
        },
        "outputId": "c0d4a266-4513-407c-de4c-0608c5639658"
      },
      "execution_count": 109,
      "outputs": [
        {
          "output_type": "execute_result",
          "data": {
            "text/plain": [
              "Index(['OBEREG', 'HDEGOFFR', 'HBCU', 'LOCALE', 'INSTCAT', 'INSTSIZE',\n",
              "       'CNTLAFFI', 'OPENADMP', 'CREDITS1', 'CREDITS2', 'CREDITS3', 'CREDITS4',\n",
              "       'SLO5', 'SLO6', 'SLO7', 'SLO83', 'STUSRV1', 'STUSRV2', 'STUSRV3',\n",
              "       'STUSRV4', 'STUSRV8', 'LIBRES1', 'ATHASSOC', 'APPLFEEU', 'TUITVARY',\n",
              "       'ROOM', 'BOARD', 'TUITPL', 'VET1', 'VET2', 'VET3', 'VET4', 'VET5',\n",
              "       'DSTNUGC', 'RMANDBRDAMT', 'ADMCON1', 'ADMCON2', 'ADMCON3', 'ADMCON4',\n",
              "       'ADMCON5', 'ADMCON6', 'ADMCON7', 'ADMCON8', 'ADMCON9', 'SATNUM',\n",
              "       'ACTNUM', 'EFYTOTLT'],\n",
              "      dtype='object')"
            ]
          },
          "metadata": {},
          "execution_count": 109
        }
      ]
    },
    {
      "cell_type": "code",
      "source": [
        "y_train.shape, y_test.shape"
      ],
      "metadata": {
        "id": "ZwjyczbjuJ2s",
        "colab": {
          "base_uri": "https://localhost:8080/"
        },
        "outputId": "52ca1931-90b8-44c2-e0fc-585f730511f4"
      },
      "execution_count": 110,
      "outputs": [
        {
          "output_type": "execute_result",
          "data": {
            "text/plain": [
              "((2245,), (963,))"
            ]
          },
          "metadata": {},
          "execution_count": 110
        }
      ]
    },
    {
      "cell_type": "code",
      "source": [
        "X_train.shape, X_test.shape"
      ],
      "metadata": {
        "id": "1V6WQYmZuMb_",
        "colab": {
          "base_uri": "https://localhost:8080/"
        },
        "outputId": "9cdd9590-02c9-4225-e1df-94977603d418"
      },
      "execution_count": 111,
      "outputs": [
        {
          "output_type": "execute_result",
          "data": {
            "text/plain": [
              "((2245, 47), (963, 47))"
            ]
          },
          "metadata": {},
          "execution_count": 111
        }
      ]
    },
    {
      "cell_type": "code",
      "source": [
        "\n",
        "clf1 = LazyClassifier(predictions=True, verbose=0,ignore_warnings=True, custom_metric=None)\n",
        "clf1_models, clf1_predictions = clf1.fit(X_train, X_test, y_train, y_test)\n",
        "\n",
        "# print(clf1_models)"
      ],
      "metadata": {
        "id": "dw1hDV4sasCl",
        "colab": {
          "base_uri": "https://localhost:8080/"
        },
        "outputId": "43d85eba-a724-4d5a-c656-08f171c954c3"
      },
      "execution_count": 112,
      "outputs": [
        {
          "output_type": "stream",
          "name": "stderr",
          "text": [
            "100%|██████████| 29/29 [01:15<00:00,  2.60s/it]\n"
          ]
        }
      ]
    },
    {
      "cell_type": "markdown",
      "source": [
        "### There really wasn't a great improvement in the classificiation results after making sure that the features would be interpreted correctly.\n",
        "\n",
        "### Also, note that the ROC AUC values are NONE because this is a multi-classification problem rather than  a two-class problem. \n",
        "\n",
        "### Unfortunately, the summary table does not include DBSCAN for us - in order to check on the performance of this classifier we will have to implment it seprately by hand "
      ],
      "metadata": {
        "id": "f9CqyDEUiiCZ"
      }
    },
    {
      "cell_type": "code",
      "source": [
        "clf1_models"
      ],
      "metadata": {
        "id": "C9ZIl8m5hwjc",
        "colab": {
          "base_uri": "https://localhost:8080/",
          "height": 864
        },
        "outputId": "cb9d4359-f541-4aaf-803a-ed07e05cd952"
      },
      "execution_count": 113,
      "outputs": [
        {
          "output_type": "execute_result",
          "data": {
            "text/plain": [
              "                               Accuracy  Balanced Accuracy ROC AUC  F1 Score  \\\n",
              "Model                                                                          \n",
              "LGBMClassifier                     0.51               0.40    None      0.49   \n",
              "XGBClassifier                      0.49               0.38    None      0.48   \n",
              "ExtraTreesClassifier               0.50               0.38    None      0.48   \n",
              "RandomForestClassifier             0.51               0.37    None      0.48   \n",
              "LinearSVC                          0.45               0.35    None      0.44   \n",
              "BaggingClassifier                  0.48               0.35    None      0.46   \n",
              "DecisionTreeClassifier             0.41               0.33    None      0.42   \n",
              "CalibratedClassifierCV             0.47               0.31    None      0.42   \n",
              "Perceptron                         0.37               0.31    None      0.36   \n",
              "PassiveAggressiveClassifier        0.42               0.31    None      0.37   \n",
              "SGDClassifier                      0.38               0.30    None      0.35   \n",
              "GaussianNB                         0.18               0.24    None      0.16   \n",
              "LabelPropagation                   0.27               0.22    None      0.27   \n",
              "LabelSpreading                     0.27               0.22    None      0.27   \n",
              "BernoulliNB                        0.23               0.21    None      0.23   \n",
              "ExtraTreeClassifier                0.32               0.21    None      0.32   \n",
              "RidgeClassifierCV                  0.43               0.20    None      0.32   \n",
              "RidgeClassifier                    0.43               0.20    None      0.32   \n",
              "SVC                                0.42               0.19    None      0.33   \n",
              "KNeighborsClassifier               0.28               0.19    None      0.27   \n",
              "LinearDiscriminantAnalysis         0.19               0.15    None      0.18   \n",
              "NearestCentroid                    0.10               0.12    None      0.11   \n",
              "QuadraticDiscriminantAnalysis      0.34               0.12    None      0.25   \n",
              "AdaBoostClassifier                 0.27               0.08    None      0.17   \n",
              "DummyClassifier                    0.03               0.02    None      0.03   \n",
              "\n",
              "                               Time Taken  \n",
              "Model                                      \n",
              "LGBMClassifier                      10.59  \n",
              "XGBClassifier                       40.38  \n",
              "ExtraTreesClassifier                 1.08  \n",
              "RandomForestClassifier               0.95  \n",
              "LinearSVC                            1.76  \n",
              "BaggingClassifier                    0.55  \n",
              "DecisionTreeClassifier               0.19  \n",
              "CalibratedClassifierCV               6.99  \n",
              "Perceptron                           0.66  \n",
              "PassiveAggressiveClassifier          0.95  \n",
              "SGDClassifier                        1.25  \n",
              "GaussianNB                           0.16  \n",
              "LabelPropagation                     0.55  \n",
              "LabelSpreading                       0.96  \n",
              "BernoulliNB                          0.16  \n",
              "ExtraTreeClassifier                  0.14  \n",
              "RidgeClassifierCV                    0.26  \n",
              "RidgeClassifier                      0.16  \n",
              "SVC                                  3.06  \n",
              "KNeighborsClassifier                 0.56  \n",
              "LinearDiscriminantAnalysis           0.29  \n",
              "NearestCentroid                      0.17  \n",
              "QuadraticDiscriminantAnalysis        0.33  \n",
              "AdaBoostClassifier                   0.90  \n",
              "DummyClassifier                      0.13  "
            ],
            "text/html": [
              "\n",
              "  <div id=\"df-71820edf-0468-403f-b03b-939e14d106da\">\n",
              "    <div class=\"colab-df-container\">\n",
              "      <div>\n",
              "<style scoped>\n",
              "    .dataframe tbody tr th:only-of-type {\n",
              "        vertical-align: middle;\n",
              "    }\n",
              "\n",
              "    .dataframe tbody tr th {\n",
              "        vertical-align: top;\n",
              "    }\n",
              "\n",
              "    .dataframe thead th {\n",
              "        text-align: right;\n",
              "    }\n",
              "</style>\n",
              "<table border=\"1\" class=\"dataframe\">\n",
              "  <thead>\n",
              "    <tr style=\"text-align: right;\">\n",
              "      <th></th>\n",
              "      <th>Accuracy</th>\n",
              "      <th>Balanced Accuracy</th>\n",
              "      <th>ROC AUC</th>\n",
              "      <th>F1 Score</th>\n",
              "      <th>Time Taken</th>\n",
              "    </tr>\n",
              "    <tr>\n",
              "      <th>Model</th>\n",
              "      <th></th>\n",
              "      <th></th>\n",
              "      <th></th>\n",
              "      <th></th>\n",
              "      <th></th>\n",
              "    </tr>\n",
              "  </thead>\n",
              "  <tbody>\n",
              "    <tr>\n",
              "      <th>LGBMClassifier</th>\n",
              "      <td>0.51</td>\n",
              "      <td>0.40</td>\n",
              "      <td>None</td>\n",
              "      <td>0.49</td>\n",
              "      <td>10.59</td>\n",
              "    </tr>\n",
              "    <tr>\n",
              "      <th>XGBClassifier</th>\n",
              "      <td>0.49</td>\n",
              "      <td>0.38</td>\n",
              "      <td>None</td>\n",
              "      <td>0.48</td>\n",
              "      <td>40.38</td>\n",
              "    </tr>\n",
              "    <tr>\n",
              "      <th>ExtraTreesClassifier</th>\n",
              "      <td>0.50</td>\n",
              "      <td>0.38</td>\n",
              "      <td>None</td>\n",
              "      <td>0.48</td>\n",
              "      <td>1.08</td>\n",
              "    </tr>\n",
              "    <tr>\n",
              "      <th>RandomForestClassifier</th>\n",
              "      <td>0.51</td>\n",
              "      <td>0.37</td>\n",
              "      <td>None</td>\n",
              "      <td>0.48</td>\n",
              "      <td>0.95</td>\n",
              "    </tr>\n",
              "    <tr>\n",
              "      <th>LinearSVC</th>\n",
              "      <td>0.45</td>\n",
              "      <td>0.35</td>\n",
              "      <td>None</td>\n",
              "      <td>0.44</td>\n",
              "      <td>1.76</td>\n",
              "    </tr>\n",
              "    <tr>\n",
              "      <th>BaggingClassifier</th>\n",
              "      <td>0.48</td>\n",
              "      <td>0.35</td>\n",
              "      <td>None</td>\n",
              "      <td>0.46</td>\n",
              "      <td>0.55</td>\n",
              "    </tr>\n",
              "    <tr>\n",
              "      <th>DecisionTreeClassifier</th>\n",
              "      <td>0.41</td>\n",
              "      <td>0.33</td>\n",
              "      <td>None</td>\n",
              "      <td>0.42</td>\n",
              "      <td>0.19</td>\n",
              "    </tr>\n",
              "    <tr>\n",
              "      <th>CalibratedClassifierCV</th>\n",
              "      <td>0.47</td>\n",
              "      <td>0.31</td>\n",
              "      <td>None</td>\n",
              "      <td>0.42</td>\n",
              "      <td>6.99</td>\n",
              "    </tr>\n",
              "    <tr>\n",
              "      <th>Perceptron</th>\n",
              "      <td>0.37</td>\n",
              "      <td>0.31</td>\n",
              "      <td>None</td>\n",
              "      <td>0.36</td>\n",
              "      <td>0.66</td>\n",
              "    </tr>\n",
              "    <tr>\n",
              "      <th>PassiveAggressiveClassifier</th>\n",
              "      <td>0.42</td>\n",
              "      <td>0.31</td>\n",
              "      <td>None</td>\n",
              "      <td>0.37</td>\n",
              "      <td>0.95</td>\n",
              "    </tr>\n",
              "    <tr>\n",
              "      <th>SGDClassifier</th>\n",
              "      <td>0.38</td>\n",
              "      <td>0.30</td>\n",
              "      <td>None</td>\n",
              "      <td>0.35</td>\n",
              "      <td>1.25</td>\n",
              "    </tr>\n",
              "    <tr>\n",
              "      <th>GaussianNB</th>\n",
              "      <td>0.18</td>\n",
              "      <td>0.24</td>\n",
              "      <td>None</td>\n",
              "      <td>0.16</td>\n",
              "      <td>0.16</td>\n",
              "    </tr>\n",
              "    <tr>\n",
              "      <th>LabelPropagation</th>\n",
              "      <td>0.27</td>\n",
              "      <td>0.22</td>\n",
              "      <td>None</td>\n",
              "      <td>0.27</td>\n",
              "      <td>0.55</td>\n",
              "    </tr>\n",
              "    <tr>\n",
              "      <th>LabelSpreading</th>\n",
              "      <td>0.27</td>\n",
              "      <td>0.22</td>\n",
              "      <td>None</td>\n",
              "      <td>0.27</td>\n",
              "      <td>0.96</td>\n",
              "    </tr>\n",
              "    <tr>\n",
              "      <th>BernoulliNB</th>\n",
              "      <td>0.23</td>\n",
              "      <td>0.21</td>\n",
              "      <td>None</td>\n",
              "      <td>0.23</td>\n",
              "      <td>0.16</td>\n",
              "    </tr>\n",
              "    <tr>\n",
              "      <th>ExtraTreeClassifier</th>\n",
              "      <td>0.32</td>\n",
              "      <td>0.21</td>\n",
              "      <td>None</td>\n",
              "      <td>0.32</td>\n",
              "      <td>0.14</td>\n",
              "    </tr>\n",
              "    <tr>\n",
              "      <th>RidgeClassifierCV</th>\n",
              "      <td>0.43</td>\n",
              "      <td>0.20</td>\n",
              "      <td>None</td>\n",
              "      <td>0.32</td>\n",
              "      <td>0.26</td>\n",
              "    </tr>\n",
              "    <tr>\n",
              "      <th>RidgeClassifier</th>\n",
              "      <td>0.43</td>\n",
              "      <td>0.20</td>\n",
              "      <td>None</td>\n",
              "      <td>0.32</td>\n",
              "      <td>0.16</td>\n",
              "    </tr>\n",
              "    <tr>\n",
              "      <th>SVC</th>\n",
              "      <td>0.42</td>\n",
              "      <td>0.19</td>\n",
              "      <td>None</td>\n",
              "      <td>0.33</td>\n",
              "      <td>3.06</td>\n",
              "    </tr>\n",
              "    <tr>\n",
              "      <th>KNeighborsClassifier</th>\n",
              "      <td>0.28</td>\n",
              "      <td>0.19</td>\n",
              "      <td>None</td>\n",
              "      <td>0.27</td>\n",
              "      <td>0.56</td>\n",
              "    </tr>\n",
              "    <tr>\n",
              "      <th>LinearDiscriminantAnalysis</th>\n",
              "      <td>0.19</td>\n",
              "      <td>0.15</td>\n",
              "      <td>None</td>\n",
              "      <td>0.18</td>\n",
              "      <td>0.29</td>\n",
              "    </tr>\n",
              "    <tr>\n",
              "      <th>NearestCentroid</th>\n",
              "      <td>0.10</td>\n",
              "      <td>0.12</td>\n",
              "      <td>None</td>\n",
              "      <td>0.11</td>\n",
              "      <td>0.17</td>\n",
              "    </tr>\n",
              "    <tr>\n",
              "      <th>QuadraticDiscriminantAnalysis</th>\n",
              "      <td>0.34</td>\n",
              "      <td>0.12</td>\n",
              "      <td>None</td>\n",
              "      <td>0.25</td>\n",
              "      <td>0.33</td>\n",
              "    </tr>\n",
              "    <tr>\n",
              "      <th>AdaBoostClassifier</th>\n",
              "      <td>0.27</td>\n",
              "      <td>0.08</td>\n",
              "      <td>None</td>\n",
              "      <td>0.17</td>\n",
              "      <td>0.90</td>\n",
              "    </tr>\n",
              "    <tr>\n",
              "      <th>DummyClassifier</th>\n",
              "      <td>0.03</td>\n",
              "      <td>0.02</td>\n",
              "      <td>None</td>\n",
              "      <td>0.03</td>\n",
              "      <td>0.13</td>\n",
              "    </tr>\n",
              "  </tbody>\n",
              "</table>\n",
              "</div>\n",
              "      <button class=\"colab-df-convert\" onclick=\"convertToInteractive('df-71820edf-0468-403f-b03b-939e14d106da')\"\n",
              "              title=\"Convert this dataframe to an interactive table.\"\n",
              "              style=\"display:none;\">\n",
              "        \n",
              "  <svg xmlns=\"http://www.w3.org/2000/svg\" height=\"24px\"viewBox=\"0 0 24 24\"\n",
              "       width=\"24px\">\n",
              "    <path d=\"M0 0h24v24H0V0z\" fill=\"none\"/>\n",
              "    <path d=\"M18.56 5.44l.94 2.06.94-2.06 2.06-.94-2.06-.94-.94-2.06-.94 2.06-2.06.94zm-11 1L8.5 8.5l.94-2.06 2.06-.94-2.06-.94L8.5 2.5l-.94 2.06-2.06.94zm10 10l.94 2.06.94-2.06 2.06-.94-2.06-.94-.94-2.06-.94 2.06-2.06.94z\"/><path d=\"M17.41 7.96l-1.37-1.37c-.4-.4-.92-.59-1.43-.59-.52 0-1.04.2-1.43.59L10.3 9.45l-7.72 7.72c-.78.78-.78 2.05 0 2.83L4 21.41c.39.39.9.59 1.41.59.51 0 1.02-.2 1.41-.59l7.78-7.78 2.81-2.81c.8-.78.8-2.07 0-2.86zM5.41 20L4 18.59l7.72-7.72 1.47 1.35L5.41 20z\"/>\n",
              "  </svg>\n",
              "      </button>\n",
              "      \n",
              "  <style>\n",
              "    .colab-df-container {\n",
              "      display:flex;\n",
              "      flex-wrap:wrap;\n",
              "      gap: 12px;\n",
              "    }\n",
              "\n",
              "    .colab-df-convert {\n",
              "      background-color: #E8F0FE;\n",
              "      border: none;\n",
              "      border-radius: 50%;\n",
              "      cursor: pointer;\n",
              "      display: none;\n",
              "      fill: #1967D2;\n",
              "      height: 32px;\n",
              "      padding: 0 0 0 0;\n",
              "      width: 32px;\n",
              "    }\n",
              "\n",
              "    .colab-df-convert:hover {\n",
              "      background-color: #E2EBFA;\n",
              "      box-shadow: 0px 1px 2px rgba(60, 64, 67, 0.3), 0px 1px 3px 1px rgba(60, 64, 67, 0.15);\n",
              "      fill: #174EA6;\n",
              "    }\n",
              "\n",
              "    [theme=dark] .colab-df-convert {\n",
              "      background-color: #3B4455;\n",
              "      fill: #D2E3FC;\n",
              "    }\n",
              "\n",
              "    [theme=dark] .colab-df-convert:hover {\n",
              "      background-color: #434B5C;\n",
              "      box-shadow: 0px 1px 3px 1px rgba(0, 0, 0, 0.15);\n",
              "      filter: drop-shadow(0px 1px 2px rgba(0, 0, 0, 0.3));\n",
              "      fill: #FFFFFF;\n",
              "    }\n",
              "  </style>\n",
              "\n",
              "      <script>\n",
              "        const buttonEl =\n",
              "          document.querySelector('#df-71820edf-0468-403f-b03b-939e14d106da button.colab-df-convert');\n",
              "        buttonEl.style.display =\n",
              "          google.colab.kernel.accessAllowed ? 'block' : 'none';\n",
              "\n",
              "        async function convertToInteractive(key) {\n",
              "          const element = document.querySelector('#df-71820edf-0468-403f-b03b-939e14d106da');\n",
              "          const dataTable =\n",
              "            await google.colab.kernel.invokeFunction('convertToInteractive',\n",
              "                                                     [key], {});\n",
              "          if (!dataTable) return;\n",
              "\n",
              "          const docLinkHtml = 'Like what you see? Visit the ' +\n",
              "            '<a target=\"_blank\" href=https://colab.research.google.com/notebooks/data_table.ipynb>data table notebook</a>'\n",
              "            + ' to learn more about interactive tables.';\n",
              "          element.innerHTML = '';\n",
              "          dataTable['output_type'] = 'display_data';\n",
              "          await google.colab.output.renderOutput(dataTable, element);\n",
              "          const docLink = document.createElement('div');\n",
              "          docLink.innerHTML = docLinkHtml;\n",
              "          element.appendChild(docLink);\n",
              "        }\n",
              "      </script>\n",
              "    </div>\n",
              "  </div>\n",
              "  "
            ]
          },
          "metadata": {},
          "execution_count": 113
        }
      ]
    },
    {
      "cell_type": "code",
      "source": [
        " # Printing all model performances\n",
        "# clf1_models\n",
        "clf1_models[\"Accuracy\"] = [0 if i < 0 else i for i in clf1_models.iloc[:,0] ]\n",
        " \n",
        "plt.figure(figsize=(5, 10))\n",
        "sns.set_theme(style=\"whitegrid\")\n",
        "ax = sns.barplot(y=clf1_models.index, x=\"Accuracy\", data=clf1_models)\n",
        "ax.set(xlim=(0, 1))"
      ],
      "metadata": {
        "id": "mM7nqUz1akRC",
        "colab": {
          "base_uri": "https://localhost:8080/",
          "height": 628
        },
        "outputId": "a7435497-21ad-4a29-860d-8e58eb25a899"
      },
      "execution_count": 114,
      "outputs": [
        {
          "output_type": "execute_result",
          "data": {
            "text/plain": [
              "[(0.0, 1.0)]"
            ]
          },
          "metadata": {},
          "execution_count": 114
        },
        {
          "output_type": "display_data",
          "data": {
            "text/plain": [
              "<Figure size 360x720 with 1 Axes>"
            ],
            "image/png": "[encoded data removed]"
          },
          "metadata": {}
        }
      ]
    },
    {
      "cell_type": "code",
      "source": [
        "# y_train"
      ],
      "metadata": {
        "id": "u9RzMDWhXCLg"
      },
      "execution_count": 115,
      "outputs": []
    },
    {
      "cell_type": "markdown",
      "source": [
        "### Before proceeding and to continue on our exploratory analysis, I decide to run the k-means algorithm on my data to see its general performance."
      ],
      "metadata": {
        "id": "E5BFW8rxE5lf"
      }
    },
    {
      "cell_type": "markdown",
      "source": [
        "### n of clusters = 50 (ie the Total number of US States )"
      ],
      "metadata": {
        "id": "8rjMckTcGoRd"
      }
    },
    {
      "cell_type": "code",
      "source": [
        "# https://scikit-learn.org/0.15/modules/model_evaluation.html\n",
        "# https://datascience.stackexchange.com/questions/93751/valueerror-classification-metrics-cant-handle-a-mix-of-multilabel-indicator-an\n",
        "\n",
        "numeric_features = ['APPLFEEU','RMANDBRDAMT','SATNUM','ACTNUM','EFYTOTLT']\n",
        "numeric_transformer = RobustScaler()\n",
        "\n",
        "\n",
        "categorical_features = ['OBEREG','HDEGOFFR', 'HBCU','LOCALE', 'INSTCAT', 'INSTSIZE', 'CNTLAFFI', 'OPENADMP', 'CREDITS1',\n",
        "                        'CREDITS2', 'CREDITS3', 'CREDITS4', 'SLO5', 'SLO6', 'SLO7', 'SLO83','STUSRV1', 'STUSRV2', 'STUSRV3', 'STUSRV4', 'STUSRV8', 'LIBRES1',\n",
        "                        'ATHASSOC','TUITVARY', 'ROOM', 'BOARD', 'TUITPL', 'VET1','VET2', 'VET3', 'VET4', 'VET5', 'DSTNUGC',  \n",
        "                        'ADMCON1', 'ADMCON2', 'ADMCON3', 'ADMCON4', 'ADMCON5', 'ADMCON6','ADMCON7', 'ADMCON8', 'ADMCON9']\n",
        "categorical_transformer = OneHotEncoder(categories='auto', handle_unknown=\"ignore\", sparse=False)\n",
        "\n",
        "scaler = ColumnTransformer(\n",
        "    transformers=[\n",
        "                  (\"num\", numeric_transformer, numeric_features),\n",
        "                  (\"cat\", categorical_transformer, categorical_features)\n",
        "                  ]\n",
        "                  )\n",
        "\n",
        "scaler_y = OneHotEncoder(categories='auto', handle_unknown=\"ignore\", sparse=False)\n",
        "\n",
        "X_train_scaled = scaler.fit_transform(X_train)\n",
        "X_test_scaled = scaler.transform(X_test)\n",
        "\n",
        "X_train_scaled1=pd.DataFrame(X_train_scaled)\n",
        "X_test_scaled1=pd.DataFrame(X_test_scaled)\n",
        "\n",
        "y_train_scaled = scaler_y.fit_transform(y_train.reshape(-1,1))\n",
        "y_test_scaled = scaler_y.transform(y_test.reshape(-1,1))\n",
        "\n",
        "y_train_scaled1=pd.DataFrame(y_train_scaled)\n",
        "y_test_scaled1=pd.DataFrame(y_test_scaled)\n",
        "\n",
        "\n",
        "# print('y_train_scaled1: ',y_train_scaled1.shape)\n",
        "# print('y_test_scaled1: ', y_test_scaled1.shape)\n",
        "# print('X_train_scaled1: ', X_train_scaled1.shape)\n",
        "# print('X_test_scaled1: ',X_test_scaled1.shape)\n",
        "# print('y_train: ',y_train.shape)\n",
        "# print('y_test: ', y_test.shape)\n",
        "\n",
        "k_means=KMeans(n_clusters=50,random_state=42)\n",
        "\n",
        "k_means.fit(X_train_scaled1,y_train_scaled1)\n",
        "\n",
        "ypred = k_means.predict(X_test_scaled1)\n",
        "\n",
        "\n",
        "y_test_scaled1 = scaler_y.inverse_transform(y_test_scaled1)\n",
        "print('Confusion Matrix')\n",
        "conf_matrx=multilabel_confusion_matrix(y_test_scaled1, ypred)\n",
        "print(conf_matrx)\n",
        "\n",
        "\n",
        "from sklearn.metrics import classification_report, confusion_matrix, accuracy_score\n",
        "# from sklearn.metrics import ConfusionMatrixDisplay\n",
        "# from sklearn import metrics\n",
        "\n",
        "result = multilabel_confusion_matrix(y_test_scaled1, ypred)\n",
        "print('Confusion Matrix: ')\n",
        "print(result)\n",
        "result1 = classification_report(y_test_scaled1, ypred)\n",
        "print('Classification Report: ',)\n",
        "print (result1)\n",
        "result2 = accuracy_score(y_test_scaled1, ypred)\n",
        "print('Accuracy: ',result2)\n"
      ],
      "metadata": {
        "id": "UmAawZSE_LEa",
        "colab": {
          "base_uri": "https://localhost:8080/"
        },
        "outputId": "e8f8d48b-2277-44b0-b8ee-eba56ba39f30"
      },
      "execution_count": 116,
      "outputs": [
        {
          "output_type": "stream",
          "name": "stdout",
          "text": [
            "Confusion Matrix\n",
            "[[[944  16]\n",
            "  [  3   0]]\n",
            "\n",
            " [[940   6]\n",
            "  [ 17   0]]\n",
            "\n",
            " [[948   3]\n",
            "  [ 12   0]]\n",
            "\n",
            " [[897  51]\n",
            "  [ 15   0]]\n",
            "\n",
            " [[854   9]\n",
            "  [100   0]]\n",
            "\n",
            " [[898  51]\n",
            "  [ 14   0]]\n",
            "\n",
            " [[948   4]\n",
            "  [ 10   1]]\n",
            "\n",
            " [[950  10]\n",
            "  [  3   0]]\n",
            "\n",
            " [[933  26]\n",
            "  [  4   0]]\n",
            "\n",
            " [[906  12]\n",
            "  [ 45   0]]\n",
            "\n",
            " [[930   0]\n",
            "  [ 33   0]]\n",
            "\n",
            " [[913  43]\n",
            "  [  7   0]]\n",
            "\n",
            " [[933  14]\n",
            "  [ 16   0]]\n",
            "\n",
            " [[959   1]\n",
            "  [  3   0]]\n",
            "\n",
            " [[928   1]\n",
            "  [ 34   0]]\n",
            "\n",
            " [[918  35]\n",
            "  [ 10   0]]\n",
            "\n",
            " [[911  34]\n",
            "  [ 17   1]]\n",
            "\n",
            " [[941   6]\n",
            "  [ 16   0]]\n",
            "\n",
            " [[916  37]\n",
            "  [  8   2]]\n",
            "\n",
            " [[926   4]\n",
            "  [ 33   0]]\n",
            "\n",
            " [[951   4]\n",
            "  [  8   0]]\n",
            "\n",
            " [[919  37]\n",
            "  [  6   1]]\n",
            "\n",
            " [[925   7]\n",
            "  [ 31   0]]\n",
            "\n",
            " [[928  13]\n",
            "  [ 22   0]]\n",
            "\n",
            " [[941   0]\n",
            "  [ 22   0]]\n",
            "\n",
            " [[893  59]\n",
            "  [ 11   0]]\n",
            "\n",
            " [[912  46]\n",
            "  [  5   0]]\n",
            "\n",
            " [[920   3]\n",
            "  [ 40   0]]\n",
            "\n",
            " [[935  22]\n",
            "  [  6   0]]\n",
            "\n",
            " [[953   1]\n",
            "  [  9   0]]\n",
            "\n",
            " [[924  34]\n",
            "  [  5   0]]\n",
            "\n",
            " [[920  23]\n",
            "  [ 20   0]]\n",
            "\n",
            " [[948   7]\n",
            "  [  8   0]]\n",
            "\n",
            " [[944  13]\n",
            "  [  6   0]]\n",
            "\n",
            " [[903   0]\n",
            "  [ 60   0]]\n",
            "\n",
            " [[865  52]\n",
            "  [ 45   1]]\n",
            "\n",
            " [[936  18]\n",
            "  [  9   0]]\n",
            "\n",
            " [[919  28]\n",
            "  [ 16   0]]\n",
            "\n",
            " [[909  17]\n",
            "  [ 34   3]]\n",
            "\n",
            " [[933  25]\n",
            "  [  5   0]]\n",
            "\n",
            " [[878  69]\n",
            "  [ 15   1]]\n",
            "\n",
            " [[920  36]\n",
            "  [  7   0]]\n",
            "\n",
            " [[931  13]\n",
            "  [ 19   0]]\n",
            "\n",
            " [[885  25]\n",
            "  [ 52   1]]\n",
            "\n",
            " [[932  26]\n",
            "  [  5   0]]\n",
            "\n",
            " [[930   5]\n",
            "  [ 28   0]]\n",
            "\n",
            " [[957   1]\n",
            "  [  5   0]]\n",
            "\n",
            " [[945   0]\n",
            "  [ 18   0]]\n",
            "\n",
            " [[944   0]\n",
            "  [ 19   0]]\n",
            "\n",
            " [[943   5]\n",
            "  [ 15   0]]\n",
            "\n",
            " [[962   0]\n",
            "  [  1   0]]]\n",
            "Confusion Matrix: \n",
            "[[[944  16]\n",
            "  [  3   0]]\n",
            "\n",
            " [[940   6]\n",
            "  [ 17   0]]\n",
            "\n",
            " [[948   3]\n",
            "  [ 12   0]]\n",
            "\n",
            " [[897  51]\n",
            "  [ 15   0]]\n",
            "\n",
            " [[854   9]\n",
            "  [100   0]]\n",
            "\n",
            " [[898  51]\n",
            "  [ 14   0]]\n",
            "\n",
            " [[948   4]\n",
            "  [ 10   1]]\n",
            "\n",
            " [[950  10]\n",
            "  [  3   0]]\n",
            "\n",
            " [[933  26]\n",
            "  [  4   0]]\n",
            "\n",
            " [[906  12]\n",
            "  [ 45   0]]\n",
            "\n",
            " [[930   0]\n",
            "  [ 33   0]]\n",
            "\n",
            " [[913  43]\n",
            "  [  7   0]]\n",
            "\n",
            " [[933  14]\n",
            "  [ 16   0]]\n",
            "\n",
            " [[959   1]\n",
            "  [  3   0]]\n",
            "\n",
            " [[928   1]\n",
            "  [ 34   0]]\n",
            "\n",
            " [[918  35]\n",
            "  [ 10   0]]\n",
            "\n",
            " [[911  34]\n",
            "  [ 17   1]]\n",
            "\n",
            " [[941   6]\n",
            "  [ 16   0]]\n",
            "\n",
            " [[916  37]\n",
            "  [  8   2]]\n",
            "\n",
            " [[926   4]\n",
            "  [ 33   0]]\n",
            "\n",
            " [[951   4]\n",
            "  [  8   0]]\n",
            "\n",
            " [[919  37]\n",
            "  [  6   1]]\n",
            "\n",
            " [[925   7]\n",
            "  [ 31   0]]\n",
            "\n",
            " [[928  13]\n",
            "  [ 22   0]]\n",
            "\n",
            " [[941   0]\n",
            "  [ 22   0]]\n",
            "\n",
            " [[893  59]\n",
            "  [ 11   0]]\n",
            "\n",
            " [[912  46]\n",
            "  [  5   0]]\n",
            "\n",
            " [[920   3]\n",
            "  [ 40   0]]\n",
            "\n",
            " [[935  22]\n",
            "  [  6   0]]\n",
            "\n",
            " [[953   1]\n",
            "  [  9   0]]\n",
            "\n",
            " [[924  34]\n",
            "  [  5   0]]\n",
            "\n",
            " [[920  23]\n",
            "  [ 20   0]]\n",
            "\n",
            " [[948   7]\n",
            "  [  8   0]]\n",
            "\n",
            " [[944  13]\n",
            "  [  6   0]]\n",
            "\n",
            " [[903   0]\n",
            "  [ 60   0]]\n",
            "\n",
            " [[865  52]\n",
            "  [ 45   1]]\n",
            "\n",
            " [[936  18]\n",
            "  [  9   0]]\n",
            "\n",
            " [[919  28]\n",
            "  [ 16   0]]\n",
            "\n",
            " [[909  17]\n",
            "  [ 34   3]]\n",
            "\n",
            " [[933  25]\n",
            "  [  5   0]]\n",
            "\n",
            " [[878  69]\n",
            "  [ 15   1]]\n",
            "\n",
            " [[920  36]\n",
            "  [  7   0]]\n",
            "\n",
            " [[931  13]\n",
            "  [ 19   0]]\n",
            "\n",
            " [[885  25]\n",
            "  [ 52   1]]\n",
            "\n",
            " [[932  26]\n",
            "  [  5   0]]\n",
            "\n",
            " [[930   5]\n",
            "  [ 28   0]]\n",
            "\n",
            " [[957   1]\n",
            "  [  5   0]]\n",
            "\n",
            " [[945   0]\n",
            "  [ 18   0]]\n",
            "\n",
            " [[944   0]\n",
            "  [ 19   0]]\n",
            "\n",
            " [[943   5]\n",
            "  [ 15   0]]\n",
            "\n",
            " [[962   0]\n",
            "  [  1   0]]]\n",
            "Classification Report: \n",
            "              precision    recall  f1-score   support\n",
            "\n",
            "           0       0.00      0.00      0.00         3\n",
            "           1       0.00      0.00      0.00        17\n",
            "           2       0.00      0.00      0.00        12\n",
            "           3       0.00      0.00      0.00        15\n",
            "           4       0.00      0.00      0.00       100\n",
            "           5       0.00      0.00      0.00        14\n",
            "           6       0.20      0.09      0.13        11\n",
            "           7       0.00      0.00      0.00         3\n",
            "           8       0.00      0.00      0.00         4\n",
            "           9       0.00      0.00      0.00        45\n",
            "          10       0.00      0.00      0.00        33\n",
            "          11       0.00      0.00      0.00         7\n",
            "          12       0.00      0.00      0.00        16\n",
            "          13       0.00      0.00      0.00         3\n",
            "          14       0.00      0.00      0.00        34\n",
            "          15       0.00      0.00      0.00        10\n",
            "          16       0.03      0.06      0.04        18\n",
            "          17       0.00      0.00      0.00        16\n",
            "          18       0.05      0.20      0.08        10\n",
            "          19       0.00      0.00      0.00        33\n",
            "          20       0.00      0.00      0.00         8\n",
            "          21       0.03      0.14      0.04         7\n",
            "          22       0.00      0.00      0.00        31\n",
            "          23       0.00      0.00      0.00        22\n",
            "          24       0.00      0.00      0.00        22\n",
            "          25       0.00      0.00      0.00        11\n",
            "          26       0.00      0.00      0.00         5\n",
            "          27       0.00      0.00      0.00        40\n",
            "          28       0.00      0.00      0.00         6\n",
            "          29       0.00      0.00      0.00         9\n",
            "          30       0.00      0.00      0.00         5\n",
            "          31       0.00      0.00      0.00        20\n",
            "          32       0.00      0.00      0.00         8\n",
            "          33       0.00      0.00      0.00         6\n",
            "          34       0.00      0.00      0.00        60\n",
            "          35       0.02      0.02      0.02        46\n",
            "          36       0.00      0.00      0.00         9\n",
            "          37       0.00      0.00      0.00        16\n",
            "          38       0.15      0.08      0.11        37\n",
            "          39       0.00      0.00      0.00         5\n",
            "          40       0.01      0.06      0.02        16\n",
            "          41       0.00      0.00      0.00         7\n",
            "          42       0.00      0.00      0.00        19\n",
            "          43       0.04      0.02      0.03        53\n",
            "          44       0.00      0.00      0.00         5\n",
            "          45       0.00      0.00      0.00        28\n",
            "          46       0.00      0.00      0.00         5\n",
            "          47       0.00      0.00      0.00        18\n",
            "          48       0.00      0.00      0.00        19\n",
            "          49       0.00      0.00      0.00        15\n",
            "          50       0.00      0.00      0.00         1\n",
            "\n",
            "    accuracy                           0.01       963\n",
            "   macro avg       0.01      0.01      0.01       963\n",
            "weighted avg       0.01      0.01      0.01       963\n",
            "\n",
            "Accuracy:  0.01142263759086189\n"
          ]
        }
      ]
    },
    {
      "cell_type": "code",
      "source": [
        "# https://scikit-learn.org/0.15/modules/model_evaluation.html\n",
        "# https://datascience.stackexchange.com/questions/93751/valueerror-classification-metrics-cant-handle-a-mix-of-multilabel-indicator-an\n",
        "\n",
        "numeric_features = ['APPLFEEU','RMANDBRDAMT','SATNUM','ACTNUM','EFYTOTLT']\n",
        "numeric_transformer = RobustScaler()\n",
        "\n",
        "\n",
        "categorical_features = ['OBEREG','HDEGOFFR', 'HBCU','LOCALE', 'INSTCAT', 'INSTSIZE', 'CNTLAFFI', 'OPENADMP', 'CREDITS1',\n",
        "                        'CREDITS2', 'CREDITS3', 'CREDITS4', 'SLO5', 'SLO6', 'SLO7', 'SLO83','STUSRV1', 'STUSRV2', 'STUSRV3', 'STUSRV4', 'STUSRV8', 'LIBRES1',\n",
        "                        'ATHASSOC','TUITVARY', 'ROOM', 'BOARD', 'TUITPL', 'VET1','VET2', 'VET3', 'VET4', 'VET5', 'DSTNUGC',  \n",
        "                        'ADMCON1', 'ADMCON2', 'ADMCON3', 'ADMCON4', 'ADMCON5', 'ADMCON6','ADMCON7', 'ADMCON8', 'ADMCON9']\n",
        "categorical_transformer = OneHotEncoder(categories='auto', handle_unknown=\"ignore\", sparse=False)\n",
        "\n",
        "scaler = ColumnTransformer(\n",
        "    transformers=[\n",
        "                  (\"num\", numeric_transformer, numeric_features),\n",
        "                  (\"cat\", categorical_transformer, categorical_features)\n",
        "                  ]\n",
        "                  )\n",
        "\n",
        "scaler_y = OneHotEncoder(categories='auto', handle_unknown=\"ignore\", sparse=False)\n",
        "\n",
        "X_train_scaled = scaler.fit_transform(X_train)\n",
        "X_test_scaled = scaler.transform(X_test)\n",
        "\n",
        "X_train_scaled1=pd.DataFrame(X_train_scaled)\n",
        "X_test_scaled1=pd.DataFrame(X_test_scaled)\n",
        "\n",
        "y_train_scaled = scaler_y.fit_transform(y_train.reshape(-1,1))\n",
        "y_test_scaled = scaler_y.transform(y_test.reshape(-1,1))\n",
        "\n",
        "y_train_scaled1=pd.DataFrame(y_train_scaled)\n",
        "y_test_scaled1=pd.DataFrame(y_test_scaled)\n",
        "\n",
        "\n",
        "# print('y_train_scaled1: ',y_train_scaled1.shape)\n",
        "# print('y_test_scaled1: ', y_test_scaled1.shape)\n",
        "# print('X_train_scaled1: ', X_train_scaled1.shape)\n",
        "# print('X_test_scaled1: ',X_test_scaled1.shape)\n",
        "# print('y_train: ',y_train.shape)\n",
        "# print('y_test: ', y_test.shape)\n",
        "\n",
        "k_means=KMeans(n_clusters=9,random_state=42)\n",
        "\n",
        "k_means.fit(X_train_scaled1,y_train_scaled1)\n",
        "\n",
        "ypred = k_means.predict(X_test_scaled1)\n",
        "\n",
        "\n",
        "y_test_scaled1 = scaler_y.inverse_transform(y_test_scaled1)\n",
        "\n",
        "\n",
        "result = multilabel_confusion_matrix(y_test_scaled1, ypred)\n",
        "print('Confusion Matrix: ')\n",
        "print(result)\n",
        "result1 = classification_report(y_test_scaled1, ypred)\n",
        "print('Classification Report: ',)\n",
        "print (result1)\n",
        "result2 = accuracy_score(y_test_scaled1, ypred)\n",
        "print('Accuracy: ',result2)\n",
        "\n",
        "\n",
        "\n",
        "# # ONLY emphasizes poor performance of the model \n",
        "# fig, ax = plt.subplots(figsize=(30, 30))\n",
        "# # Create the matrix\n",
        "# cm = confusion_matrix(y_test_scaled1, ypred)\n",
        "# cmp = ConfusionMatrixDisplay(cm)\n",
        "# cmp.plot(ax=ax)\n",
        "\n",
        "# plt.show();"
      ],
      "metadata": {
        "id": "6jwhAGraqU6S",
        "colab": {
          "base_uri": "https://localhost:8080/"
        },
        "outputId": "3e2130a2-ea98-49f6-d089-05cc415aea5c"
      },
      "execution_count": 119,
      "outputs": [
        {
          "output_type": "stream",
          "name": "stdout",
          "text": [
            "Confusion Matrix: \n",
            "[[[934  26]\n",
            "  [  3   0]]\n",
            "\n",
            " [[930  16]\n",
            "  [ 17   0]]\n",
            "\n",
            " [[514 437]\n",
            "  [  4   8]]\n",
            "\n",
            " [[944   4]\n",
            "  [ 15   0]]\n",
            "\n",
            " [[506 357]\n",
            "  [ 73  27]]\n",
            "\n",
            " [[885  64]\n",
            "  [ 12   2]]\n",
            "\n",
            " [[933  19]\n",
            "  [ 10   1]]\n",
            "\n",
            " [[958   2]\n",
            "  [  3   0]]\n",
            "\n",
            " [[959   0]\n",
            "  [  4   0]]\n",
            "\n",
            " [[918   0]\n",
            "  [ 45   0]]\n",
            "\n",
            " [[930   0]\n",
            "  [ 33   0]]\n",
            "\n",
            " [[956   0]\n",
            "  [  7   0]]\n",
            "\n",
            " [[947   0]\n",
            "  [ 16   0]]\n",
            "\n",
            " [[960   0]\n",
            "  [  3   0]]\n",
            "\n",
            " [[929   0]\n",
            "  [ 34   0]]\n",
            "\n",
            " [[953   0]\n",
            "  [ 10   0]]\n",
            "\n",
            " [[945   0]\n",
            "  [ 18   0]]\n",
            "\n",
            " [[947   0]\n",
            "  [ 16   0]]\n",
            "\n",
            " [[953   0]\n",
            "  [ 10   0]]\n",
            "\n",
            " [[930   0]\n",
            "  [ 33   0]]\n",
            "\n",
            " [[955   0]\n",
            "  [  8   0]]\n",
            "\n",
            " [[956   0]\n",
            "  [  7   0]]\n",
            "\n",
            " [[932   0]\n",
            "  [ 31   0]]\n",
            "\n",
            " [[941   0]\n",
            "  [ 22   0]]\n",
            "\n",
            " [[941   0]\n",
            "  [ 22   0]]\n",
            "\n",
            " [[952   0]\n",
            "  [ 11   0]]\n",
            "\n",
            " [[958   0]\n",
            "  [  5   0]]\n",
            "\n",
            " [[923   0]\n",
            "  [ 40   0]]\n",
            "\n",
            " [[957   0]\n",
            "  [  6   0]]\n",
            "\n",
            " [[954   0]\n",
            "  [  9   0]]\n",
            "\n",
            " [[958   0]\n",
            "  [  5   0]]\n",
            "\n",
            " [[943   0]\n",
            "  [ 20   0]]\n",
            "\n",
            " [[955   0]\n",
            "  [  8   0]]\n",
            "\n",
            " [[957   0]\n",
            "  [  6   0]]\n",
            "\n",
            " [[903   0]\n",
            "  [ 60   0]]\n",
            "\n",
            " [[917   0]\n",
            "  [ 46   0]]\n",
            "\n",
            " [[954   0]\n",
            "  [  9   0]]\n",
            "\n",
            " [[947   0]\n",
            "  [ 16   0]]\n",
            "\n",
            " [[926   0]\n",
            "  [ 37   0]]\n",
            "\n",
            " [[958   0]\n",
            "  [  5   0]]\n",
            "\n",
            " [[947   0]\n",
            "  [ 16   0]]\n",
            "\n",
            " [[956   0]\n",
            "  [  7   0]]\n",
            "\n",
            " [[944   0]\n",
            "  [ 19   0]]\n",
            "\n",
            " [[910   0]\n",
            "  [ 53   0]]\n",
            "\n",
            " [[958   0]\n",
            "  [  5   0]]\n",
            "\n",
            " [[935   0]\n",
            "  [ 28   0]]\n",
            "\n",
            " [[958   0]\n",
            "  [  5   0]]\n",
            "\n",
            " [[945   0]\n",
            "  [ 18   0]]\n",
            "\n",
            " [[944   0]\n",
            "  [ 19   0]]\n",
            "\n",
            " [[948   0]\n",
            "  [ 15   0]]\n",
            "\n",
            " [[962   0]\n",
            "  [  1   0]]]\n",
            "Classification Report: \n",
            "              precision    recall  f1-score   support\n",
            "\n",
            "           0       0.00      0.00      0.00         3\n",
            "           1       0.00      0.00      0.00        17\n",
            "           2       0.02      0.67      0.04        12\n",
            "           3       0.00      0.00      0.00        15\n",
            "           4       0.07      0.27      0.11       100\n",
            "           5       0.03      0.14      0.05        14\n",
            "           6       0.05      0.09      0.06        11\n",
            "           7       0.00      0.00      0.00         3\n",
            "           8       0.00      0.00      0.00         4\n",
            "           9       0.00      0.00      0.00        45\n",
            "          10       0.00      0.00      0.00        33\n",
            "          11       0.00      0.00      0.00         7\n",
            "          12       0.00      0.00      0.00        16\n",
            "          13       0.00      0.00      0.00         3\n",
            "          14       0.00      0.00      0.00        34\n",
            "          15       0.00      0.00      0.00        10\n",
            "          16       0.00      0.00      0.00        18\n",
            "          17       0.00      0.00      0.00        16\n",
            "          18       0.00      0.00      0.00        10\n",
            "          19       0.00      0.00      0.00        33\n",
            "          20       0.00      0.00      0.00         8\n",
            "          21       0.00      0.00      0.00         7\n",
            "          22       0.00      0.00      0.00        31\n",
            "          23       0.00      0.00      0.00        22\n",
            "          24       0.00      0.00      0.00        22\n",
            "          25       0.00      0.00      0.00        11\n",
            "          26       0.00      0.00      0.00         5\n",
            "          27       0.00      0.00      0.00        40\n",
            "          28       0.00      0.00      0.00         6\n",
            "          29       0.00      0.00      0.00         9\n",
            "          30       0.00      0.00      0.00         5\n",
            "          31       0.00      0.00      0.00        20\n",
            "          32       0.00      0.00      0.00         8\n",
            "          33       0.00      0.00      0.00         6\n",
            "          34       0.00      0.00      0.00        60\n",
            "          35       0.00      0.00      0.00        46\n",
            "          36       0.00      0.00      0.00         9\n",
            "          37       0.00      0.00      0.00        16\n",
            "          38       0.00      0.00      0.00        37\n",
            "          39       0.00      0.00      0.00         5\n",
            "          40       0.00      0.00      0.00        16\n",
            "          41       0.00      0.00      0.00         7\n",
            "          42       0.00      0.00      0.00        19\n",
            "          43       0.00      0.00      0.00        53\n",
            "          44       0.00      0.00      0.00         5\n",
            "          45       0.00      0.00      0.00        28\n",
            "          46       0.00      0.00      0.00         5\n",
            "          47       0.00      0.00      0.00        18\n",
            "          48       0.00      0.00      0.00        19\n",
            "          49       0.00      0.00      0.00        15\n",
            "          50       0.00      0.00      0.00         1\n",
            "\n",
            "    accuracy                           0.04       963\n",
            "   macro avg       0.00      0.02      0.01       963\n",
            "weighted avg       0.01      0.04      0.01       963\n",
            "\n",
            "Accuracy:  0.03946002076843198\n"
          ]
        }
      ]
    }
  ],
  "metadata": {
    "colab": {
      "collapsed_sections": [
        "HkHMI3uX50cW"
      ],
      "name": "Data606-Part3__2020Data_ML_v1_03-27-2022.ipynb",
      "provenance": []
    },
    "kernelspec": {
      "display_name": "Python 3",
      "name": "python3"
    },
    "language_info": {
      "name": "python"
    }
  },
  "nbformat": 4,
  "nbformat_minor": 0
}